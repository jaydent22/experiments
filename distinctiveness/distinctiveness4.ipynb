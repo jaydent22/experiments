{
 "cells": [
  {
   "cell_type": "markdown",
   "metadata": {},
   "source": [
    "# Distinctiveness 4\n",
    "\n",
    "This experiment involves distinctiveness classification using a degree 2 polynomial SVC on feature maps generated from pywhaleid."
   ]
  },
  {
   "cell_type": "code",
   "execution_count": 55,
   "metadata": {},
   "outputs": [],
   "source": [
    "import pandas as pd\n",
    "from sklearn.model_selection import cross_val_predict, StratifiedKFold\n",
    "from sklearn.svm import SVC\n",
    "from sklearn.preprocessing import StandardScaler\n",
    "from sklearn.metrics import classification_report, ConfusionMatrixDisplay, confusion_matrix\n",
    "import matplotlib.pyplot as plt\n",
    "from time import time\n",
    "import numpy as np"
   ]
  },
  {
   "cell_type": "code",
   "execution_count": 56,
   "metadata": {},
   "outputs": [],
   "source": [
    "# get features and labels\n",
    "data = pd.read_pickle('pifsc_embeddings2.pickle')\n",
    "features = dict(data)\n",
    "data = pd.read_pickle('pifsc_embeddings.pkl')\n",
    "features.update(data)\n",
    "\n",
    "cols = [\"species\",\"image\",\"distinctiveness\",\"quality\"]\n",
    "labels1 = pd.read_csv('pifsc_labels_detail.csv')[cols]\n",
    "\n",
    "cols = [\"species\",\"filename\",\"distinctiveness\",\"quality\"]\n",
    "labels2 = pd.read_csv('pifsc_labels2.csv')[cols]\n",
    "labels2.columns = [\"species\",\"image\",\"distinctiveness\",\"quality\"]\n",
    "\n",
    "labels = pd.concat([labels1, labels2]).reset_index(drop=True)"
   ]
  },
  {
   "cell_type": "code",
   "execution_count": 57,
   "metadata": {},
   "outputs": [],
   "source": [
    "# clean labels\n",
    "is_na = labels.distinctiveness.isna()\n",
    "labels = labels.loc[~is_na]\n",
    "labels = labels.drop_duplicates(subset='image', keep='first')\n",
    "# labels.reset_index(drop=False, inplace=True)\n",
    "\n",
    "# clean features\n",
    "imgs = labels.image.tolist()\n",
    "features = {k: v for k, v in features.items() if k in imgs}\n",
    "assert len(features) == len(labels)"
   ]
  },
  {
   "cell_type": "code",
   "execution_count": 58,
   "metadata": {},
   "outputs": [],
   "source": [
    "# get data, split\n",
    "Y = labels.distinctiveness\n",
    "X = np.array([features[i] for i in labels.image])\n",
    "# species = labels.species.astype('category').cat.codes\n",
    "# X = np.insert(X, 0, species, axis=1)\n",
    "sc = StandardScaler()\n",
    "X = sc.fit_transform(X)\n",
    "# X_train, X_test, Y_train, Y_test = train_test_split(X, Y, random_state=42, stratify=Y)"
   ]
  },
  {
   "cell_type": "code",
   "execution_count": 59,
   "metadata": {},
   "outputs": [],
   "source": [
    "clf = SVC(class_weight='balanced', random_state=42, kernel='poly', degree=2)\n",
    "cv = StratifiedKFold(n_splits=5, shuffle=True, random_state=42)\n",
    "# for clf in classifiers:\n",
    "#     clf.fit(X_train, Y_train)"
   ]
  },
  {
   "cell_type": "code",
   "execution_count": 60,
   "metadata": {},
   "outputs": [
    {
     "name": "stdout",
     "output_type": "stream",
     "text": [
      "------------------------deg=2------------------------\n",
      "              precision    recall  f1-score   support\n",
      "\n",
      "         1.0       0.92      0.89      0.91      1152\n",
      "         2.0       0.94      0.96      0.95      2343\n",
      "         3.0       0.74      0.57      0.64        44\n",
      "         4.0       0.91      0.57      0.70        37\n",
      "\n",
      "    accuracy                           0.93      3576\n",
      "   macro avg       0.88      0.75      0.80      3576\n",
      "weighted avg       0.93      0.93      0.93      3576\n",
      "\n"
     ]
    }
   ],
   "source": [
    "pred = cross_val_predict(clf, X, Y, n_jobs=-1, cv=cv)\n",
    "print(f'deg={clf.degree}'.center(53, '-'))\n",
    "print(classification_report(Y, pred))"
   ]
  },
  {
   "cell_type": "code",
   "execution_count": 61,
   "metadata": {},
   "outputs": [
    {
     "data": {
      "image/png": "[encoded data removed]",
      "text/plain": [
       "<Figure size 640x480 with 2 Axes>"
      ]
     },
     "metadata": {},
     "output_type": "display_data"
    }
   ],
   "source": [
    "# results\n",
    "# fig, axes = plt.subplots(1, 2)\n",
    "# for i, (clf, ax) in enumerate(zip(classifiers, axes.flatten())):\n",
    "cm = confusion_matrix(Y, pred)\n",
    "disp = ConfusionMatrixDisplay(confusion_matrix=cm, display_labels=[1,2,3,4])\n",
    "disp.plot()\n",
    "plt.tight_layout()"
   ]
  },
  {
   "cell_type": "code",
   "execution_count": 62,
   "metadata": {},
   "outputs": [
    {
     "name": "stdout",
     "output_type": "stream",
     "text": [
      "distinctiveness\n",
      "2.0    2343\n",
      "1.0    1152\n",
      "3.0      44\n",
      "4.0      37\n",
      "Name: count, dtype: int64\n"
     ]
    }
   ],
   "source": [
    "print(Y.value_counts())"
   ]
  },
  {
   "cell_type": "markdown",
   "metadata": {},
   "source": []
  }
 ],
 "metadata": {
  "kernelspec": {
   "display_name": "Python 3",
   "language": "python",
   "name": "python3"
  },
  "language_info": {
   "codemirror_mode": {
    "name": "ipython",
    "version": 3
   },
   "file_extension": ".py",
   "mimetype": "text/x-python",
   "name": "python",
   "nbconvert_exporter": "python",
   "pygments_lexer": "ipython3",
   "version": "3.12.1"
  }
 },
 "nbformat": 4,
 "nbformat_minor": 2
}
