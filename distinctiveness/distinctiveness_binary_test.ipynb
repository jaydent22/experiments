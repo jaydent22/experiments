{
 "cells": [
  {
   "cell_type": "code",
   "execution_count": 1,
   "metadata": {},
   "outputs": [
    {
     "name": "stderr",
     "output_type": "stream",
     "text": [
      "/var/folders/4b/f86rqqqj3rg8vczy4jw34t6r0000gn/T/ipykernel_7303/937558388.py:1: DeprecationWarning: \n",
      "Pyarrow will become a required dependency of pandas in the next major release of pandas (pandas 3.0),\n",
      "(to allow more performant data types, such as the Arrow string type, and better interoperability with other libraries)\n",
      "but was not found to be installed on your system.\n",
      "If this would cause problems for you,\n",
      "please provide us feedback at https://github.com/pandas-dev/pandas/issues/54466\n",
      "        \n",
      "  import pandas as pd\n"
     ]
    }
   ],
   "source": [
    "import pandas as pd\n",
    "from sklearn.model_selection import cross_val_predict, StratifiedKFold\n",
    "from sklearn.svm import SVC\n",
    "from sklearn.preprocessing import StandardScaler\n",
    "from sklearn.metrics import classification_report, ConfusionMatrixDisplay, confusion_matrix\n",
    "import matplotlib.pyplot as plt\n",
    "from time import time\n",
    "import numpy as np"
   ]
  },
  {
   "cell_type": "code",
   "execution_count": 2,
   "metadata": {},
   "outputs": [],
   "source": [
    "# get features and labels\n",
    "data = pd.read_pickle('pifsc_embeddings2.pickle')\n",
    "features = dict(data)\n",
    "data = pd.read_pickle('pifsc_embeddings.pkl')\n",
    "features.update(data)\n",
    "\n",
    "cols = [\"species\",\"image\",\"distinctiveness\",\"quality\"]\n",
    "labels1 = pd.read_csv('pifsc_labels_detail.csv')[cols]\n",
    "\n",
    "cols = [\"species\",\"filename\",\"distinctiveness\",\"quality\"]\n",
    "labels2 = pd.read_csv('pifsc_labels2.csv')[cols]\n",
    "labels2.columns = [\"species\",\"image\",\"distinctiveness\",\"quality\"]\n",
    "\n",
    "labels = pd.concat([labels1, labels2]).reset_index(drop=True)"
   ]
  },
  {
   "cell_type": "code",
   "execution_count": 3,
   "metadata": {},
   "outputs": [],
   "source": [
    "# clean labels\n",
    "is_na = labels.distinctiveness.isna()\n",
    "labels = labels.loc[~is_na]\n",
    "labels = labels.drop_duplicates(subset='image', keep='first')\n",
    "# labels.reset_index(drop=False, inplace=True)\n",
    "\n",
    "# clean features\n",
    "imgs = labels.image.tolist()\n",
    "features = {k: v for k, v in features.items() if k in imgs}\n",
    "assert len(features) == len(labels)"
   ]
  },
  {
   "cell_type": "code",
   "execution_count": 4,
   "metadata": {},
   "outputs": [
    {
     "name": "stdout",
     "output_type": "stream",
     "text": [
      "distinctiveness\n",
      "2.0    2343\n",
      "1.0    1152\n",
      "3.0      44\n",
      "4.0      37\n",
      "Name: count, dtype: int64\n",
      "distinctiveness\n",
      "1.0    3495\n",
      "0.0      81\n",
      "Name: count, dtype: int64\n"
     ]
    }
   ],
   "source": [
    "# binary labeling\n",
    "print(labels.distinctiveness.value_counts())\n",
    "for index, row in labels.iterrows():\n",
    "    if row.distinctiveness == 2:\n",
    "        labels.at[index, 'distinctiveness'] = 1\n",
    "    if row.distinctiveness == 4 or row.distinctiveness == 3:\n",
    "        labels.at[index, 'distinctiveness'] = 0\n",
    "print(labels.distinctiveness.value_counts())"
   ]
  },
  {
   "cell_type": "code",
   "execution_count": 5,
   "metadata": {},
   "outputs": [],
   "source": [
    "# get data, split\n",
    "Y = labels.distinctiveness\n",
    "X = np.array([features[i] for i in labels.image])\n",
    "# species = labels.species.astype('category').cat.codes\n",
    "# X = np.insert(X, 0, species, axis=1)\n",
    "sc = StandardScaler()\n",
    "X = sc.fit_transform(X)\n",
    "# X_train, X_test, Y_train, Y_test = train_test_split(X, Y, random_state=42, stratify=Y)"
   ]
  },
  {
   "cell_type": "code",
   "execution_count": 6,
   "metadata": {},
   "outputs": [],
   "source": [
    "clf = SVC(class_weight='balanced', random_state=42, kernel='poly', degree=2)\n",
    "cv = StratifiedKFold(n_splits=5, shuffle=True, random_state=42)\n",
    "# for clf in classifiers:\n",
    "#     clf.fit(X_train, Y_train)"
   ]
  },
  {
   "cell_type": "code",
   "execution_count": 7,
   "metadata": {},
   "outputs": [
    {
     "name": "stdout",
     "output_type": "stream",
     "text": [
      "------------------------deg=2------------------------\n",
      "              precision    recall  f1-score   support\n",
      "\n",
      "         0.0       0.82      0.63      0.71        81\n",
      "         1.0       0.99      1.00      0.99      3495\n",
      "\n",
      "    accuracy                           0.99      3576\n",
      "   macro avg       0.91      0.81      0.85      3576\n",
      "weighted avg       0.99      0.99      0.99      3576\n",
      "\n"
     ]
    }
   ],
   "source": [
    "pred = cross_val_predict(clf, X, Y, n_jobs=-1, cv=cv)\n",
    "print(f'deg={clf.degree}'.center(53, '-'))\n",
    "print(classification_report(Y, pred))"
   ]
  },
  {
   "cell_type": "code",
   "execution_count": 10,
   "metadata": {},
   "outputs": [
    {
     "data": {
      "image/png": "[encoded data removed]",
      "text/plain": [
       "<Figure size 640x480 with 2 Axes>"
      ]
     },
     "metadata": {},
     "output_type": "display_data"
    }
   ],
   "source": [
    "# results\n",
    "# fig, axes = plt.subplots(1, 2)\n",
    "# for i, (clf, ax) in enumerate(zip(classifiers, axes.flatten())):\n",
    "cm = confusion_matrix(Y, pred)\n",
    "disp = ConfusionMatrixDisplay(confusion_matrix=cm)\n",
    "disp.plot()\n",
    "plt.tight_layout()"
   ]
  },
  {
   "cell_type": "code",
   "execution_count": 9,
   "metadata": {},
   "outputs": [
    {
     "name": "stdout",
     "output_type": "stream",
     "text": [
      "distinctiveness\n",
      "1.0    3495\n",
      "0.0      81\n",
      "Name: count, dtype: int64\n"
     ]
    }
   ],
   "source": [
    "print(Y.value_counts())"
   ]
  },
  {
   "cell_type": "markdown",
   "metadata": {},
   "source": []
  }
 ],
 "metadata": {
  "kernelspec": {
   "display_name": "Python 3",
   "language": "python",
   "name": "python3"
  },
  "language_info": {
   "codemirror_mode": {
    "name": "ipython",
    "version": 3
   },
   "file_extension": ".py",
   "mimetype": "text/x-python",
   "name": "python",
   "nbconvert_exporter": "python",
   "pygments_lexer": "ipython3",
   "version": "3.12.1"
  }
 },
 "nbformat": 4,
 "nbformat_minor": 2
}
