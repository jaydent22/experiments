{
 "cells": [
  {
   "cell_type": "markdown",
   "id": "3f9bae4b-2582-4fc2-a392-ca1a1b70f817",
   "metadata": {},
   "source": [
    "# ImageNet Fine Tuning Binary Classification With Large Images\n",
    "This experiment will involve fine-tuning the pretrained Xception model on larger images (256x256). Labels will be binarized and compared to the performance of near-identical multiclass classifier."
   ]
  },
  {
   "cell_type": "markdown",
   "id": "1b1685eb-c890-4b60-bec5-734670253713",
   "metadata": {
    "jp-MarkdownHeadingCollapsed": true
   },
   "source": [
    "## Setup"
   ]
  },
  {
   "cell_type": "code",
   "execution_count": 1,
   "id": "a056baa1-f30b-421d-853a-7c49415cce8b",
   "metadata": {
    "scrolled": true
   },
   "outputs": [
    {
     "name": "stdout",
     "output_type": "stream",
     "text": [
      "Sat Sep  7 18:05:05 2024       \n",
      "+-----------------------------------------------------------------------------------------+\n",
      "| NVIDIA-SMI 555.42.06              Driver Version: 555.42.06      CUDA Version: 12.5     |\n",
      "|-----------------------------------------+------------------------+----------------------+\n",
      "| GPU  Name                 Persistence-M | Bus-Id          Disp.A | Volatile Uncorr. ECC |\n",
      "| Fan  Temp   Perf          Pwr:Usage/Cap |           Memory-Usage | GPU-Util  Compute M. |\n",
      "|                                         |                        |               MIG M. |\n",
      "|=========================================+========================+======================|\n",
      "|   0  Tesla V100-SXM2-32GB           On  |   00000000:16:00.0 Off |                    0 |\n",
      "| N/A   37C    P0             41W /  300W |       1MiB /  32768MiB |      0%      Default |\n",
      "|                                         |                        |                  N/A |\n",
      "+-----------------------------------------+------------------------+----------------------+\n",
      "                                                                                         \n",
      "+-----------------------------------------------------------------------------------------+\n",
      "| Processes:                                                                              |\n",
      "|  GPU   GI   CI        PID   Type   Process name                              GPU Memory |\n",
      "|        ID   ID                                                               Usage      |\n",
      "|=========================================================================================|\n",
      "|  No running processes found                                                             |\n",
      "+-----------------------------------------------------------------------------------------+\n"
     ]
    }
   ],
   "source": [
    "!nvidia-smi"
   ]
  },
  {
   "cell_type": "code",
   "execution_count": 2,
   "id": "69d03b21-6b53-45ad-9f5c-4f173921839f",
   "metadata": {},
   "outputs": [
    {
     "name": "stdout",
     "output_type": "stream",
     "text": [
      "Defaulting to user installation because normal site-packages is not writeable\n",
      "Requirement already satisfied: pip in ./.local/lib/python3.11/site-packages (24.2)\n"
     ]
    }
   ],
   "source": [
    "!pip install --upgrade pip"
   ]
  },
  {
   "cell_type": "code",
   "execution_count": 3,
   "id": "31277d65-3e78-4c60-b1c2-739a4fefb2ba",
   "metadata": {
    "scrolled": true
   },
   "outputs": [
    {
     "name": "stdout",
     "output_type": "stream",
     "text": [
      "Defaulting to user installation because normal site-packages is not writeable\n",
      "Requirement already satisfied: tensorflow[and-cuda] in ./.local/lib/python3.11/site-packages (2.17.0)\n",
      "Requirement already satisfied: absl-py>=1.0.0 in ./.local/lib/python3.11/site-packages (from tensorflow[and-cuda]) (2.1.0)\n",
      "Requirement already satisfied: astunparse>=1.6.0 in ./.local/lib/python3.11/site-packages (from tensorflow[and-cuda]) (1.6.3)\n",
      "Requirement already satisfied: flatbuffers>=24.3.25 in ./.local/lib/python3.11/site-packages (from tensorflow[and-cuda]) (24.3.25)\n",
      "Requirement already satisfied: gast!=0.5.0,!=0.5.1,!=0.5.2,>=0.2.1 in ./.local/lib/python3.11/site-packages (from tensorflow[and-cuda]) (0.6.0)\n",
      "Requirement already satisfied: google-pasta>=0.1.1 in ./.local/lib/python3.11/site-packages (from tensorflow[and-cuda]) (0.2.0)\n",
      "Requirement already satisfied: h5py>=3.10.0 in ./.local/lib/python3.11/site-packages (from tensorflow[and-cuda]) (3.11.0)\n",
      "Requirement already satisfied: libclang>=13.0.0 in ./.local/lib/python3.11/site-packages (from tensorflow[and-cuda]) (18.1.1)\n",
      "Requirement already satisfied: ml-dtypes<0.5.0,>=0.3.1 in ./.local/lib/python3.11/site-packages (from tensorflow[and-cuda]) (0.4.0)\n",
      "Requirement already satisfied: opt-einsum>=2.3.2 in ./.local/lib/python3.11/site-packages (from tensorflow[and-cuda]) (3.3.0)\n",
      "Requirement already satisfied: packaging in /opt/apps/software/lang/Anaconda3/2024.02-1/lib/python3.11/site-packages (from tensorflow[and-cuda]) (23.2)\n",
      "Requirement already satisfied: protobuf!=4.21.0,!=4.21.1,!=4.21.2,!=4.21.3,!=4.21.4,!=4.21.5,<5.0.0dev,>=3.20.3 in ./.local/lib/python3.11/site-packages (from tensorflow[and-cuda]) (4.25.4)\n",
      "Requirement already satisfied: requests<3,>=2.21.0 in /opt/apps/software/lang/Anaconda3/2024.02-1/lib/python3.11/site-packages (from tensorflow[and-cuda]) (2.31.0)\n",
      "Requirement already satisfied: setuptools in /opt/apps/software/lang/Anaconda3/2024.02-1/lib/python3.11/site-packages (from tensorflow[and-cuda]) (68.2.2)\n",
      "Requirement already satisfied: six>=1.12.0 in /opt/apps/software/lang/Anaconda3/2024.02-1/lib/python3.11/site-packages (from tensorflow[and-cuda]) (1.16.0)\n",
      "Requirement already satisfied: termcolor>=1.1.0 in ./.local/lib/python3.11/site-packages (from tensorflow[and-cuda]) (2.4.0)\n",
      "Requirement already satisfied: typing-extensions>=3.6.6 in /opt/apps/software/lang/Anaconda3/2024.02-1/lib/python3.11/site-packages (from tensorflow[and-cuda]) (4.9.0)\n",
      "Requirement already satisfied: wrapt>=1.11.0 in /opt/apps/software/lang/Anaconda3/2024.02-1/lib/python3.11/site-packages (from tensorflow[and-cuda]) (1.14.1)\n",
      "Requirement already satisfied: grpcio<2.0,>=1.24.3 in ./.local/lib/python3.11/site-packages (from tensorflow[and-cuda]) (1.65.1)\n",
      "Requirement already satisfied: tensorboard<2.18,>=2.17 in ./.local/lib/python3.11/site-packages (from tensorflow[and-cuda]) (2.17.0)\n",
      "Requirement already satisfied: keras>=3.2.0 in ./.local/lib/python3.11/site-packages (from tensorflow[and-cuda]) (3.5.0)\n",
      "Requirement already satisfied: tensorflow-io-gcs-filesystem>=0.23.1 in ./.local/lib/python3.11/site-packages (from tensorflow[and-cuda]) (0.37.1)\n",
      "Requirement already satisfied: numpy<2.0.0,>=1.23.5 in /opt/apps/software/lang/Anaconda3/2024.02-1/lib/python3.11/site-packages (from tensorflow[and-cuda]) (1.26.4)\n",
      "Requirement already satisfied: nvidia-cublas-cu12==12.3.4.1 in ./.local/lib/python3.11/site-packages (from tensorflow[and-cuda]) (12.3.4.1)\n",
      "Requirement already satisfied: nvidia-cuda-cupti-cu12==12.3.101 in ./.local/lib/python3.11/site-packages (from tensorflow[and-cuda]) (12.3.101)\n",
      "Requirement already satisfied: nvidia-cuda-nvcc-cu12==12.3.107 in ./.local/lib/python3.11/site-packages (from tensorflow[and-cuda]) (12.3.107)\n",
      "Requirement already satisfied: nvidia-cuda-nvrtc-cu12==12.3.107 in ./.local/lib/python3.11/site-packages (from tensorflow[and-cuda]) (12.3.107)\n",
      "Requirement already satisfied: nvidia-cuda-runtime-cu12==12.3.101 in ./.local/lib/python3.11/site-packages (from tensorflow[and-cuda]) (12.3.101)\n",
      "Requirement already satisfied: nvidia-cudnn-cu12==8.9.7.29 in ./.local/lib/python3.11/site-packages (from tensorflow[and-cuda]) (8.9.7.29)\n",
      "Requirement already satisfied: nvidia-cufft-cu12==11.0.12.1 in ./.local/lib/python3.11/site-packages (from tensorflow[and-cuda]) (11.0.12.1)\n",
      "Requirement already satisfied: nvidia-curand-cu12==10.3.4.107 in ./.local/lib/python3.11/site-packages (from tensorflow[and-cuda]) (10.3.4.107)\n",
      "Requirement already satisfied: nvidia-cusolver-cu12==11.5.4.101 in ./.local/lib/python3.11/site-packages (from tensorflow[and-cuda]) (11.5.4.101)\n",
      "Requirement already satisfied: nvidia-cusparse-cu12==12.2.0.103 in ./.local/lib/python3.11/site-packages (from tensorflow[and-cuda]) (12.2.0.103)\n",
      "Requirement already satisfied: nvidia-nccl-cu12==2.19.3 in ./.local/lib/python3.11/site-packages (from tensorflow[and-cuda]) (2.19.3)\n",
      "Requirement already satisfied: nvidia-nvjitlink-cu12==12.3.101 in ./.local/lib/python3.11/site-packages (from tensorflow[and-cuda]) (12.3.101)\n",
      "Requirement already satisfied: wheel<1.0,>=0.23.0 in /opt/apps/software/lang/Anaconda3/2024.02-1/lib/python3.11/site-packages (from astunparse>=1.6.0->tensorflow[and-cuda]) (0.41.2)\n",
      "Requirement already satisfied: rich in /opt/apps/software/lang/Anaconda3/2024.02-1/lib/python3.11/site-packages (from keras>=3.2.0->tensorflow[and-cuda]) (13.3.5)\n",
      "Requirement already satisfied: namex in ./.local/lib/python3.11/site-packages (from keras>=3.2.0->tensorflow[and-cuda]) (0.0.8)\n",
      "Requirement already satisfied: optree in ./.local/lib/python3.11/site-packages (from keras>=3.2.0->tensorflow[and-cuda]) (0.12.1)\n",
      "Requirement already satisfied: charset-normalizer<4,>=2 in /opt/apps/software/lang/Anaconda3/2024.02-1/lib/python3.11/site-packages (from requests<3,>=2.21.0->tensorflow[and-cuda]) (2.0.4)\n",
      "Requirement already satisfied: idna<4,>=2.5 in ./.local/lib/python3.11/site-packages (from requests<3,>=2.21.0->tensorflow[and-cuda]) (2.10)\n",
      "Requirement already satisfied: urllib3<3,>=1.21.1 in /opt/apps/software/lang/Anaconda3/2024.02-1/lib/python3.11/site-packages (from requests<3,>=2.21.0->tensorflow[and-cuda]) (2.1.0)\n",
      "Requirement already satisfied: certifi>=2017.4.17 in ./.local/lib/python3.11/site-packages (from requests<3,>=2.21.0->tensorflow[and-cuda]) (2023.7.22)\n",
      "Requirement already satisfied: markdown>=2.6.8 in /opt/apps/software/lang/Anaconda3/2024.02-1/lib/python3.11/site-packages (from tensorboard<2.18,>=2.17->tensorflow[and-cuda]) (3.4.1)\n",
      "Requirement already satisfied: tensorboard-data-server<0.8.0,>=0.7.0 in ./.local/lib/python3.11/site-packages (from tensorboard<2.18,>=2.17->tensorflow[and-cuda]) (0.7.2)\n",
      "Requirement already satisfied: werkzeug>=1.0.1 in /opt/apps/software/lang/Anaconda3/2024.02-1/lib/python3.11/site-packages (from tensorboard<2.18,>=2.17->tensorflow[and-cuda]) (2.2.3)\n",
      "Requirement already satisfied: MarkupSafe>=2.1.1 in /opt/apps/software/lang/Anaconda3/2024.02-1/lib/python3.11/site-packages (from werkzeug>=1.0.1->tensorboard<2.18,>=2.17->tensorflow[and-cuda]) (2.1.3)\n",
      "Requirement already satisfied: markdown-it-py<3.0.0,>=2.2.0 in /opt/apps/software/lang/Anaconda3/2024.02-1/lib/python3.11/site-packages (from rich->keras>=3.2.0->tensorflow[and-cuda]) (2.2.0)\n",
      "Requirement already satisfied: pygments<3.0.0,>=2.13.0 in /opt/apps/software/lang/Anaconda3/2024.02-1/lib/python3.11/site-packages (from rich->keras>=3.2.0->tensorflow[and-cuda]) (2.15.1)\n",
      "Requirement already satisfied: mdurl~=0.1 in /opt/apps/software/lang/Anaconda3/2024.02-1/lib/python3.11/site-packages (from markdown-it-py<3.0.0,>=2.2.0->rich->keras>=3.2.0->tensorflow[and-cuda]) (0.1.0)\n"
     ]
    }
   ],
   "source": [
    "!pip install tensorflow[and-cuda]"
   ]
  },
  {
   "cell_type": "code",
   "execution_count": 4,
   "id": "b9aa03cf-86dc-451c-aaa9-1f4477455186",
   "metadata": {
    "scrolled": true
   },
   "outputs": [
    {
     "name": "stdout",
     "output_type": "stream",
     "text": [
      "Defaulting to user installation because normal site-packages is not writeable\n",
      "Requirement already satisfied: keras-cv in ./.local/lib/python3.11/site-packages (0.9.0)\n",
      "Requirement already satisfied: tensorflow in ./.local/lib/python3.11/site-packages (2.17.0)\n",
      "Requirement already satisfied: packaging in /opt/apps/software/lang/Anaconda3/2024.02-1/lib/python3.11/site-packages (from keras-cv) (23.2)\n",
      "Requirement already satisfied: absl-py in ./.local/lib/python3.11/site-packages (from keras-cv) (2.1.0)\n",
      "Requirement already satisfied: regex in /opt/apps/software/lang/Anaconda3/2024.02-1/lib/python3.11/site-packages (from keras-cv) (2023.10.3)\n",
      "Requirement already satisfied: tensorflow-datasets in ./.local/lib/python3.11/site-packages (from keras-cv) (4.9.6)\n",
      "Requirement already satisfied: keras-core in ./.local/lib/python3.11/site-packages (from keras-cv) (0.1.7)\n",
      "Requirement already satisfied: kagglehub in ./.local/lib/python3.11/site-packages (from keras-cv) (0.2.9)\n",
      "Requirement already satisfied: astunparse>=1.6.0 in ./.local/lib/python3.11/site-packages (from tensorflow) (1.6.3)\n",
      "Requirement already satisfied: flatbuffers>=24.3.25 in ./.local/lib/python3.11/site-packages (from tensorflow) (24.3.25)\n",
      "Requirement already satisfied: gast!=0.5.0,!=0.5.1,!=0.5.2,>=0.2.1 in ./.local/lib/python3.11/site-packages (from tensorflow) (0.6.0)\n",
      "Requirement already satisfied: google-pasta>=0.1.1 in ./.local/lib/python3.11/site-packages (from tensorflow) (0.2.0)\n",
      "Requirement already satisfied: h5py>=3.10.0 in ./.local/lib/python3.11/site-packages (from tensorflow) (3.11.0)\n",
      "Requirement already satisfied: libclang>=13.0.0 in ./.local/lib/python3.11/site-packages (from tensorflow) (18.1.1)\n",
      "Requirement already satisfied: ml-dtypes<0.5.0,>=0.3.1 in ./.local/lib/python3.11/site-packages (from tensorflow) (0.4.0)\n",
      "Requirement already satisfied: opt-einsum>=2.3.2 in ./.local/lib/python3.11/site-packages (from tensorflow) (3.3.0)\n",
      "Requirement already satisfied: protobuf!=4.21.0,!=4.21.1,!=4.21.2,!=4.21.3,!=4.21.4,!=4.21.5,<5.0.0dev,>=3.20.3 in ./.local/lib/python3.11/site-packages (from tensorflow) (4.25.4)\n",
      "Requirement already satisfied: requests<3,>=2.21.0 in /opt/apps/software/lang/Anaconda3/2024.02-1/lib/python3.11/site-packages (from tensorflow) (2.31.0)\n",
      "Requirement already satisfied: setuptools in /opt/apps/software/lang/Anaconda3/2024.02-1/lib/python3.11/site-packages (from tensorflow) (68.2.2)\n",
      "Requirement already satisfied: six>=1.12.0 in /opt/apps/software/lang/Anaconda3/2024.02-1/lib/python3.11/site-packages (from tensorflow) (1.16.0)\n",
      "Requirement already satisfied: termcolor>=1.1.0 in ./.local/lib/python3.11/site-packages (from tensorflow) (2.4.0)\n",
      "Requirement already satisfied: typing-extensions>=3.6.6 in /opt/apps/software/lang/Anaconda3/2024.02-1/lib/python3.11/site-packages (from tensorflow) (4.9.0)\n",
      "Requirement already satisfied: wrapt>=1.11.0 in /opt/apps/software/lang/Anaconda3/2024.02-1/lib/python3.11/site-packages (from tensorflow) (1.14.1)\n",
      "Requirement already satisfied: grpcio<2.0,>=1.24.3 in ./.local/lib/python3.11/site-packages (from tensorflow) (1.65.1)\n",
      "Requirement already satisfied: tensorboard<2.18,>=2.17 in ./.local/lib/python3.11/site-packages (from tensorflow) (2.17.0)\n",
      "Requirement already satisfied: keras>=3.2.0 in ./.local/lib/python3.11/site-packages (from tensorflow) (3.5.0)\n",
      "Requirement already satisfied: tensorflow-io-gcs-filesystem>=0.23.1 in ./.local/lib/python3.11/site-packages (from tensorflow) (0.37.1)\n",
      "Requirement already satisfied: numpy<2.0.0,>=1.23.5 in /opt/apps/software/lang/Anaconda3/2024.02-1/lib/python3.11/site-packages (from tensorflow) (1.26.4)\n",
      "Requirement already satisfied: wheel<1.0,>=0.23.0 in /opt/apps/software/lang/Anaconda3/2024.02-1/lib/python3.11/site-packages (from astunparse>=1.6.0->tensorflow) (0.41.2)\n",
      "Requirement already satisfied: rich in /opt/apps/software/lang/Anaconda3/2024.02-1/lib/python3.11/site-packages (from keras>=3.2.0->tensorflow) (13.3.5)\n",
      "Requirement already satisfied: namex in ./.local/lib/python3.11/site-packages (from keras>=3.2.0->tensorflow) (0.0.8)\n",
      "Requirement already satisfied: optree in ./.local/lib/python3.11/site-packages (from keras>=3.2.0->tensorflow) (0.12.1)\n",
      "Requirement already satisfied: charset-normalizer<4,>=2 in /opt/apps/software/lang/Anaconda3/2024.02-1/lib/python3.11/site-packages (from requests<3,>=2.21.0->tensorflow) (2.0.4)\n",
      "Requirement already satisfied: idna<4,>=2.5 in ./.local/lib/python3.11/site-packages (from requests<3,>=2.21.0->tensorflow) (2.10)\n",
      "Requirement already satisfied: urllib3<3,>=1.21.1 in /opt/apps/software/lang/Anaconda3/2024.02-1/lib/python3.11/site-packages (from requests<3,>=2.21.0->tensorflow) (2.1.0)\n",
      "Requirement already satisfied: certifi>=2017.4.17 in ./.local/lib/python3.11/site-packages (from requests<3,>=2.21.0->tensorflow) (2023.7.22)\n",
      "Requirement already satisfied: markdown>=2.6.8 in /opt/apps/software/lang/Anaconda3/2024.02-1/lib/python3.11/site-packages (from tensorboard<2.18,>=2.17->tensorflow) (3.4.1)\n",
      "Requirement already satisfied: tensorboard-data-server<0.8.0,>=0.7.0 in ./.local/lib/python3.11/site-packages (from tensorboard<2.18,>=2.17->tensorflow) (0.7.2)\n",
      "Requirement already satisfied: werkzeug>=1.0.1 in /opt/apps/software/lang/Anaconda3/2024.02-1/lib/python3.11/site-packages (from tensorboard<2.18,>=2.17->tensorflow) (2.2.3)\n",
      "Requirement already satisfied: tqdm in /opt/apps/software/lang/Anaconda3/2024.02-1/lib/python3.11/site-packages (from kagglehub->keras-cv) (4.65.0)\n",
      "Requirement already satisfied: dm-tree in ./.local/lib/python3.11/site-packages (from keras-core->keras-cv) (0.1.8)\n",
      "Requirement already satisfied: click in /opt/apps/software/lang/Anaconda3/2024.02-1/lib/python3.11/site-packages (from tensorflow-datasets->keras-cv) (8.1.7)\n",
      "Requirement already satisfied: immutabledict in ./.local/lib/python3.11/site-packages (from tensorflow-datasets->keras-cv) (4.2.0)\n",
      "Requirement already satisfied: promise in ./.local/lib/python3.11/site-packages (from tensorflow-datasets->keras-cv) (2.3)\n",
      "Requirement already satisfied: psutil in /opt/apps/software/lang/Anaconda3/2024.02-1/lib/python3.11/site-packages (from tensorflow-datasets->keras-cv) (5.9.0)\n",
      "Requirement already satisfied: pyarrow in /opt/apps/software/lang/Anaconda3/2024.02-1/lib/python3.11/site-packages (from tensorflow-datasets->keras-cv) (14.0.2)\n",
      "Requirement already satisfied: simple-parsing in ./.local/lib/python3.11/site-packages (from tensorflow-datasets->keras-cv) (0.1.5)\n",
      "Requirement already satisfied: tensorflow-metadata in ./.local/lib/python3.11/site-packages (from tensorflow-datasets->keras-cv) (1.15.0)\n",
      "Requirement already satisfied: toml in /opt/apps/software/lang/Anaconda3/2024.02-1/lib/python3.11/site-packages (from tensorflow-datasets->keras-cv) (0.10.2)\n",
      "Requirement already satisfied: array-record>=0.5.0 in ./.local/lib/python3.11/site-packages (from tensorflow-datasets->keras-cv) (0.5.1)\n",
      "Requirement already satisfied: etils>=1.9.1 in ./.local/lib/python3.11/site-packages (from etils[enp,epath,epy,etree]>=1.9.1; python_version >= \"3.11\"->tensorflow-datasets->keras-cv) (1.9.2)\n",
      "Requirement already satisfied: fsspec in /opt/apps/software/lang/Anaconda3/2024.02-1/lib/python3.11/site-packages (from etils[enp,epath,epy,etree]>=1.9.1; python_version >= \"3.11\"->tensorflow-datasets->keras-cv) (2024.3.1)\n",
      "Requirement already satisfied: importlib_resources in ./.local/lib/python3.11/site-packages (from etils[enp,epath,epy,etree]>=1.9.1; python_version >= \"3.11\"->tensorflow-datasets->keras-cv) (6.4.3)\n",
      "Requirement already satisfied: zipp in /opt/apps/software/lang/Anaconda3/2024.02-1/lib/python3.11/site-packages (from etils[enp,epath,epy,etree]>=1.9.1; python_version >= \"3.11\"->tensorflow-datasets->keras-cv) (3.17.0)\n",
      "Requirement already satisfied: MarkupSafe>=2.1.1 in /opt/apps/software/lang/Anaconda3/2024.02-1/lib/python3.11/site-packages (from werkzeug>=1.0.1->tensorboard<2.18,>=2.17->tensorflow) (2.1.3)\n",
      "Requirement already satisfied: markdown-it-py<3.0.0,>=2.2.0 in /opt/apps/software/lang/Anaconda3/2024.02-1/lib/python3.11/site-packages (from rich->keras>=3.2.0->tensorflow) (2.2.0)\n",
      "Requirement already satisfied: pygments<3.0.0,>=2.13.0 in /opt/apps/software/lang/Anaconda3/2024.02-1/lib/python3.11/site-packages (from rich->keras>=3.2.0->tensorflow) (2.15.1)\n",
      "Requirement already satisfied: docstring-parser~=0.15 in ./.local/lib/python3.11/site-packages (from simple-parsing->tensorflow-datasets->keras-cv) (0.16)\n",
      "Requirement already satisfied: googleapis-common-protos<2,>=1.56.4 in ./.local/lib/python3.11/site-packages (from tensorflow-metadata->tensorflow-datasets->keras-cv) (1.63.2)\n",
      "Requirement already satisfied: mdurl~=0.1 in /opt/apps/software/lang/Anaconda3/2024.02-1/lib/python3.11/site-packages (from markdown-it-py<3.0.0,>=2.2.0->rich->keras>=3.2.0->tensorflow) (0.1.0)\n",
      "Defaulting to user installation because normal site-packages is not writeable\n",
      "Requirement already satisfied: keras in ./.local/lib/python3.11/site-packages (3.5.0)\n",
      "Requirement already satisfied: absl-py in ./.local/lib/python3.11/site-packages (from keras) (2.1.0)\n",
      "Requirement already satisfied: numpy in /opt/apps/software/lang/Anaconda3/2024.02-1/lib/python3.11/site-packages (from keras) (1.26.4)\n",
      "Requirement already satisfied: rich in /opt/apps/software/lang/Anaconda3/2024.02-1/lib/python3.11/site-packages (from keras) (13.3.5)\n",
      "Requirement already satisfied: namex in ./.local/lib/python3.11/site-packages (from keras) (0.0.8)\n",
      "Requirement already satisfied: h5py in ./.local/lib/python3.11/site-packages (from keras) (3.11.0)\n",
      "Requirement already satisfied: optree in ./.local/lib/python3.11/site-packages (from keras) (0.12.1)\n",
      "Requirement already satisfied: ml-dtypes in ./.local/lib/python3.11/site-packages (from keras) (0.4.0)\n",
      "Requirement already satisfied: packaging in /opt/apps/software/lang/Anaconda3/2024.02-1/lib/python3.11/site-packages (from keras) (23.2)\n",
      "Requirement already satisfied: typing-extensions>=4.5.0 in /opt/apps/software/lang/Anaconda3/2024.02-1/lib/python3.11/site-packages (from optree->keras) (4.9.0)\n",
      "Requirement already satisfied: markdown-it-py<3.0.0,>=2.2.0 in /opt/apps/software/lang/Anaconda3/2024.02-1/lib/python3.11/site-packages (from rich->keras) (2.2.0)\n",
      "Requirement already satisfied: pygments<3.0.0,>=2.13.0 in /opt/apps/software/lang/Anaconda3/2024.02-1/lib/python3.11/site-packages (from rich->keras) (2.15.1)\n",
      "Requirement already satisfied: mdurl~=0.1 in /opt/apps/software/lang/Anaconda3/2024.02-1/lib/python3.11/site-packages (from markdown-it-py<3.0.0,>=2.2.0->rich->keras) (0.1.0)\n"
     ]
    }
   ],
   "source": [
    "!pip install --upgrade keras-cv tensorflow\n",
    "!pip install --upgrade keras"
   ]
  },
  {
   "cell_type": "code",
   "execution_count": 5,
   "id": "c6e36fa0-30a4-4a4b-8bc0-9c2766c3443e",
   "metadata": {
    "scrolled": true
   },
   "outputs": [
    {
     "name": "stdout",
     "output_type": "stream",
     "text": [
      "2024-09-07 18:05:16.351853: I tensorflow/core/util/port.cc:153] oneDNN custom operations are on. You may see slightly different numerical results due to floating-point round-off errors from different computation orders. To turn them off, set the environment variable `TF_ENABLE_ONEDNN_OPTS=0`.\n",
      "2024-09-07 18:05:16.367846: E external/local_xla/xla/stream_executor/cuda/cuda_fft.cc:485] Unable to register cuFFT factory: Attempting to register factory for plugin cuFFT when one has already been registered\n",
      "2024-09-07 18:05:16.384919: E external/local_xla/xla/stream_executor/cuda/cuda_dnn.cc:8454] Unable to register cuDNN factory: Attempting to register factory for plugin cuDNN when one has already been registered\n",
      "2024-09-07 18:05:16.389850: E external/local_xla/xla/stream_executor/cuda/cuda_blas.cc:1452] Unable to register cuBLAS factory: Attempting to register factory for plugin cuBLAS when one has already been registered\n",
      "2024-09-07 18:05:16.401853: I tensorflow/core/platform/cpu_feature_guard.cc:210] This TensorFlow binary is optimized to use available CPU instructions in performance-critical operations.\n",
      "To enable the following instructions: AVX2 AVX512F AVX512_VNNI FMA, in other operations, rebuild TensorFlow with the appropriate compiler flags.\n",
      "2024-09-07 18:05:17.733020: W tensorflow/compiler/tf2tensorrt/utils/py_utils.cc:38] TF-TRT Warning: Could not find TensorRT\n",
      "[PhysicalDevice(name='/physical_device:GPU:0', device_type='GPU')]\n"
     ]
    }
   ],
   "source": [
    "!python3 -c \"import tensorflow as tf; print(tf.config.list_physical_devices('GPU'))\""
   ]
  },
  {
   "cell_type": "code",
   "execution_count": 6,
   "id": "a9528eae-eef1-4bd5-afbe-32fba7ab890e",
   "metadata": {},
   "outputs": [],
   "source": [
    "import os\n",
    "os.environ['CUDA_VISIBLE_DEVICES'] = \"0\""
   ]
  },
  {
   "cell_type": "code",
   "execution_count": 86,
   "id": "8c4be5f6-4466-437f-b7b8-b78c48af055e",
   "metadata": {},
   "outputs": [],
   "source": [
    "import numpy as np\n",
    "import keras\n",
    "import keras_cv\n",
    "from keras import layers, regularizers\n",
    "import matplotlib.pyplot as plt\n",
    "import os\n",
    "from PIL import Image\n",
    "import pandas as pd\n",
    "from keras.callbacks import EarlyStopping\n",
    "import math\n",
    "from sklearn.model_selection import train_test_split\n",
    "from sklearn.utils.class_weight import compute_class_weight\n",
    "from time import time\n",
    "from sklearn.metrics import classification_report, ConfusionMatrixDisplay, confusion_matrix, RocCurveDisplay, PrecisionRecallDisplay\n",
    "from concurrent.futures import ThreadPoolExecutor, as_completed\n",
    "import tensorflow as tf\n",
    "# from torch.utils.data import DataLoader, Dataset"
   ]
  },
  {
   "cell_type": "code",
   "execution_count": 8,
   "id": "a611971e-d7ac-4bee-95bf-e31bc5c7b622",
   "metadata": {},
   "outputs": [
    {
     "name": "stdout",
     "output_type": "stream",
     "text": [
      "/home/jctactay\n",
      "images\n"
     ]
    }
   ],
   "source": [
    "!pwd\n",
    "!ls koa_scratch"
   ]
  },
  {
   "cell_type": "markdown",
   "id": "b0771470-91bd-4a7f-97ee-951710fb05b5",
   "metadata": {},
   "source": [
    "## Data preprocessing"
   ]
  },
  {
   "cell_type": "code",
   "execution_count": 9,
   "id": "dc3d310b-58bc-439c-aefc-8a959d2df3be",
   "metadata": {},
   "outputs": [],
   "source": [
    "# load/reconcile labels\n",
    "cols = [\"species\",\"image\",\"distinctiveness\",\"quality\"]\n",
    "labels1 = pd.read_csv('pifsc_labels_detail.csv')[cols]\n",
    "labels1[['quality', 'distinctiveness']] = labels1[['distinctiveness', 'quality']]\n",
    "\n",
    "cols = [\"species\",\"filename\",\"distinctiveness\",\"quality\"]\n",
    "labels2 = pd.read_csv('pifsc_labels2.csv')[cols]\n",
    "labels2.columns = [\"species\",\"image\",\"distinctiveness\",\"quality\"]\n",
    "\n",
    "labels = pd.concat([labels1, labels2]).reset_index(drop=True)"
   ]
  },
  {
   "cell_type": "code",
   "execution_count": 10,
   "id": "48831285-156c-44e7-9e4e-b1c6e6c5564f",
   "metadata": {},
   "outputs": [
    {
     "name": "stdout",
     "output_type": "stream",
     "text": [
      "3586\n"
     ]
    }
   ],
   "source": [
    "is_na = labels.quality.isna()\n",
    "labels = labels.loc[~is_na]\n",
    "labels = labels.drop_duplicates(subset='image', keep='first')\n",
    "print(len(labels.image))"
   ]
  },
  {
   "cell_type": "code",
   "execution_count": 11,
   "id": "9037a40a-20e7-4051-8a31-63c1d5493c32",
   "metadata": {},
   "outputs": [],
   "source": [
    "paths = []\n",
    "for index, row in labels.iterrows():\n",
    "    paths.append(\"/home/jctactay/koa_scratch/images/\" + row.image)\n",
    "assert len(labels) == len(paths)"
   ]
  },
  {
   "cell_type": "code",
   "execution_count": 12,
   "id": "804bec4c-52da-4eca-90a0-8c0f04014b76",
   "metadata": {},
   "outputs": [
    {
     "name": "stdout",
     "output_type": "stream",
     "text": [
      "Done in  160.095s\n"
     ]
    }
   ],
   "source": [
    "# image reading/processing\n",
    "def load_img(path):\n",
    "    img = Image.open(path)\n",
    "    img = img.resize((256,256))\n",
    "    np_img = np.array(img)/127.5 - 1\n",
    "    return os.path.basename(path), np_img\n",
    "def load_images_into_dict():\n",
    "    imgs = {}\n",
    "\n",
    "    num_workers = 8\n",
    "    \n",
    "    with ThreadPoolExecutor(max_workers=num_workers) as executor:\n",
    "        future_to_img = {executor.submit(load_img, path): path for path in paths}\n",
    "\n",
    "        for future in as_completed(future_to_img):\n",
    "            img_name, img = future.result()\n",
    "            imgs[img_name] = img\n",
    "\n",
    "    return imgs\n",
    "    \n",
    "t0 = time()\n",
    "\n",
    "imgs = load_images_into_dict()\n",
    "print(f\"Done in {time() - t0: .3f}s\")"
   ]
  },
  {
   "cell_type": "code",
   "execution_count": 13,
   "id": "2c77b005-3b9f-4e00-8330-292a77286406",
   "metadata": {},
   "outputs": [
    {
     "data": {
      "text/plain": [
       "quality\n",
       "1    1116\n",
       "2    1479\n",
       "3     991\n",
       "Name: count, dtype: int64"
      ]
     },
     "execution_count": 13,
     "metadata": {},
     "output_type": "execute_result"
    }
   ],
   "source": [
    "value_counts = labels.quality.value_counts()\n",
    "value_counts.index = pd.to_numeric(value_counts.index)\n",
    "value_counts = value_counts.sort_index()\n",
    "value_counts"
   ]
  },
  {
   "cell_type": "code",
   "execution_count": 14,
   "id": "c4f2c5d7-6b7b-4335-96dd-513b2c2a283b",
   "metadata": {},
   "outputs": [
    {
     "name": "stdout",
     "output_type": "stream",
     "text": [
      "                 species                           image  distinctiveness  \\\n",
      "0        spinner_dolphin              0011f7a65044e4.jpg              2.0   \n",
      "1        spinner_dolphin              007097146016e6.jpg              2.0   \n",
      "2        spinner_dolphin              009a307f9f483c.jpg              2.0   \n",
      "3        spinner_dolphin              00eea1a5b9d8bc.jpg              2.0   \n",
      "4        spinner_dolphin              01287e826d29a8.jpg              2.0   \n",
      "...                  ...                             ...              ...   \n",
      "3587  melon_headed_whale  PIFSC_20110503-S3_C-5088a-.jpg              2.0   \n",
      "3588  melon_headed_whale  PIFSC_20110503-S3_Z-3913a-.jpg              1.0   \n",
      "3589  melon_headed_whale  PIFSC_20110503-S3_Z-3914ed.jpg              NaN   \n",
      "3590  melon_headed_whale  PIFSC_20110503-S3_C-4846a-.jpg              1.0   \n",
      "3591  melon_headed_whale  PIFSC_20110503-S3_Z-3866ed.jpg              1.0   \n",
      "\n",
      "      quality  \n",
      "0           3  \n",
      "1           2  \n",
      "2           1  \n",
      "3           1  \n",
      "4           1  \n",
      "...       ...  \n",
      "3587        3  \n",
      "3588        3  \n",
      "3589        3  \n",
      "3590        3  \n",
      "3591        3  \n",
      "\n",
      "[3586 rows x 4 columns]\n"
     ]
    }
   ],
   "source": [
    "print(labels)"
   ]
  },
  {
   "cell_type": "code",
   "execution_count": 15,
   "id": "740a63d8-e396-4dbc-bb7f-7813bfc13629",
   "metadata": {},
   "outputs": [],
   "source": [
    "assert len(imgs) == len(labels)"
   ]
  },
  {
   "cell_type": "code",
   "execution_count": 16,
   "id": "006a4ce5-5458-43c6-b2d2-784d16058d7e",
   "metadata": {},
   "outputs": [],
   "source": [
    "for index, row in labels.iterrows():\n",
    "    if row.quality == 2:\n",
    "        labels.at[index, 'quality'] = 1\n",
    "    if row.quality == 3:\n",
    "        labels.at[index, 'quality'] = 0"
   ]
  },
  {
   "cell_type": "code",
   "execution_count": 17,
   "id": "801a08de-cc71-412e-afa4-938d14ca9f81",
   "metadata": {},
   "outputs": [
    {
     "data": {
      "text/plain": [
       "quality\n",
       "0     991\n",
       "1    2595\n",
       "Name: count, dtype: int64"
      ]
     },
     "execution_count": 17,
     "metadata": {},
     "output_type": "execute_result"
    }
   ],
   "source": [
    "value_counts = labels.quality.value_counts()\n",
    "value_counts.index = pd.to_numeric(value_counts.index)\n",
    "value_counts = value_counts.sort_index()\n",
    "value_counts"
   ]
  },
  {
   "cell_type": "code",
   "execution_count": 18,
   "id": "eb5b5847-f7b5-4b28-8bd5-da7113efa5f0",
   "metadata": {},
   "outputs": [
    {
     "name": "stdout",
     "output_type": "stream",
     "text": [
      "[0 1]\n",
      "3586\n",
      "3586\n"
     ]
    }
   ],
   "source": [
    "# readjust labels to range of [0,1]\n",
    "Y = labels.quality\n",
    "if min(np.unique(Y)) != 0:\n",
    "    for i in range(len(Y)):\n",
    "        Y.iat[i] -= 1\n",
    "print(np.unique(Y))\n",
    "X = np.array([imgs[i] for i in labels.image])\n",
    "print(len(Y))\n",
    "print(len(X))\n",
    "X_train, X_test, Y_train, Y_test = train_test_split(X, Y, test_size=0.2, stratify=Y, random_state=42)\n",
    "X_train, X_val, Y_train, Y_val = train_test_split(X_train, Y_train, test_size=0.25, stratify=Y_train, random_state=42)"
   ]
  },
  {
   "cell_type": "markdown",
   "id": "32e4c939-5c52-4f08-a2d7-8940076f7215",
   "metadata": {},
   "source": [
    "Here, high-quality images are labeled with a 1, while low-quality images are labeled with a 0"
   ]
  },
  {
   "cell_type": "code",
   "execution_count": 19,
   "id": "bee1a615-4e57-4059-92e4-a39e7a0e9556",
   "metadata": {},
   "outputs": [
    {
     "name": "stdout",
     "output_type": "stream",
     "text": [
      "2151 717 718\n"
     ]
    }
   ],
   "source": [
    "print(len(X_train), len(X_val), len(X_test))"
   ]
  },
  {
   "cell_type": "code",
   "execution_count": 20,
   "id": "3e558d5c-7ef0-4252-b302-ed26925afc74",
   "metadata": {},
   "outputs": [
    {
     "name": "stdout",
     "output_type": "stream",
     "text": [
      "[1.80756303 0.69119537]\n"
     ]
    },
    {
     "data": {
      "text/plain": [
       "array([1.80756303, 1.80756303, 0.69119537, ..., 0.69119537, 1.80756303,\n",
       "       0.69119537])"
      ]
     },
     "execution_count": 20,
     "metadata": {},
     "output_type": "execute_result"
    }
   ],
   "source": [
    "# weights per sample instead of per class\n",
    "class_weights = compute_class_weight(class_weight='balanced', classes=np.unique(Y_train), y=Y_train)\n",
    "print(class_weights)\n",
    "class_weights_dict = dict(zip(np.unique(Y_train), class_weights))\n",
    "sample_weights = np.array([class_weights_dict[label] for label in Y_train])\n",
    "sample_weights"
   ]
  },
  {
   "cell_type": "code",
   "execution_count": 21,
   "id": "12650040-5d4a-48ac-9359-499537b294e4",
   "metadata": {},
   "outputs": [],
   "source": [
    "def augment_image(image, label, weight):\n",
    "    image = augmentation_layers(image)\n",
    "    if tf.math.reduce_any(tf.equal(label, 2)):\n",
    "        image = poor_augmentation_layers(image)\n",
    "    return image, label, weight"
   ]
  },
  {
   "cell_type": "code",
   "execution_count": 22,
   "id": "878b1391-025c-4a5c-8cfa-c2b8e57eb4b2",
   "metadata": {},
   "outputs": [
    {
     "name": "stderr",
     "output_type": "stream",
     "text": [
      "2024-09-07 18:09:15.152729: I tensorflow/core/common_runtime/gpu/gpu_device.cc:2021] Created device /job:localhost/replica:0/task:0/device:GPU:0 with 31134 MB memory:  -> device: 0, name: Tesla V100-SXM2-32GB, pci bus id: 0000:16:00.0, compute capability: 7.0\n"
     ]
    }
   ],
   "source": [
    "augmentation_layers = keras.Sequential([\n",
    "    keras.layers.RandomFlip(mode=\"horizontal\", seed=42),\n",
    "    keras.layers.RandomTranslation(height_factor=0.2, width_factor=0.2, seed=42)\n",
    "])\n",
    "\n",
    "poor_augmentation_layers = keras.Sequential([\n",
    "    keras.layers.RandomRotation(factor=0.1, seed=42),\n",
    "    keras_cv.layers.RandomSharpness(factor=0.2, value_range=[0,1], seed=42),\n",
    "    keras_cv.layers.RandomSaturation(factor=(0.0, 0.5), seed=42)\n",
    "])"
   ]
  },
  {
   "cell_type": "code",
   "execution_count": 23,
   "id": "82a03a5b-2b13-41ca-90c8-a979fa193611",
   "metadata": {},
   "outputs": [
    {
     "name": "stdout",
     "output_type": "stream",
     "text": [
      "Done in 12.461s\n"
     ]
    }
   ],
   "source": [
    "t0 = time()\n",
    "train_dataset = tf.data.Dataset.from_tensor_slices((X_train, Y_train, sample_weights))\n",
    "# controls augmentation\n",
    "# train_dataset = train_dataset.map(augment_image, num_parallel_calls=tf.data.AUTOTUNE)\n",
    "train_dataset = train_dataset.batch(32).prefetch(tf.data.AUTOTUNE)\n",
    "\n",
    "val_dataset = tf.data.Dataset.from_tensor_slices((X_val, Y_val))\n",
    "val_dataset = val_dataset.batch(32).prefetch(tf.data.AUTOTUNE)\n",
    "\n",
    "test_dataset = tf.data.Dataset.from_tensor_slices((X_test, Y_test))\n",
    "test_dataset = test_dataset.batch(32).prefetch(tf.data.AUTOTUNE)\n",
    "print(\"Done in %0.3fs\" % (time() - t0))"
   ]
  },
  {
   "cell_type": "markdown",
   "id": "8facff08-e382-4ec7-97d6-5698110f58cd",
   "metadata": {
    "jp-MarkdownHeadingCollapsed": true
   },
   "source": [
    "## Visualize augmentations"
   ]
  },
  {
   "cell_type": "code",
   "execution_count": null,
   "id": "1564bb0c-da7e-4425-a934-248ace6ef148",
   "metadata": {},
   "outputs": [],
   "source": [
    "# Inspect the structure of the dataset\n",
    "for batch in train_dataset.take(1):\n",
    "    print(\"Batch structure:\")\n",
    "    for element in batch:\n",
    "        print(f\"Element shape: {element.shape}\")\n",
    "        print(f\"Element type: {type(element)}\")"
   ]
  },
  {
   "cell_type": "code",
   "execution_count": null,
   "id": "826d1878-c24a-4d89-beb7-62107c73a607",
   "metadata": {},
   "outputs": [],
   "source": [
    "def visualize_augmentation(dataset, num_images=15):\n",
    "    for batch in dataset.take(1):  # Take one batch\n",
    "        images, _, _ = batch\n",
    "        plt.figure(figsize=(15, 15))\n",
    "        for i in range(min(num_images, images.shape[0])):\n",
    "            plt.subplot(3, 5, i + 1)\n",
    "            image = images[i].numpy()\n",
    "            image = (image + 1) / 2\n",
    "            plt.imshow(image)\n",
    "        plt.show()\n",
    "\n",
    "# Visualize augmented images\n",
    "visualize_augmentation(train_dataset)"
   ]
  },
  {
   "cell_type": "markdown",
   "id": "a842cd97-e992-45b8-aca2-73871f93b7e2",
   "metadata": {
    "jp-MarkdownHeadingCollapsed": true
   },
   "source": [
    "## Model"
   ]
  },
  {
   "cell_type": "code",
   "execution_count": 24,
   "id": "faf0d926-a0f5-4e8c-b1ea-a1fb3d2c8c49",
   "metadata": {},
   "outputs": [],
   "source": [
    "# load pretrained model\n",
    "base_model = keras.applications.Xception(\n",
    "    weights='imagenet',\n",
    "    input_shape=(256,256,3),\n",
    "    include_top=False)\n",
    "# freeze base model\n",
    "base_model.trainable = False"
   ]
  },
  {
   "cell_type": "code",
   "execution_count": 25,
   "id": "1abd4240-480a-469e-8c9e-0e1725c32a2f",
   "metadata": {
    "scrolled": true
   },
   "outputs": [
    {
     "data": {
      "text/html": [
       "<pre style=\"white-space:pre;overflow-x:auto;line-height:normal;font-family:Menlo,'DejaVu Sans Mono',consolas,'Courier New',monospace\"><span style=\"font-weight: bold\">Model: \"xception\"</span>\n",
       "</pre>\n"
      ],
      "text/plain": [
       "\u001b[1mModel: \"xception\"\u001b[0m\n"
      ]
     },
     "metadata": {},
     "output_type": "display_data"
    },
    {
     "data": {
      "text/html": [
       "<pre style=\"white-space:pre;overflow-x:auto;line-height:normal;font-family:Menlo,'DejaVu Sans Mono',consolas,'Courier New',monospace\">┏━━━━━━━━━━━━━━━━━━━┳━━━━━━━━━━━━━━━━━┳━━━━━━━━━━━┳━━━━━━━━━━━━━━━━┳━━━━━━━┓\n",
       "┃<span style=\"font-weight: bold\"> Layer (type)      </span>┃<span style=\"font-weight: bold\"> Output Shape    </span>┃<span style=\"font-weight: bold\">   Param # </span>┃<span style=\"font-weight: bold\"> Connected to   </span>┃<span style=\"font-weight: bold\"> Trai… </span>┃\n",
       "┡━━━━━━━━━━━━━━━━━━━╇━━━━━━━━━━━━━━━━━╇━━━━━━━━━━━╇━━━━━━━━━━━━━━━━╇━━━━━━━┩\n",
       "│ input_layer       │ (<span style=\"color: #00d7ff; text-decoration-color: #00d7ff\">None</span>, <span style=\"color: #00af00; text-decoration-color: #00af00\">256</span>,     │         <span style=\"color: #00af00; text-decoration-color: #00af00\">0</span> │ -              │   <span style=\"font-weight: bold\">-</span>   │\n",
       "│ (<span style=\"color: #0087ff; text-decoration-color: #0087ff\">InputLayer</span>)      │ <span style=\"color: #00af00; text-decoration-color: #00af00\">256</span>, <span style=\"color: #00af00; text-decoration-color: #00af00\">3</span>)         │           │                │       │\n",
       "├───────────────────┼─────────────────┼───────────┼────────────────┼───────┤\n",
       "│ block1_conv1      │ (<span style=\"color: #00d7ff; text-decoration-color: #00d7ff\">None</span>, <span style=\"color: #00af00; text-decoration-color: #00af00\">127</span>,     │       <span style=\"color: #00af00; text-decoration-color: #00af00\">864</span> │ input_layer[<span style=\"color: #00af00; text-decoration-color: #00af00\">0</span>… │   <span style=\"color: #ff0000; text-decoration-color: #ff0000; font-weight: bold\">N</span>   │\n",
       "│ (<span style=\"color: #0087ff; text-decoration-color: #0087ff\">Conv2D</span>)          │ <span style=\"color: #00af00; text-decoration-color: #00af00\">127</span>, <span style=\"color: #00af00; text-decoration-color: #00af00\">32</span>)        │           │                │       │\n",
       "├───────────────────┼─────────────────┼───────────┼────────────────┼───────┤\n",
       "│ block1_conv1_bn   │ (<span style=\"color: #00d7ff; text-decoration-color: #00d7ff\">None</span>, <span style=\"color: #00af00; text-decoration-color: #00af00\">127</span>,     │       <span style=\"color: #00af00; text-decoration-color: #00af00\">128</span> │ block1_conv1[<span style=\"color: #00af00; text-decoration-color: #00af00\">…</span> │   <span style=\"color: #ff0000; text-decoration-color: #ff0000; font-weight: bold\">N</span>   │\n",
       "│ (<span style=\"color: #0087ff; text-decoration-color: #0087ff\">BatchNormalizat…</span> │ <span style=\"color: #00af00; text-decoration-color: #00af00\">127</span>, <span style=\"color: #00af00; text-decoration-color: #00af00\">32</span>)        │           │                │       │\n",
       "├───────────────────┼─────────────────┼───────────┼────────────────┼───────┤\n",
       "│ block1_conv1_act  │ (<span style=\"color: #00d7ff; text-decoration-color: #00d7ff\">None</span>, <span style=\"color: #00af00; text-decoration-color: #00af00\">127</span>,     │         <span style=\"color: #00af00; text-decoration-color: #00af00\">0</span> │ block1_conv1_… │   <span style=\"font-weight: bold\">-</span>   │\n",
       "│ (<span style=\"color: #0087ff; text-decoration-color: #0087ff\">Activation</span>)      │ <span style=\"color: #00af00; text-decoration-color: #00af00\">127</span>, <span style=\"color: #00af00; text-decoration-color: #00af00\">32</span>)        │           │                │       │\n",
       "├───────────────────┼─────────────────┼───────────┼────────────────┼───────┤\n",
       "│ block1_conv2      │ (<span style=\"color: #00d7ff; text-decoration-color: #00d7ff\">None</span>, <span style=\"color: #00af00; text-decoration-color: #00af00\">125</span>,     │    <span style=\"color: #00af00; text-decoration-color: #00af00\">18,432</span> │ block1_conv1_… │   <span style=\"color: #ff0000; text-decoration-color: #ff0000; font-weight: bold\">N</span>   │\n",
       "│ (<span style=\"color: #0087ff; text-decoration-color: #0087ff\">Conv2D</span>)          │ <span style=\"color: #00af00; text-decoration-color: #00af00\">125</span>, <span style=\"color: #00af00; text-decoration-color: #00af00\">64</span>)        │           │                │       │\n",
       "├───────────────────┼─────────────────┼───────────┼────────────────┼───────┤\n",
       "│ block1_conv2_bn   │ (<span style=\"color: #00d7ff; text-decoration-color: #00d7ff\">None</span>, <span style=\"color: #00af00; text-decoration-color: #00af00\">125</span>,     │       <span style=\"color: #00af00; text-decoration-color: #00af00\">256</span> │ block1_conv2[<span style=\"color: #00af00; text-decoration-color: #00af00\">…</span> │   <span style=\"color: #ff0000; text-decoration-color: #ff0000; font-weight: bold\">N</span>   │\n",
       "│ (<span style=\"color: #0087ff; text-decoration-color: #0087ff\">BatchNormalizat…</span> │ <span style=\"color: #00af00; text-decoration-color: #00af00\">125</span>, <span style=\"color: #00af00; text-decoration-color: #00af00\">64</span>)        │           │                │       │\n",
       "├───────────────────┼─────────────────┼───────────┼────────────────┼───────┤\n",
       "│ block1_conv2_act  │ (<span style=\"color: #00d7ff; text-decoration-color: #00d7ff\">None</span>, <span style=\"color: #00af00; text-decoration-color: #00af00\">125</span>,     │         <span style=\"color: #00af00; text-decoration-color: #00af00\">0</span> │ block1_conv2_… │   <span style=\"font-weight: bold\">-</span>   │\n",
       "│ (<span style=\"color: #0087ff; text-decoration-color: #0087ff\">Activation</span>)      │ <span style=\"color: #00af00; text-decoration-color: #00af00\">125</span>, <span style=\"color: #00af00; text-decoration-color: #00af00\">64</span>)        │           │                │       │\n",
       "├───────────────────┼─────────────────┼───────────┼────────────────┼───────┤\n",
       "│ block2_sepconv1   │ (<span style=\"color: #00d7ff; text-decoration-color: #00d7ff\">None</span>, <span style=\"color: #00af00; text-decoration-color: #00af00\">125</span>,     │     <span style=\"color: #00af00; text-decoration-color: #00af00\">8,768</span> │ block1_conv2_… │   <span style=\"color: #ff0000; text-decoration-color: #ff0000; font-weight: bold\">N</span>   │\n",
       "│ (<span style=\"color: #0087ff; text-decoration-color: #0087ff\">SeparableConv2D</span>) │ <span style=\"color: #00af00; text-decoration-color: #00af00\">125</span>, <span style=\"color: #00af00; text-decoration-color: #00af00\">128</span>)       │           │                │       │\n",
       "├───────────────────┼─────────────────┼───────────┼────────────────┼───────┤\n",
       "│ block2_sepconv1_… │ (<span style=\"color: #00d7ff; text-decoration-color: #00d7ff\">None</span>, <span style=\"color: #00af00; text-decoration-color: #00af00\">125</span>,     │       <span style=\"color: #00af00; text-decoration-color: #00af00\">512</span> │ block2_sepcon… │   <span style=\"color: #ff0000; text-decoration-color: #ff0000; font-weight: bold\">N</span>   │\n",
       "│ (<span style=\"color: #0087ff; text-decoration-color: #0087ff\">BatchNormalizat…</span> │ <span style=\"color: #00af00; text-decoration-color: #00af00\">125</span>, <span style=\"color: #00af00; text-decoration-color: #00af00\">128</span>)       │           │                │       │\n",
       "├───────────────────┼─────────────────┼───────────┼────────────────┼───────┤\n",
       "│ block2_sepconv2_… │ (<span style=\"color: #00d7ff; text-decoration-color: #00d7ff\">None</span>, <span style=\"color: #00af00; text-decoration-color: #00af00\">125</span>,     │         <span style=\"color: #00af00; text-decoration-color: #00af00\">0</span> │ block2_sepcon… │   <span style=\"font-weight: bold\">-</span>   │\n",
       "│ (<span style=\"color: #0087ff; text-decoration-color: #0087ff\">Activation</span>)      │ <span style=\"color: #00af00; text-decoration-color: #00af00\">125</span>, <span style=\"color: #00af00; text-decoration-color: #00af00\">128</span>)       │           │                │       │\n",
       "├───────────────────┼─────────────────┼───────────┼────────────────┼───────┤\n",
       "│ block2_sepconv2   │ (<span style=\"color: #00d7ff; text-decoration-color: #00d7ff\">None</span>, <span style=\"color: #00af00; text-decoration-color: #00af00\">125</span>,     │    <span style=\"color: #00af00; text-decoration-color: #00af00\">17,536</span> │ block2_sepcon… │   <span style=\"color: #ff0000; text-decoration-color: #ff0000; font-weight: bold\">N</span>   │\n",
       "│ (<span style=\"color: #0087ff; text-decoration-color: #0087ff\">SeparableConv2D</span>) │ <span style=\"color: #00af00; text-decoration-color: #00af00\">125</span>, <span style=\"color: #00af00; text-decoration-color: #00af00\">128</span>)       │           │                │       │\n",
       "├───────────────────┼─────────────────┼───────────┼────────────────┼───────┤\n",
       "│ block2_sepconv2_… │ (<span style=\"color: #00d7ff; text-decoration-color: #00d7ff\">None</span>, <span style=\"color: #00af00; text-decoration-color: #00af00\">125</span>,     │       <span style=\"color: #00af00; text-decoration-color: #00af00\">512</span> │ block2_sepcon… │   <span style=\"color: #ff0000; text-decoration-color: #ff0000; font-weight: bold\">N</span>   │\n",
       "│ (<span style=\"color: #0087ff; text-decoration-color: #0087ff\">BatchNormalizat…</span> │ <span style=\"color: #00af00; text-decoration-color: #00af00\">125</span>, <span style=\"color: #00af00; text-decoration-color: #00af00\">128</span>)       │           │                │       │\n",
       "├───────────────────┼─────────────────┼───────────┼────────────────┼───────┤\n",
       "│ conv2d (<span style=\"color: #0087ff; text-decoration-color: #0087ff\">Conv2D</span>)   │ (<span style=\"color: #00d7ff; text-decoration-color: #00d7ff\">None</span>, <span style=\"color: #00af00; text-decoration-color: #00af00\">63</span>, <span style=\"color: #00af00; text-decoration-color: #00af00\">63</span>,  │     <span style=\"color: #00af00; text-decoration-color: #00af00\">8,192</span> │ block1_conv2_… │   <span style=\"color: #ff0000; text-decoration-color: #ff0000; font-weight: bold\">N</span>   │\n",
       "│                   │ <span style=\"color: #00af00; text-decoration-color: #00af00\">128</span>)            │           │                │       │\n",
       "├───────────────────┼─────────────────┼───────────┼────────────────┼───────┤\n",
       "│ block2_pool       │ (<span style=\"color: #00d7ff; text-decoration-color: #00d7ff\">None</span>, <span style=\"color: #00af00; text-decoration-color: #00af00\">63</span>, <span style=\"color: #00af00; text-decoration-color: #00af00\">63</span>,  │         <span style=\"color: #00af00; text-decoration-color: #00af00\">0</span> │ block2_sepcon… │   <span style=\"font-weight: bold\">-</span>   │\n",
       "│ (<span style=\"color: #0087ff; text-decoration-color: #0087ff\">MaxPooling2D</span>)    │ <span style=\"color: #00af00; text-decoration-color: #00af00\">128</span>)            │           │                │       │\n",
       "├───────────────────┼─────────────────┼───────────┼────────────────┼───────┤\n",
       "│ batch_normalizat… │ (<span style=\"color: #00d7ff; text-decoration-color: #00d7ff\">None</span>, <span style=\"color: #00af00; text-decoration-color: #00af00\">63</span>, <span style=\"color: #00af00; text-decoration-color: #00af00\">63</span>,  │       <span style=\"color: #00af00; text-decoration-color: #00af00\">512</span> │ conv2d[<span style=\"color: #00af00; text-decoration-color: #00af00\">0</span>][<span style=\"color: #00af00; text-decoration-color: #00af00\">0</span>]   │   <span style=\"color: #ff0000; text-decoration-color: #ff0000; font-weight: bold\">N</span>   │\n",
       "│ (<span style=\"color: #0087ff; text-decoration-color: #0087ff\">BatchNormalizat…</span> │ <span style=\"color: #00af00; text-decoration-color: #00af00\">128</span>)            │           │                │       │\n",
       "├───────────────────┼─────────────────┼───────────┼────────────────┼───────┤\n",
       "│ add (<span style=\"color: #0087ff; text-decoration-color: #0087ff\">Add</span>)         │ (<span style=\"color: #00d7ff; text-decoration-color: #00d7ff\">None</span>, <span style=\"color: #00af00; text-decoration-color: #00af00\">63</span>, <span style=\"color: #00af00; text-decoration-color: #00af00\">63</span>,  │         <span style=\"color: #00af00; text-decoration-color: #00af00\">0</span> │ block2_pool[<span style=\"color: #00af00; text-decoration-color: #00af00\">0</span>… │   <span style=\"font-weight: bold\">-</span>   │\n",
       "│                   │ <span style=\"color: #00af00; text-decoration-color: #00af00\">128</span>)            │           │ batch_normali… │       │\n",
       "├───────────────────┼─────────────────┼───────────┼────────────────┼───────┤\n",
       "│ block3_sepconv1_… │ (<span style=\"color: #00d7ff; text-decoration-color: #00d7ff\">None</span>, <span style=\"color: #00af00; text-decoration-color: #00af00\">63</span>, <span style=\"color: #00af00; text-decoration-color: #00af00\">63</span>,  │         <span style=\"color: #00af00; text-decoration-color: #00af00\">0</span> │ add[<span style=\"color: #00af00; text-decoration-color: #00af00\">0</span>][<span style=\"color: #00af00; text-decoration-color: #00af00\">0</span>]      │   <span style=\"font-weight: bold\">-</span>   │\n",
       "│ (<span style=\"color: #0087ff; text-decoration-color: #0087ff\">Activation</span>)      │ <span style=\"color: #00af00; text-decoration-color: #00af00\">128</span>)            │           │                │       │\n",
       "├───────────────────┼─────────────────┼───────────┼────────────────┼───────┤\n",
       "│ block3_sepconv1   │ (<span style=\"color: #00d7ff; text-decoration-color: #00d7ff\">None</span>, <span style=\"color: #00af00; text-decoration-color: #00af00\">63</span>, <span style=\"color: #00af00; text-decoration-color: #00af00\">63</span>,  │    <span style=\"color: #00af00; text-decoration-color: #00af00\">33,920</span> │ block3_sepcon… │   <span style=\"color: #ff0000; text-decoration-color: #ff0000; font-weight: bold\">N</span>   │\n",
       "│ (<span style=\"color: #0087ff; text-decoration-color: #0087ff\">SeparableConv2D</span>) │ <span style=\"color: #00af00; text-decoration-color: #00af00\">256</span>)            │           │                │       │\n",
       "├───────────────────┼─────────────────┼───────────┼────────────────┼───────┤\n",
       "│ block3_sepconv1_… │ (<span style=\"color: #00d7ff; text-decoration-color: #00d7ff\">None</span>, <span style=\"color: #00af00; text-decoration-color: #00af00\">63</span>, <span style=\"color: #00af00; text-decoration-color: #00af00\">63</span>,  │     <span style=\"color: #00af00; text-decoration-color: #00af00\">1,024</span> │ block3_sepcon… │   <span style=\"color: #ff0000; text-decoration-color: #ff0000; font-weight: bold\">N</span>   │\n",
       "│ (<span style=\"color: #0087ff; text-decoration-color: #0087ff\">BatchNormalizat…</span> │ <span style=\"color: #00af00; text-decoration-color: #00af00\">256</span>)            │           │                │       │\n",
       "├───────────────────┼─────────────────┼───────────┼────────────────┼───────┤\n",
       "│ block3_sepconv2_… │ (<span style=\"color: #00d7ff; text-decoration-color: #00d7ff\">None</span>, <span style=\"color: #00af00; text-decoration-color: #00af00\">63</span>, <span style=\"color: #00af00; text-decoration-color: #00af00\">63</span>,  │         <span style=\"color: #00af00; text-decoration-color: #00af00\">0</span> │ block3_sepcon… │   <span style=\"font-weight: bold\">-</span>   │\n",
       "│ (<span style=\"color: #0087ff; text-decoration-color: #0087ff\">Activation</span>)      │ <span style=\"color: #00af00; text-decoration-color: #00af00\">256</span>)            │           │                │       │\n",
       "├───────────────────┼─────────────────┼───────────┼────────────────┼───────┤\n",
       "│ block3_sepconv2   │ (<span style=\"color: #00d7ff; text-decoration-color: #00d7ff\">None</span>, <span style=\"color: #00af00; text-decoration-color: #00af00\">63</span>, <span style=\"color: #00af00; text-decoration-color: #00af00\">63</span>,  │    <span style=\"color: #00af00; text-decoration-color: #00af00\">67,840</span> │ block3_sepcon… │   <span style=\"color: #ff0000; text-decoration-color: #ff0000; font-weight: bold\">N</span>   │\n",
       "│ (<span style=\"color: #0087ff; text-decoration-color: #0087ff\">SeparableConv2D</span>) │ <span style=\"color: #00af00; text-decoration-color: #00af00\">256</span>)            │           │                │       │\n",
       "├───────────────────┼─────────────────┼───────────┼────────────────┼───────┤\n",
       "│ block3_sepconv2_… │ (<span style=\"color: #00d7ff; text-decoration-color: #00d7ff\">None</span>, <span style=\"color: #00af00; text-decoration-color: #00af00\">63</span>, <span style=\"color: #00af00; text-decoration-color: #00af00\">63</span>,  │     <span style=\"color: #00af00; text-decoration-color: #00af00\">1,024</span> │ block3_sepcon… │   <span style=\"color: #ff0000; text-decoration-color: #ff0000; font-weight: bold\">N</span>   │\n",
       "│ (<span style=\"color: #0087ff; text-decoration-color: #0087ff\">BatchNormalizat…</span> │ <span style=\"color: #00af00; text-decoration-color: #00af00\">256</span>)            │           │                │       │\n",
       "├───────────────────┼─────────────────┼───────────┼────────────────┼───────┤\n",
       "│ conv2d_1 (<span style=\"color: #0087ff; text-decoration-color: #0087ff\">Conv2D</span>) │ (<span style=\"color: #00d7ff; text-decoration-color: #00d7ff\">None</span>, <span style=\"color: #00af00; text-decoration-color: #00af00\">32</span>, <span style=\"color: #00af00; text-decoration-color: #00af00\">32</span>,  │    <span style=\"color: #00af00; text-decoration-color: #00af00\">32,768</span> │ add[<span style=\"color: #00af00; text-decoration-color: #00af00\">0</span>][<span style=\"color: #00af00; text-decoration-color: #00af00\">0</span>]      │   <span style=\"color: #ff0000; text-decoration-color: #ff0000; font-weight: bold\">N</span>   │\n",
       "│                   │ <span style=\"color: #00af00; text-decoration-color: #00af00\">256</span>)            │           │                │       │\n",
       "├───────────────────┼─────────────────┼───────────┼────────────────┼───────┤\n",
       "│ block3_pool       │ (<span style=\"color: #00d7ff; text-decoration-color: #00d7ff\">None</span>, <span style=\"color: #00af00; text-decoration-color: #00af00\">32</span>, <span style=\"color: #00af00; text-decoration-color: #00af00\">32</span>,  │         <span style=\"color: #00af00; text-decoration-color: #00af00\">0</span> │ block3_sepcon… │   <span style=\"font-weight: bold\">-</span>   │\n",
       "│ (<span style=\"color: #0087ff; text-decoration-color: #0087ff\">MaxPooling2D</span>)    │ <span style=\"color: #00af00; text-decoration-color: #00af00\">256</span>)            │           │                │       │\n",
       "├───────────────────┼─────────────────┼───────────┼────────────────┼───────┤\n",
       "│ batch_normalizat… │ (<span style=\"color: #00d7ff; text-decoration-color: #00d7ff\">None</span>, <span style=\"color: #00af00; text-decoration-color: #00af00\">32</span>, <span style=\"color: #00af00; text-decoration-color: #00af00\">32</span>,  │     <span style=\"color: #00af00; text-decoration-color: #00af00\">1,024</span> │ conv2d_1[<span style=\"color: #00af00; text-decoration-color: #00af00\">0</span>][<span style=\"color: #00af00; text-decoration-color: #00af00\">0</span>] │   <span style=\"color: #ff0000; text-decoration-color: #ff0000; font-weight: bold\">N</span>   │\n",
       "│ (<span style=\"color: #0087ff; text-decoration-color: #0087ff\">BatchNormalizat…</span> │ <span style=\"color: #00af00; text-decoration-color: #00af00\">256</span>)            │           │                │       │\n",
       "├───────────────────┼─────────────────┼───────────┼────────────────┼───────┤\n",
       "│ add_1 (<span style=\"color: #0087ff; text-decoration-color: #0087ff\">Add</span>)       │ (<span style=\"color: #00d7ff; text-decoration-color: #00d7ff\">None</span>, <span style=\"color: #00af00; text-decoration-color: #00af00\">32</span>, <span style=\"color: #00af00; text-decoration-color: #00af00\">32</span>,  │         <span style=\"color: #00af00; text-decoration-color: #00af00\">0</span> │ block3_pool[<span style=\"color: #00af00; text-decoration-color: #00af00\">0</span>… │   <span style=\"font-weight: bold\">-</span>   │\n",
       "│                   │ <span style=\"color: #00af00; text-decoration-color: #00af00\">256</span>)            │           │ batch_normali… │       │\n",
       "├───────────────────┼─────────────────┼───────────┼────────────────┼───────┤\n",
       "│ block4_sepconv1_… │ (<span style=\"color: #00d7ff; text-decoration-color: #00d7ff\">None</span>, <span style=\"color: #00af00; text-decoration-color: #00af00\">32</span>, <span style=\"color: #00af00; text-decoration-color: #00af00\">32</span>,  │         <span style=\"color: #00af00; text-decoration-color: #00af00\">0</span> │ add_1[<span style=\"color: #00af00; text-decoration-color: #00af00\">0</span>][<span style=\"color: #00af00; text-decoration-color: #00af00\">0</span>]    │   <span style=\"font-weight: bold\">-</span>   │\n",
       "│ (<span style=\"color: #0087ff; text-decoration-color: #0087ff\">Activation</span>)      │ <span style=\"color: #00af00; text-decoration-color: #00af00\">256</span>)            │           │                │       │\n",
       "├───────────────────┼─────────────────┼───────────┼────────────────┼───────┤\n",
       "│ block4_sepconv1   │ (<span style=\"color: #00d7ff; text-decoration-color: #00d7ff\">None</span>, <span style=\"color: #00af00; text-decoration-color: #00af00\">32</span>, <span style=\"color: #00af00; text-decoration-color: #00af00\">32</span>,  │   <span style=\"color: #00af00; text-decoration-color: #00af00\">188,672</span> │ block4_sepcon… │   <span style=\"color: #ff0000; text-decoration-color: #ff0000; font-weight: bold\">N</span>   │\n",
       "│ (<span style=\"color: #0087ff; text-decoration-color: #0087ff\">SeparableConv2D</span>) │ <span style=\"color: #00af00; text-decoration-color: #00af00\">728</span>)            │           │                │       │\n",
       "├───────────────────┼─────────────────┼───────────┼────────────────┼───────┤\n",
       "│ block4_sepconv1_… │ (<span style=\"color: #00d7ff; text-decoration-color: #00d7ff\">None</span>, <span style=\"color: #00af00; text-decoration-color: #00af00\">32</span>, <span style=\"color: #00af00; text-decoration-color: #00af00\">32</span>,  │     <span style=\"color: #00af00; text-decoration-color: #00af00\">2,912</span> │ block4_sepcon… │   <span style=\"color: #ff0000; text-decoration-color: #ff0000; font-weight: bold\">N</span>   │\n",
       "│ (<span style=\"color: #0087ff; text-decoration-color: #0087ff\">BatchNormalizat…</span> │ <span style=\"color: #00af00; text-decoration-color: #00af00\">728</span>)            │           │                │       │\n",
       "├───────────────────┼─────────────────┼───────────┼────────────────┼───────┤\n",
       "│ block4_sepconv2_… │ (<span style=\"color: #00d7ff; text-decoration-color: #00d7ff\">None</span>, <span style=\"color: #00af00; text-decoration-color: #00af00\">32</span>, <span style=\"color: #00af00; text-decoration-color: #00af00\">32</span>,  │         <span style=\"color: #00af00; text-decoration-color: #00af00\">0</span> │ block4_sepcon… │   <span style=\"font-weight: bold\">-</span>   │\n",
       "│ (<span style=\"color: #0087ff; text-decoration-color: #0087ff\">Activation</span>)      │ <span style=\"color: #00af00; text-decoration-color: #00af00\">728</span>)            │           │                │       │\n",
       "├───────────────────┼─────────────────┼───────────┼────────────────┼───────┤\n",
       "│ block4_sepconv2   │ (<span style=\"color: #00d7ff; text-decoration-color: #00d7ff\">None</span>, <span style=\"color: #00af00; text-decoration-color: #00af00\">32</span>, <span style=\"color: #00af00; text-decoration-color: #00af00\">32</span>,  │   <span style=\"color: #00af00; text-decoration-color: #00af00\">536,536</span> │ block4_sepcon… │   <span style=\"color: #ff0000; text-decoration-color: #ff0000; font-weight: bold\">N</span>   │\n",
       "│ (<span style=\"color: #0087ff; text-decoration-color: #0087ff\">SeparableConv2D</span>) │ <span style=\"color: #00af00; text-decoration-color: #00af00\">728</span>)            │           │                │       │\n",
       "├───────────────────┼─────────────────┼───────────┼────────────────┼───────┤\n",
       "│ block4_sepconv2_… │ (<span style=\"color: #00d7ff; text-decoration-color: #00d7ff\">None</span>, <span style=\"color: #00af00; text-decoration-color: #00af00\">32</span>, <span style=\"color: #00af00; text-decoration-color: #00af00\">32</span>,  │     <span style=\"color: #00af00; text-decoration-color: #00af00\">2,912</span> │ block4_sepcon… │   <span style=\"color: #ff0000; text-decoration-color: #ff0000; font-weight: bold\">N</span>   │\n",
       "│ (<span style=\"color: #0087ff; text-decoration-color: #0087ff\">BatchNormalizat…</span> │ <span style=\"color: #00af00; text-decoration-color: #00af00\">728</span>)            │           │                │       │\n",
       "├───────────────────┼─────────────────┼───────────┼────────────────┼───────┤\n",
       "│ conv2d_2 (<span style=\"color: #0087ff; text-decoration-color: #0087ff\">Conv2D</span>) │ (<span style=\"color: #00d7ff; text-decoration-color: #00d7ff\">None</span>, <span style=\"color: #00af00; text-decoration-color: #00af00\">16</span>, <span style=\"color: #00af00; text-decoration-color: #00af00\">16</span>,  │   <span style=\"color: #00af00; text-decoration-color: #00af00\">186,368</span> │ add_1[<span style=\"color: #00af00; text-decoration-color: #00af00\">0</span>][<span style=\"color: #00af00; text-decoration-color: #00af00\">0</span>]    │   <span style=\"color: #ff0000; text-decoration-color: #ff0000; font-weight: bold\">N</span>   │\n",
       "│                   │ <span style=\"color: #00af00; text-decoration-color: #00af00\">728</span>)            │           │                │       │\n",
       "├───────────────────┼─────────────────┼───────────┼────────────────┼───────┤\n",
       "│ block4_pool       │ (<span style=\"color: #00d7ff; text-decoration-color: #00d7ff\">None</span>, <span style=\"color: #00af00; text-decoration-color: #00af00\">16</span>, <span style=\"color: #00af00; text-decoration-color: #00af00\">16</span>,  │         <span style=\"color: #00af00; text-decoration-color: #00af00\">0</span> │ block4_sepcon… │   <span style=\"font-weight: bold\">-</span>   │\n",
       "│ (<span style=\"color: #0087ff; text-decoration-color: #0087ff\">MaxPooling2D</span>)    │ <span style=\"color: #00af00; text-decoration-color: #00af00\">728</span>)            │           │                │       │\n",
       "├───────────────────┼─────────────────┼───────────┼────────────────┼───────┤\n",
       "│ batch_normalizat… │ (<span style=\"color: #00d7ff; text-decoration-color: #00d7ff\">None</span>, <span style=\"color: #00af00; text-decoration-color: #00af00\">16</span>, <span style=\"color: #00af00; text-decoration-color: #00af00\">16</span>,  │     <span style=\"color: #00af00; text-decoration-color: #00af00\">2,912</span> │ conv2d_2[<span style=\"color: #00af00; text-decoration-color: #00af00\">0</span>][<span style=\"color: #00af00; text-decoration-color: #00af00\">0</span>] │   <span style=\"color: #ff0000; text-decoration-color: #ff0000; font-weight: bold\">N</span>   │\n",
       "│ (<span style=\"color: #0087ff; text-decoration-color: #0087ff\">BatchNormalizat…</span> │ <span style=\"color: #00af00; text-decoration-color: #00af00\">728</span>)            │           │                │       │\n",
       "├───────────────────┼─────────────────┼───────────┼────────────────┼───────┤\n",
       "│ add_2 (<span style=\"color: #0087ff; text-decoration-color: #0087ff\">Add</span>)       │ (<span style=\"color: #00d7ff; text-decoration-color: #00d7ff\">None</span>, <span style=\"color: #00af00; text-decoration-color: #00af00\">16</span>, <span style=\"color: #00af00; text-decoration-color: #00af00\">16</span>,  │         <span style=\"color: #00af00; text-decoration-color: #00af00\">0</span> │ block4_pool[<span style=\"color: #00af00; text-decoration-color: #00af00\">0</span>… │   <span style=\"font-weight: bold\">-</span>   │\n",
       "│                   │ <span style=\"color: #00af00; text-decoration-color: #00af00\">728</span>)            │           │ batch_normali… │       │\n",
       "├───────────────────┼─────────────────┼───────────┼────────────────┼───────┤\n",
       "│ block5_sepconv1_… │ (<span style=\"color: #00d7ff; text-decoration-color: #00d7ff\">None</span>, <span style=\"color: #00af00; text-decoration-color: #00af00\">16</span>, <span style=\"color: #00af00; text-decoration-color: #00af00\">16</span>,  │         <span style=\"color: #00af00; text-decoration-color: #00af00\">0</span> │ add_2[<span style=\"color: #00af00; text-decoration-color: #00af00\">0</span>][<span style=\"color: #00af00; text-decoration-color: #00af00\">0</span>]    │   <span style=\"font-weight: bold\">-</span>   │\n",
       "│ (<span style=\"color: #0087ff; text-decoration-color: #0087ff\">Activation</span>)      │ <span style=\"color: #00af00; text-decoration-color: #00af00\">728</span>)            │           │                │       │\n",
       "├───────────────────┼─────────────────┼───────────┼────────────────┼───────┤\n",
       "│ block5_sepconv1   │ (<span style=\"color: #00d7ff; text-decoration-color: #00d7ff\">None</span>, <span style=\"color: #00af00; text-decoration-color: #00af00\">16</span>, <span style=\"color: #00af00; text-decoration-color: #00af00\">16</span>,  │   <span style=\"color: #00af00; text-decoration-color: #00af00\">536,536</span> │ block5_sepcon… │   <span style=\"color: #ff0000; text-decoration-color: #ff0000; font-weight: bold\">N</span>   │\n",
       "│ (<span style=\"color: #0087ff; text-decoration-color: #0087ff\">SeparableConv2D</span>) │ <span style=\"color: #00af00; text-decoration-color: #00af00\">728</span>)            │           │                │       │\n",
       "├───────────────────┼─────────────────┼───────────┼────────────────┼───────┤\n",
       "│ block5_sepconv1_… │ (<span style=\"color: #00d7ff; text-decoration-color: #00d7ff\">None</span>, <span style=\"color: #00af00; text-decoration-color: #00af00\">16</span>, <span style=\"color: #00af00; text-decoration-color: #00af00\">16</span>,  │     <span style=\"color: #00af00; text-decoration-color: #00af00\">2,912</span> │ block5_sepcon… │   <span style=\"color: #ff0000; text-decoration-color: #ff0000; font-weight: bold\">N</span>   │\n",
       "│ (<span style=\"color: #0087ff; text-decoration-color: #0087ff\">BatchNormalizat…</span> │ <span style=\"color: #00af00; text-decoration-color: #00af00\">728</span>)            │           │                │       │\n",
       "├───────────────────┼─────────────────┼───────────┼────────────────┼───────┤\n",
       "│ block5_sepconv2_… │ (<span style=\"color: #00d7ff; text-decoration-color: #00d7ff\">None</span>, <span style=\"color: #00af00; text-decoration-color: #00af00\">16</span>, <span style=\"color: #00af00; text-decoration-color: #00af00\">16</span>,  │         <span style=\"color: #00af00; text-decoration-color: #00af00\">0</span> │ block5_sepcon… │   <span style=\"font-weight: bold\">-</span>   │\n",
       "│ (<span style=\"color: #0087ff; text-decoration-color: #0087ff\">Activation</span>)      │ <span style=\"color: #00af00; text-decoration-color: #00af00\">728</span>)            │           │                │       │\n",
       "├───────────────────┼─────────────────┼───────────┼────────────────┼───────┤\n",
       "│ block5_sepconv2   │ (<span style=\"color: #00d7ff; text-decoration-color: #00d7ff\">None</span>, <span style=\"color: #00af00; text-decoration-color: #00af00\">16</span>, <span style=\"color: #00af00; text-decoration-color: #00af00\">16</span>,  │   <span style=\"color: #00af00; text-decoration-color: #00af00\">536,536</span> │ block5_sepcon… │   <span style=\"color: #ff0000; text-decoration-color: #ff0000; font-weight: bold\">N</span>   │\n",
       "│ (<span style=\"color: #0087ff; text-decoration-color: #0087ff\">SeparableConv2D</span>) │ <span style=\"color: #00af00; text-decoration-color: #00af00\">728</span>)            │           │                │       │\n",
       "├───────────────────┼─────────────────┼───────────┼────────────────┼───────┤\n",
       "│ block5_sepconv2_… │ (<span style=\"color: #00d7ff; text-decoration-color: #00d7ff\">None</span>, <span style=\"color: #00af00; text-decoration-color: #00af00\">16</span>, <span style=\"color: #00af00; text-decoration-color: #00af00\">16</span>,  │     <span style=\"color: #00af00; text-decoration-color: #00af00\">2,912</span> │ block5_sepcon… │   <span style=\"color: #ff0000; text-decoration-color: #ff0000; font-weight: bold\">N</span>   │\n",
       "│ (<span style=\"color: #0087ff; text-decoration-color: #0087ff\">BatchNormalizat…</span> │ <span style=\"color: #00af00; text-decoration-color: #00af00\">728</span>)            │           │                │       │\n",
       "├───────────────────┼─────────────────┼───────────┼────────────────┼───────┤\n",
       "│ block5_sepconv3_… │ (<span style=\"color: #00d7ff; text-decoration-color: #00d7ff\">None</span>, <span style=\"color: #00af00; text-decoration-color: #00af00\">16</span>, <span style=\"color: #00af00; text-decoration-color: #00af00\">16</span>,  │         <span style=\"color: #00af00; text-decoration-color: #00af00\">0</span> │ block5_sepcon… │   <span style=\"font-weight: bold\">-</span>   │\n",
       "│ (<span style=\"color: #0087ff; text-decoration-color: #0087ff\">Activation</span>)      │ <span style=\"color: #00af00; text-decoration-color: #00af00\">728</span>)            │           │                │       │\n",
       "├───────────────────┼─────────────────┼───────────┼────────────────┼───────┤\n",
       "│ block5_sepconv3   │ (<span style=\"color: #00d7ff; text-decoration-color: #00d7ff\">None</span>, <span style=\"color: #00af00; text-decoration-color: #00af00\">16</span>, <span style=\"color: #00af00; text-decoration-color: #00af00\">16</span>,  │   <span style=\"color: #00af00; text-decoration-color: #00af00\">536,536</span> │ block5_sepcon… │   <span style=\"color: #ff0000; text-decoration-color: #ff0000; font-weight: bold\">N</span>   │\n",
       "│ (<span style=\"color: #0087ff; text-decoration-color: #0087ff\">SeparableConv2D</span>) │ <span style=\"color: #00af00; text-decoration-color: #00af00\">728</span>)            │           │                │       │\n",
       "├───────────────────┼─────────────────┼───────────┼────────────────┼───────┤\n",
       "│ block5_sepconv3_… │ (<span style=\"color: #00d7ff; text-decoration-color: #00d7ff\">None</span>, <span style=\"color: #00af00; text-decoration-color: #00af00\">16</span>, <span style=\"color: #00af00; text-decoration-color: #00af00\">16</span>,  │     <span style=\"color: #00af00; text-decoration-color: #00af00\">2,912</span> │ block5_sepcon… │   <span style=\"color: #ff0000; text-decoration-color: #ff0000; font-weight: bold\">N</span>   │\n",
       "│ (<span style=\"color: #0087ff; text-decoration-color: #0087ff\">BatchNormalizat…</span> │ <span style=\"color: #00af00; text-decoration-color: #00af00\">728</span>)            │           │                │       │\n",
       "├───────────────────┼─────────────────┼───────────┼────────────────┼───────┤\n",
       "│ add_3 (<span style=\"color: #0087ff; text-decoration-color: #0087ff\">Add</span>)       │ (<span style=\"color: #00d7ff; text-decoration-color: #00d7ff\">None</span>, <span style=\"color: #00af00; text-decoration-color: #00af00\">16</span>, <span style=\"color: #00af00; text-decoration-color: #00af00\">16</span>,  │         <span style=\"color: #00af00; text-decoration-color: #00af00\">0</span> │ block5_sepcon… │   <span style=\"font-weight: bold\">-</span>   │\n",
       "│                   │ <span style=\"color: #00af00; text-decoration-color: #00af00\">728</span>)            │           │ add_2[<span style=\"color: #00af00; text-decoration-color: #00af00\">0</span>][<span style=\"color: #00af00; text-decoration-color: #00af00\">0</span>]    │       │\n",
       "├───────────────────┼─────────────────┼───────────┼────────────────┼───────┤\n",
       "│ block6_sepconv1_… │ (<span style=\"color: #00d7ff; text-decoration-color: #00d7ff\">None</span>, <span style=\"color: #00af00; text-decoration-color: #00af00\">16</span>, <span style=\"color: #00af00; text-decoration-color: #00af00\">16</span>,  │         <span style=\"color: #00af00; text-decoration-color: #00af00\">0</span> │ add_3[<span style=\"color: #00af00; text-decoration-color: #00af00\">0</span>][<span style=\"color: #00af00; text-decoration-color: #00af00\">0</span>]    │   <span style=\"font-weight: bold\">-</span>   │\n",
       "│ (<span style=\"color: #0087ff; text-decoration-color: #0087ff\">Activation</span>)      │ <span style=\"color: #00af00; text-decoration-color: #00af00\">728</span>)            │           │                │       │\n",
       "├───────────────────┼─────────────────┼───────────┼────────────────┼───────┤\n",
       "│ block6_sepconv1   │ (<span style=\"color: #00d7ff; text-decoration-color: #00d7ff\">None</span>, <span style=\"color: #00af00; text-decoration-color: #00af00\">16</span>, <span style=\"color: #00af00; text-decoration-color: #00af00\">16</span>,  │   <span style=\"color: #00af00; text-decoration-color: #00af00\">536,536</span> │ block6_sepcon… │   <span style=\"color: #ff0000; text-decoration-color: #ff0000; font-weight: bold\">N</span>   │\n",
       "│ (<span style=\"color: #0087ff; text-decoration-color: #0087ff\">SeparableConv2D</span>) │ <span style=\"color: #00af00; text-decoration-color: #00af00\">728</span>)            │           │                │       │\n",
       "├───────────────────┼─────────────────┼───────────┼────────────────┼───────┤\n",
       "│ block6_sepconv1_… │ (<span style=\"color: #00d7ff; text-decoration-color: #00d7ff\">None</span>, <span style=\"color: #00af00; text-decoration-color: #00af00\">16</span>, <span style=\"color: #00af00; text-decoration-color: #00af00\">16</span>,  │     <span style=\"color: #00af00; text-decoration-color: #00af00\">2,912</span> │ block6_sepcon… │   <span style=\"color: #ff0000; text-decoration-color: #ff0000; font-weight: bold\">N</span>   │\n",
       "│ (<span style=\"color: #0087ff; text-decoration-color: #0087ff\">BatchNormalizat…</span> │ <span style=\"color: #00af00; text-decoration-color: #00af00\">728</span>)            │           │                │       │\n",
       "├───────────────────┼─────────────────┼───────────┼────────────────┼───────┤\n",
       "│ block6_sepconv2_… │ (<span style=\"color: #00d7ff; text-decoration-color: #00d7ff\">None</span>, <span style=\"color: #00af00; text-decoration-color: #00af00\">16</span>, <span style=\"color: #00af00; text-decoration-color: #00af00\">16</span>,  │         <span style=\"color: #00af00; text-decoration-color: #00af00\">0</span> │ block6_sepcon… │   <span style=\"font-weight: bold\">-</span>   │\n",
       "│ (<span style=\"color: #0087ff; text-decoration-color: #0087ff\">Activation</span>)      │ <span style=\"color: #00af00; text-decoration-color: #00af00\">728</span>)            │           │                │       │\n",
       "├───────────────────┼─────────────────┼───────────┼────────────────┼───────┤\n",
       "│ block6_sepconv2   │ (<span style=\"color: #00d7ff; text-decoration-color: #00d7ff\">None</span>, <span style=\"color: #00af00; text-decoration-color: #00af00\">16</span>, <span style=\"color: #00af00; text-decoration-color: #00af00\">16</span>,  │   <span style=\"color: #00af00; text-decoration-color: #00af00\">536,536</span> │ block6_sepcon… │   <span style=\"color: #ff0000; text-decoration-color: #ff0000; font-weight: bold\">N</span>   │\n",
       "│ (<span style=\"color: #0087ff; text-decoration-color: #0087ff\">SeparableConv2D</span>) │ <span style=\"color: #00af00; text-decoration-color: #00af00\">728</span>)            │           │                │       │\n",
       "├───────────────────┼─────────────────┼───────────┼────────────────┼───────┤\n",
       "│ block6_sepconv2_… │ (<span style=\"color: #00d7ff; text-decoration-color: #00d7ff\">None</span>, <span style=\"color: #00af00; text-decoration-color: #00af00\">16</span>, <span style=\"color: #00af00; text-decoration-color: #00af00\">16</span>,  │     <span style=\"color: #00af00; text-decoration-color: #00af00\">2,912</span> │ block6_sepcon… │   <span style=\"color: #ff0000; text-decoration-color: #ff0000; font-weight: bold\">N</span>   │\n",
       "│ (<span style=\"color: #0087ff; text-decoration-color: #0087ff\">BatchNormalizat…</span> │ <span style=\"color: #00af00; text-decoration-color: #00af00\">728</span>)            │           │                │       │\n",
       "├───────────────────┼─────────────────┼───────────┼────────────────┼───────┤\n",
       "│ block6_sepconv3_… │ (<span style=\"color: #00d7ff; text-decoration-color: #00d7ff\">None</span>, <span style=\"color: #00af00; text-decoration-color: #00af00\">16</span>, <span style=\"color: #00af00; text-decoration-color: #00af00\">16</span>,  │         <span style=\"color: #00af00; text-decoration-color: #00af00\">0</span> │ block6_sepcon… │   <span style=\"font-weight: bold\">-</span>   │\n",
       "│ (<span style=\"color: #0087ff; text-decoration-color: #0087ff\">Activation</span>)      │ <span style=\"color: #00af00; text-decoration-color: #00af00\">728</span>)            │           │                │       │\n",
       "├───────────────────┼─────────────────┼───────────┼────────────────┼───────┤\n",
       "│ block6_sepconv3   │ (<span style=\"color: #00d7ff; text-decoration-color: #00d7ff\">None</span>, <span style=\"color: #00af00; text-decoration-color: #00af00\">16</span>, <span style=\"color: #00af00; text-decoration-color: #00af00\">16</span>,  │   <span style=\"color: #00af00; text-decoration-color: #00af00\">536,536</span> │ block6_sepcon… │   <span style=\"color: #ff0000; text-decoration-color: #ff0000; font-weight: bold\">N</span>   │\n",
       "│ (<span style=\"color: #0087ff; text-decoration-color: #0087ff\">SeparableConv2D</span>) │ <span style=\"color: #00af00; text-decoration-color: #00af00\">728</span>)            │           │                │       │\n",
       "├───────────────────┼─────────────────┼───────────┼────────────────┼───────┤\n",
       "│ block6_sepconv3_… │ (<span style=\"color: #00d7ff; text-decoration-color: #00d7ff\">None</span>, <span style=\"color: #00af00; text-decoration-color: #00af00\">16</span>, <span style=\"color: #00af00; text-decoration-color: #00af00\">16</span>,  │     <span style=\"color: #00af00; text-decoration-color: #00af00\">2,912</span> │ block6_sepcon… │   <span style=\"color: #ff0000; text-decoration-color: #ff0000; font-weight: bold\">N</span>   │\n",
       "│ (<span style=\"color: #0087ff; text-decoration-color: #0087ff\">BatchNormalizat…</span> │ <span style=\"color: #00af00; text-decoration-color: #00af00\">728</span>)            │           │                │       │\n",
       "├───────────────────┼─────────────────┼───────────┼────────────────┼───────┤\n",
       "│ add_4 (<span style=\"color: #0087ff; text-decoration-color: #0087ff\">Add</span>)       │ (<span style=\"color: #00d7ff; text-decoration-color: #00d7ff\">None</span>, <span style=\"color: #00af00; text-decoration-color: #00af00\">16</span>, <span style=\"color: #00af00; text-decoration-color: #00af00\">16</span>,  │         <span style=\"color: #00af00; text-decoration-color: #00af00\">0</span> │ block6_sepcon… │   <span style=\"font-weight: bold\">-</span>   │\n",
       "│                   │ <span style=\"color: #00af00; text-decoration-color: #00af00\">728</span>)            │           │ add_3[<span style=\"color: #00af00; text-decoration-color: #00af00\">0</span>][<span style=\"color: #00af00; text-decoration-color: #00af00\">0</span>]    │       │\n",
       "├───────────────────┼─────────────────┼───────────┼────────────────┼───────┤\n",
       "│ block7_sepconv1_… │ (<span style=\"color: #00d7ff; text-decoration-color: #00d7ff\">None</span>, <span style=\"color: #00af00; text-decoration-color: #00af00\">16</span>, <span style=\"color: #00af00; text-decoration-color: #00af00\">16</span>,  │         <span style=\"color: #00af00; text-decoration-color: #00af00\">0</span> │ add_4[<span style=\"color: #00af00; text-decoration-color: #00af00\">0</span>][<span style=\"color: #00af00; text-decoration-color: #00af00\">0</span>]    │   <span style=\"font-weight: bold\">-</span>   │\n",
       "│ (<span style=\"color: #0087ff; text-decoration-color: #0087ff\">Activation</span>)      │ <span style=\"color: #00af00; text-decoration-color: #00af00\">728</span>)            │           │                │       │\n",
       "├───────────────────┼─────────────────┼───────────┼────────────────┼───────┤\n",
       "│ block7_sepconv1   │ (<span style=\"color: #00d7ff; text-decoration-color: #00d7ff\">None</span>, <span style=\"color: #00af00; text-decoration-color: #00af00\">16</span>, <span style=\"color: #00af00; text-decoration-color: #00af00\">16</span>,  │   <span style=\"color: #00af00; text-decoration-color: #00af00\">536,536</span> │ block7_sepcon… │   <span style=\"color: #ff0000; text-decoration-color: #ff0000; font-weight: bold\">N</span>   │\n",
       "│ (<span style=\"color: #0087ff; text-decoration-color: #0087ff\">SeparableConv2D</span>) │ <span style=\"color: #00af00; text-decoration-color: #00af00\">728</span>)            │           │                │       │\n",
       "├───────────────────┼─────────────────┼───────────┼────────────────┼───────┤\n",
       "│ block7_sepconv1_… │ (<span style=\"color: #00d7ff; text-decoration-color: #00d7ff\">None</span>, <span style=\"color: #00af00; text-decoration-color: #00af00\">16</span>, <span style=\"color: #00af00; text-decoration-color: #00af00\">16</span>,  │     <span style=\"color: #00af00; text-decoration-color: #00af00\">2,912</span> │ block7_sepcon… │   <span style=\"color: #ff0000; text-decoration-color: #ff0000; font-weight: bold\">N</span>   │\n",
       "│ (<span style=\"color: #0087ff; text-decoration-color: #0087ff\">BatchNormalizat…</span> │ <span style=\"color: #00af00; text-decoration-color: #00af00\">728</span>)            │           │                │       │\n",
       "├───────────────────┼─────────────────┼───────────┼────────────────┼───────┤\n",
       "│ block7_sepconv2_… │ (<span style=\"color: #00d7ff; text-decoration-color: #00d7ff\">None</span>, <span style=\"color: #00af00; text-decoration-color: #00af00\">16</span>, <span style=\"color: #00af00; text-decoration-color: #00af00\">16</span>,  │         <span style=\"color: #00af00; text-decoration-color: #00af00\">0</span> │ block7_sepcon… │   <span style=\"font-weight: bold\">-</span>   │\n",
       "│ (<span style=\"color: #0087ff; text-decoration-color: #0087ff\">Activation</span>)      │ <span style=\"color: #00af00; text-decoration-color: #00af00\">728</span>)            │           │                │       │\n",
       "├───────────────────┼─────────────────┼───────────┼────────────────┼───────┤\n",
       "│ block7_sepconv2   │ (<span style=\"color: #00d7ff; text-decoration-color: #00d7ff\">None</span>, <span style=\"color: #00af00; text-decoration-color: #00af00\">16</span>, <span style=\"color: #00af00; text-decoration-color: #00af00\">16</span>,  │   <span style=\"color: #00af00; text-decoration-color: #00af00\">536,536</span> │ block7_sepcon… │   <span style=\"color: #ff0000; text-decoration-color: #ff0000; font-weight: bold\">N</span>   │\n",
       "│ (<span style=\"color: #0087ff; text-decoration-color: #0087ff\">SeparableConv2D</span>) │ <span style=\"color: #00af00; text-decoration-color: #00af00\">728</span>)            │           │                │       │\n",
       "├───────────────────┼─────────────────┼───────────┼────────────────┼───────┤\n",
       "│ block7_sepconv2_… │ (<span style=\"color: #00d7ff; text-decoration-color: #00d7ff\">None</span>, <span style=\"color: #00af00; text-decoration-color: #00af00\">16</span>, <span style=\"color: #00af00; text-decoration-color: #00af00\">16</span>,  │     <span style=\"color: #00af00; text-decoration-color: #00af00\">2,912</span> │ block7_sepcon… │   <span style=\"color: #ff0000; text-decoration-color: #ff0000; font-weight: bold\">N</span>   │\n",
       "│ (<span style=\"color: #0087ff; text-decoration-color: #0087ff\">BatchNormalizat…</span> │ <span style=\"color: #00af00; text-decoration-color: #00af00\">728</span>)            │           │                │       │\n",
       "├───────────────────┼─────────────────┼───────────┼────────────────┼───────┤\n",
       "│ block7_sepconv3_… │ (<span style=\"color: #00d7ff; text-decoration-color: #00d7ff\">None</span>, <span style=\"color: #00af00; text-decoration-color: #00af00\">16</span>, <span style=\"color: #00af00; text-decoration-color: #00af00\">16</span>,  │         <span style=\"color: #00af00; text-decoration-color: #00af00\">0</span> │ block7_sepcon… │   <span style=\"font-weight: bold\">-</span>   │\n",
       "│ (<span style=\"color: #0087ff; text-decoration-color: #0087ff\">Activation</span>)      │ <span style=\"color: #00af00; text-decoration-color: #00af00\">728</span>)            │           │                │       │\n",
       "├───────────────────┼─────────────────┼───────────┼────────────────┼───────┤\n",
       "│ block7_sepconv3   │ (<span style=\"color: #00d7ff; text-decoration-color: #00d7ff\">None</span>, <span style=\"color: #00af00; text-decoration-color: #00af00\">16</span>, <span style=\"color: #00af00; text-decoration-color: #00af00\">16</span>,  │   <span style=\"color: #00af00; text-decoration-color: #00af00\">536,536</span> │ block7_sepcon… │   <span style=\"color: #ff0000; text-decoration-color: #ff0000; font-weight: bold\">N</span>   │\n",
       "│ (<span style=\"color: #0087ff; text-decoration-color: #0087ff\">SeparableConv2D</span>) │ <span style=\"color: #00af00; text-decoration-color: #00af00\">728</span>)            │           │                │       │\n",
       "├───────────────────┼─────────────────┼───────────┼────────────────┼───────┤\n",
       "│ block7_sepconv3_… │ (<span style=\"color: #00d7ff; text-decoration-color: #00d7ff\">None</span>, <span style=\"color: #00af00; text-decoration-color: #00af00\">16</span>, <span style=\"color: #00af00; text-decoration-color: #00af00\">16</span>,  │     <span style=\"color: #00af00; text-decoration-color: #00af00\">2,912</span> │ block7_sepcon… │   <span style=\"color: #ff0000; text-decoration-color: #ff0000; font-weight: bold\">N</span>   │\n",
       "│ (<span style=\"color: #0087ff; text-decoration-color: #0087ff\">BatchNormalizat…</span> │ <span style=\"color: #00af00; text-decoration-color: #00af00\">728</span>)            │           │                │       │\n",
       "├───────────────────┼─────────────────┼───────────┼────────────────┼───────┤\n",
       "│ add_5 (<span style=\"color: #0087ff; text-decoration-color: #0087ff\">Add</span>)       │ (<span style=\"color: #00d7ff; text-decoration-color: #00d7ff\">None</span>, <span style=\"color: #00af00; text-decoration-color: #00af00\">16</span>, <span style=\"color: #00af00; text-decoration-color: #00af00\">16</span>,  │         <span style=\"color: #00af00; text-decoration-color: #00af00\">0</span> │ block7_sepcon… │   <span style=\"font-weight: bold\">-</span>   │\n",
       "│                   │ <span style=\"color: #00af00; text-decoration-color: #00af00\">728</span>)            │           │ add_4[<span style=\"color: #00af00; text-decoration-color: #00af00\">0</span>][<span style=\"color: #00af00; text-decoration-color: #00af00\">0</span>]    │       │\n",
       "├───────────────────┼─────────────────┼───────────┼────────────────┼───────┤\n",
       "│ block8_sepconv1_… │ (<span style=\"color: #00d7ff; text-decoration-color: #00d7ff\">None</span>, <span style=\"color: #00af00; text-decoration-color: #00af00\">16</span>, <span style=\"color: #00af00; text-decoration-color: #00af00\">16</span>,  │         <span style=\"color: #00af00; text-decoration-color: #00af00\">0</span> │ add_5[<span style=\"color: #00af00; text-decoration-color: #00af00\">0</span>][<span style=\"color: #00af00; text-decoration-color: #00af00\">0</span>]    │   <span style=\"font-weight: bold\">-</span>   │\n",
       "│ (<span style=\"color: #0087ff; text-decoration-color: #0087ff\">Activation</span>)      │ <span style=\"color: #00af00; text-decoration-color: #00af00\">728</span>)            │           │                │       │\n",
       "├───────────────────┼─────────────────┼───────────┼────────────────┼───────┤\n",
       "│ block8_sepconv1   │ (<span style=\"color: #00d7ff; text-decoration-color: #00d7ff\">None</span>, <span style=\"color: #00af00; text-decoration-color: #00af00\">16</span>, <span style=\"color: #00af00; text-decoration-color: #00af00\">16</span>,  │   <span style=\"color: #00af00; text-decoration-color: #00af00\">536,536</span> │ block8_sepcon… │   <span style=\"color: #ff0000; text-decoration-color: #ff0000; font-weight: bold\">N</span>   │\n",
       "│ (<span style=\"color: #0087ff; text-decoration-color: #0087ff\">SeparableConv2D</span>) │ <span style=\"color: #00af00; text-decoration-color: #00af00\">728</span>)            │           │                │       │\n",
       "├───────────────────┼─────────────────┼───────────┼────────────────┼───────┤\n",
       "│ block8_sepconv1_… │ (<span style=\"color: #00d7ff; text-decoration-color: #00d7ff\">None</span>, <span style=\"color: #00af00; text-decoration-color: #00af00\">16</span>, <span style=\"color: #00af00; text-decoration-color: #00af00\">16</span>,  │     <span style=\"color: #00af00; text-decoration-color: #00af00\">2,912</span> │ block8_sepcon… │   <span style=\"color: #ff0000; text-decoration-color: #ff0000; font-weight: bold\">N</span>   │\n",
       "│ (<span style=\"color: #0087ff; text-decoration-color: #0087ff\">BatchNormalizat…</span> │ <span style=\"color: #00af00; text-decoration-color: #00af00\">728</span>)            │           │                │       │\n",
       "├───────────────────┼─────────────────┼───────────┼────────────────┼───────┤\n",
       "│ block8_sepconv2_… │ (<span style=\"color: #00d7ff; text-decoration-color: #00d7ff\">None</span>, <span style=\"color: #00af00; text-decoration-color: #00af00\">16</span>, <span style=\"color: #00af00; text-decoration-color: #00af00\">16</span>,  │         <span style=\"color: #00af00; text-decoration-color: #00af00\">0</span> │ block8_sepcon… │   <span style=\"font-weight: bold\">-</span>   │\n",
       "│ (<span style=\"color: #0087ff; text-decoration-color: #0087ff\">Activation</span>)      │ <span style=\"color: #00af00; text-decoration-color: #00af00\">728</span>)            │           │                │       │\n",
       "├───────────────────┼─────────────────┼───────────┼────────────────┼───────┤\n",
       "│ block8_sepconv2   │ (<span style=\"color: #00d7ff; text-decoration-color: #00d7ff\">None</span>, <span style=\"color: #00af00; text-decoration-color: #00af00\">16</span>, <span style=\"color: #00af00; text-decoration-color: #00af00\">16</span>,  │   <span style=\"color: #00af00; text-decoration-color: #00af00\">536,536</span> │ block8_sepcon… │   <span style=\"color: #ff0000; text-decoration-color: #ff0000; font-weight: bold\">N</span>   │\n",
       "│ (<span style=\"color: #0087ff; text-decoration-color: #0087ff\">SeparableConv2D</span>) │ <span style=\"color: #00af00; text-decoration-color: #00af00\">728</span>)            │           │                │       │\n",
       "├───────────────────┼─────────────────┼───────────┼────────────────┼───────┤\n",
       "│ block8_sepconv2_… │ (<span style=\"color: #00d7ff; text-decoration-color: #00d7ff\">None</span>, <span style=\"color: #00af00; text-decoration-color: #00af00\">16</span>, <span style=\"color: #00af00; text-decoration-color: #00af00\">16</span>,  │     <span style=\"color: #00af00; text-decoration-color: #00af00\">2,912</span> │ block8_sepcon… │   <span style=\"color: #ff0000; text-decoration-color: #ff0000; font-weight: bold\">N</span>   │\n",
       "│ (<span style=\"color: #0087ff; text-decoration-color: #0087ff\">BatchNormalizat…</span> │ <span style=\"color: #00af00; text-decoration-color: #00af00\">728</span>)            │           │                │       │\n",
       "├───────────────────┼─────────────────┼───────────┼────────────────┼───────┤\n",
       "│ block8_sepconv3_… │ (<span style=\"color: #00d7ff; text-decoration-color: #00d7ff\">None</span>, <span style=\"color: #00af00; text-decoration-color: #00af00\">16</span>, <span style=\"color: #00af00; text-decoration-color: #00af00\">16</span>,  │         <span style=\"color: #00af00; text-decoration-color: #00af00\">0</span> │ block8_sepcon… │   <span style=\"font-weight: bold\">-</span>   │\n",
       "│ (<span style=\"color: #0087ff; text-decoration-color: #0087ff\">Activation</span>)      │ <span style=\"color: #00af00; text-decoration-color: #00af00\">728</span>)            │           │                │       │\n",
       "├───────────────────┼─────────────────┼───────────┼────────────────┼───────┤\n",
       "│ block8_sepconv3   │ (<span style=\"color: #00d7ff; text-decoration-color: #00d7ff\">None</span>, <span style=\"color: #00af00; text-decoration-color: #00af00\">16</span>, <span style=\"color: #00af00; text-decoration-color: #00af00\">16</span>,  │   <span style=\"color: #00af00; text-decoration-color: #00af00\">536,536</span> │ block8_sepcon… │   <span style=\"color: #ff0000; text-decoration-color: #ff0000; font-weight: bold\">N</span>   │\n",
       "│ (<span style=\"color: #0087ff; text-decoration-color: #0087ff\">SeparableConv2D</span>) │ <span style=\"color: #00af00; text-decoration-color: #00af00\">728</span>)            │           │                │       │\n",
       "├───────────────────┼─────────────────┼───────────┼────────────────┼───────┤\n",
       "│ block8_sepconv3_… │ (<span style=\"color: #00d7ff; text-decoration-color: #00d7ff\">None</span>, <span style=\"color: #00af00; text-decoration-color: #00af00\">16</span>, <span style=\"color: #00af00; text-decoration-color: #00af00\">16</span>,  │     <span style=\"color: #00af00; text-decoration-color: #00af00\">2,912</span> │ block8_sepcon… │   <span style=\"color: #ff0000; text-decoration-color: #ff0000; font-weight: bold\">N</span>   │\n",
       "│ (<span style=\"color: #0087ff; text-decoration-color: #0087ff\">BatchNormalizat…</span> │ <span style=\"color: #00af00; text-decoration-color: #00af00\">728</span>)            │           │                │       │\n",
       "├───────────────────┼─────────────────┼───────────┼────────────────┼───────┤\n",
       "│ add_6 (<span style=\"color: #0087ff; text-decoration-color: #0087ff\">Add</span>)       │ (<span style=\"color: #00d7ff; text-decoration-color: #00d7ff\">None</span>, <span style=\"color: #00af00; text-decoration-color: #00af00\">16</span>, <span style=\"color: #00af00; text-decoration-color: #00af00\">16</span>,  │         <span style=\"color: #00af00; text-decoration-color: #00af00\">0</span> │ block8_sepcon… │   <span style=\"font-weight: bold\">-</span>   │\n",
       "│                   │ <span style=\"color: #00af00; text-decoration-color: #00af00\">728</span>)            │           │ add_5[<span style=\"color: #00af00; text-decoration-color: #00af00\">0</span>][<span style=\"color: #00af00; text-decoration-color: #00af00\">0</span>]    │       │\n",
       "├───────────────────┼─────────────────┼───────────┼────────────────┼───────┤\n",
       "│ block9_sepconv1_… │ (<span style=\"color: #00d7ff; text-decoration-color: #00d7ff\">None</span>, <span style=\"color: #00af00; text-decoration-color: #00af00\">16</span>, <span style=\"color: #00af00; text-decoration-color: #00af00\">16</span>,  │         <span style=\"color: #00af00; text-decoration-color: #00af00\">0</span> │ add_6[<span style=\"color: #00af00; text-decoration-color: #00af00\">0</span>][<span style=\"color: #00af00; text-decoration-color: #00af00\">0</span>]    │   <span style=\"font-weight: bold\">-</span>   │\n",
       "│ (<span style=\"color: #0087ff; text-decoration-color: #0087ff\">Activation</span>)      │ <span style=\"color: #00af00; text-decoration-color: #00af00\">728</span>)            │           │                │       │\n",
       "├───────────────────┼─────────────────┼───────────┼────────────────┼───────┤\n",
       "│ block9_sepconv1   │ (<span style=\"color: #00d7ff; text-decoration-color: #00d7ff\">None</span>, <span style=\"color: #00af00; text-decoration-color: #00af00\">16</span>, <span style=\"color: #00af00; text-decoration-color: #00af00\">16</span>,  │   <span style=\"color: #00af00; text-decoration-color: #00af00\">536,536</span> │ block9_sepcon… │   <span style=\"color: #ff0000; text-decoration-color: #ff0000; font-weight: bold\">N</span>   │\n",
       "│ (<span style=\"color: #0087ff; text-decoration-color: #0087ff\">SeparableConv2D</span>) │ <span style=\"color: #00af00; text-decoration-color: #00af00\">728</span>)            │           │                │       │\n",
       "├───────────────────┼─────────────────┼───────────┼────────────────┼───────┤\n",
       "│ block9_sepconv1_… │ (<span style=\"color: #00d7ff; text-decoration-color: #00d7ff\">None</span>, <span style=\"color: #00af00; text-decoration-color: #00af00\">16</span>, <span style=\"color: #00af00; text-decoration-color: #00af00\">16</span>,  │     <span style=\"color: #00af00; text-decoration-color: #00af00\">2,912</span> │ block9_sepcon… │   <span style=\"color: #ff0000; text-decoration-color: #ff0000; font-weight: bold\">N</span>   │\n",
       "│ (<span style=\"color: #0087ff; text-decoration-color: #0087ff\">BatchNormalizat…</span> │ <span style=\"color: #00af00; text-decoration-color: #00af00\">728</span>)            │           │                │       │\n",
       "├───────────────────┼─────────────────┼───────────┼────────────────┼───────┤\n",
       "│ block9_sepconv2_… │ (<span style=\"color: #00d7ff; text-decoration-color: #00d7ff\">None</span>, <span style=\"color: #00af00; text-decoration-color: #00af00\">16</span>, <span style=\"color: #00af00; text-decoration-color: #00af00\">16</span>,  │         <span style=\"color: #00af00; text-decoration-color: #00af00\">0</span> │ block9_sepcon… │   <span style=\"font-weight: bold\">-</span>   │\n",
       "│ (<span style=\"color: #0087ff; text-decoration-color: #0087ff\">Activation</span>)      │ <span style=\"color: #00af00; text-decoration-color: #00af00\">728</span>)            │           │                │       │\n",
       "├───────────────────┼─────────────────┼───────────┼────────────────┼───────┤\n",
       "│ block9_sepconv2   │ (<span style=\"color: #00d7ff; text-decoration-color: #00d7ff\">None</span>, <span style=\"color: #00af00; text-decoration-color: #00af00\">16</span>, <span style=\"color: #00af00; text-decoration-color: #00af00\">16</span>,  │   <span style=\"color: #00af00; text-decoration-color: #00af00\">536,536</span> │ block9_sepcon… │   <span style=\"color: #ff0000; text-decoration-color: #ff0000; font-weight: bold\">N</span>   │\n",
       "│ (<span style=\"color: #0087ff; text-decoration-color: #0087ff\">SeparableConv2D</span>) │ <span style=\"color: #00af00; text-decoration-color: #00af00\">728</span>)            │           │                │       │\n",
       "├───────────────────┼─────────────────┼───────────┼────────────────┼───────┤\n",
       "│ block9_sepconv2_… │ (<span style=\"color: #00d7ff; text-decoration-color: #00d7ff\">None</span>, <span style=\"color: #00af00; text-decoration-color: #00af00\">16</span>, <span style=\"color: #00af00; text-decoration-color: #00af00\">16</span>,  │     <span style=\"color: #00af00; text-decoration-color: #00af00\">2,912</span> │ block9_sepcon… │   <span style=\"color: #ff0000; text-decoration-color: #ff0000; font-weight: bold\">N</span>   │\n",
       "│ (<span style=\"color: #0087ff; text-decoration-color: #0087ff\">BatchNormalizat…</span> │ <span style=\"color: #00af00; text-decoration-color: #00af00\">728</span>)            │           │                │       │\n",
       "├───────────────────┼─────────────────┼───────────┼────────────────┼───────┤\n",
       "│ block9_sepconv3_… │ (<span style=\"color: #00d7ff; text-decoration-color: #00d7ff\">None</span>, <span style=\"color: #00af00; text-decoration-color: #00af00\">16</span>, <span style=\"color: #00af00; text-decoration-color: #00af00\">16</span>,  │         <span style=\"color: #00af00; text-decoration-color: #00af00\">0</span> │ block9_sepcon… │   <span style=\"font-weight: bold\">-</span>   │\n",
       "│ (<span style=\"color: #0087ff; text-decoration-color: #0087ff\">Activation</span>)      │ <span style=\"color: #00af00; text-decoration-color: #00af00\">728</span>)            │           │                │       │\n",
       "├───────────────────┼─────────────────┼───────────┼────────────────┼───────┤\n",
       "│ block9_sepconv3   │ (<span style=\"color: #00d7ff; text-decoration-color: #00d7ff\">None</span>, <span style=\"color: #00af00; text-decoration-color: #00af00\">16</span>, <span style=\"color: #00af00; text-decoration-color: #00af00\">16</span>,  │   <span style=\"color: #00af00; text-decoration-color: #00af00\">536,536</span> │ block9_sepcon… │   <span style=\"color: #ff0000; text-decoration-color: #ff0000; font-weight: bold\">N</span>   │\n",
       "│ (<span style=\"color: #0087ff; text-decoration-color: #0087ff\">SeparableConv2D</span>) │ <span style=\"color: #00af00; text-decoration-color: #00af00\">728</span>)            │           │                │       │\n",
       "├───────────────────┼─────────────────┼───────────┼────────────────┼───────┤\n",
       "│ block9_sepconv3_… │ (<span style=\"color: #00d7ff; text-decoration-color: #00d7ff\">None</span>, <span style=\"color: #00af00; text-decoration-color: #00af00\">16</span>, <span style=\"color: #00af00; text-decoration-color: #00af00\">16</span>,  │     <span style=\"color: #00af00; text-decoration-color: #00af00\">2,912</span> │ block9_sepcon… │   <span style=\"color: #ff0000; text-decoration-color: #ff0000; font-weight: bold\">N</span>   │\n",
       "│ (<span style=\"color: #0087ff; text-decoration-color: #0087ff\">BatchNormalizat…</span> │ <span style=\"color: #00af00; text-decoration-color: #00af00\">728</span>)            │           │                │       │\n",
       "├───────────────────┼─────────────────┼───────────┼────────────────┼───────┤\n",
       "│ add_7 (<span style=\"color: #0087ff; text-decoration-color: #0087ff\">Add</span>)       │ (<span style=\"color: #00d7ff; text-decoration-color: #00d7ff\">None</span>, <span style=\"color: #00af00; text-decoration-color: #00af00\">16</span>, <span style=\"color: #00af00; text-decoration-color: #00af00\">16</span>,  │         <span style=\"color: #00af00; text-decoration-color: #00af00\">0</span> │ block9_sepcon… │   <span style=\"font-weight: bold\">-</span>   │\n",
       "│                   │ <span style=\"color: #00af00; text-decoration-color: #00af00\">728</span>)            │           │ add_6[<span style=\"color: #00af00; text-decoration-color: #00af00\">0</span>][<span style=\"color: #00af00; text-decoration-color: #00af00\">0</span>]    │       │\n",
       "├───────────────────┼─────────────────┼───────────┼────────────────┼───────┤\n",
       "│ block10_sepconv1… │ (<span style=\"color: #00d7ff; text-decoration-color: #00d7ff\">None</span>, <span style=\"color: #00af00; text-decoration-color: #00af00\">16</span>, <span style=\"color: #00af00; text-decoration-color: #00af00\">16</span>,  │         <span style=\"color: #00af00; text-decoration-color: #00af00\">0</span> │ add_7[<span style=\"color: #00af00; text-decoration-color: #00af00\">0</span>][<span style=\"color: #00af00; text-decoration-color: #00af00\">0</span>]    │   <span style=\"font-weight: bold\">-</span>   │\n",
       "│ (<span style=\"color: #0087ff; text-decoration-color: #0087ff\">Activation</span>)      │ <span style=\"color: #00af00; text-decoration-color: #00af00\">728</span>)            │           │                │       │\n",
       "├───────────────────┼─────────────────┼───────────┼────────────────┼───────┤\n",
       "│ block10_sepconv1  │ (<span style=\"color: #00d7ff; text-decoration-color: #00d7ff\">None</span>, <span style=\"color: #00af00; text-decoration-color: #00af00\">16</span>, <span style=\"color: #00af00; text-decoration-color: #00af00\">16</span>,  │   <span style=\"color: #00af00; text-decoration-color: #00af00\">536,536</span> │ block10_sepco… │   <span style=\"color: #ff0000; text-decoration-color: #ff0000; font-weight: bold\">N</span>   │\n",
       "│ (<span style=\"color: #0087ff; text-decoration-color: #0087ff\">SeparableConv2D</span>) │ <span style=\"color: #00af00; text-decoration-color: #00af00\">728</span>)            │           │                │       │\n",
       "├───────────────────┼─────────────────┼───────────┼────────────────┼───────┤\n",
       "│ block10_sepconv1… │ (<span style=\"color: #00d7ff; text-decoration-color: #00d7ff\">None</span>, <span style=\"color: #00af00; text-decoration-color: #00af00\">16</span>, <span style=\"color: #00af00; text-decoration-color: #00af00\">16</span>,  │     <span style=\"color: #00af00; text-decoration-color: #00af00\">2,912</span> │ block10_sepco… │   <span style=\"color: #ff0000; text-decoration-color: #ff0000; font-weight: bold\">N</span>   │\n",
       "│ (<span style=\"color: #0087ff; text-decoration-color: #0087ff\">BatchNormalizat…</span> │ <span style=\"color: #00af00; text-decoration-color: #00af00\">728</span>)            │           │                │       │\n",
       "├───────────────────┼─────────────────┼───────────┼────────────────┼───────┤\n",
       "│ block10_sepconv2… │ (<span style=\"color: #00d7ff; text-decoration-color: #00d7ff\">None</span>, <span style=\"color: #00af00; text-decoration-color: #00af00\">16</span>, <span style=\"color: #00af00; text-decoration-color: #00af00\">16</span>,  │         <span style=\"color: #00af00; text-decoration-color: #00af00\">0</span> │ block10_sepco… │   <span style=\"font-weight: bold\">-</span>   │\n",
       "│ (<span style=\"color: #0087ff; text-decoration-color: #0087ff\">Activation</span>)      │ <span style=\"color: #00af00; text-decoration-color: #00af00\">728</span>)            │           │                │       │\n",
       "├───────────────────┼─────────────────┼───────────┼────────────────┼───────┤\n",
       "│ block10_sepconv2  │ (<span style=\"color: #00d7ff; text-decoration-color: #00d7ff\">None</span>, <span style=\"color: #00af00; text-decoration-color: #00af00\">16</span>, <span style=\"color: #00af00; text-decoration-color: #00af00\">16</span>,  │   <span style=\"color: #00af00; text-decoration-color: #00af00\">536,536</span> │ block10_sepco… │   <span style=\"color: #ff0000; text-decoration-color: #ff0000; font-weight: bold\">N</span>   │\n",
       "│ (<span style=\"color: #0087ff; text-decoration-color: #0087ff\">SeparableConv2D</span>) │ <span style=\"color: #00af00; text-decoration-color: #00af00\">728</span>)            │           │                │       │\n",
       "├───────────────────┼─────────────────┼───────────┼────────────────┼───────┤\n",
       "│ block10_sepconv2… │ (<span style=\"color: #00d7ff; text-decoration-color: #00d7ff\">None</span>, <span style=\"color: #00af00; text-decoration-color: #00af00\">16</span>, <span style=\"color: #00af00; text-decoration-color: #00af00\">16</span>,  │     <span style=\"color: #00af00; text-decoration-color: #00af00\">2,912</span> │ block10_sepco… │   <span style=\"color: #ff0000; text-decoration-color: #ff0000; font-weight: bold\">N</span>   │\n",
       "│ (<span style=\"color: #0087ff; text-decoration-color: #0087ff\">BatchNormalizat…</span> │ <span style=\"color: #00af00; text-decoration-color: #00af00\">728</span>)            │           │                │       │\n",
       "├───────────────────┼─────────────────┼───────────┼────────────────┼───────┤\n",
       "│ block10_sepconv3… │ (<span style=\"color: #00d7ff; text-decoration-color: #00d7ff\">None</span>, <span style=\"color: #00af00; text-decoration-color: #00af00\">16</span>, <span style=\"color: #00af00; text-decoration-color: #00af00\">16</span>,  │         <span style=\"color: #00af00; text-decoration-color: #00af00\">0</span> │ block10_sepco… │   <span style=\"font-weight: bold\">-</span>   │\n",
       "│ (<span style=\"color: #0087ff; text-decoration-color: #0087ff\">Activation</span>)      │ <span style=\"color: #00af00; text-decoration-color: #00af00\">728</span>)            │           │                │       │\n",
       "├───────────────────┼─────────────────┼───────────┼────────────────┼───────┤\n",
       "│ block10_sepconv3  │ (<span style=\"color: #00d7ff; text-decoration-color: #00d7ff\">None</span>, <span style=\"color: #00af00; text-decoration-color: #00af00\">16</span>, <span style=\"color: #00af00; text-decoration-color: #00af00\">16</span>,  │   <span style=\"color: #00af00; text-decoration-color: #00af00\">536,536</span> │ block10_sepco… │   <span style=\"color: #ff0000; text-decoration-color: #ff0000; font-weight: bold\">N</span>   │\n",
       "│ (<span style=\"color: #0087ff; text-decoration-color: #0087ff\">SeparableConv2D</span>) │ <span style=\"color: #00af00; text-decoration-color: #00af00\">728</span>)            │           │                │       │\n",
       "├───────────────────┼─────────────────┼───────────┼────────────────┼───────┤\n",
       "│ block10_sepconv3… │ (<span style=\"color: #00d7ff; text-decoration-color: #00d7ff\">None</span>, <span style=\"color: #00af00; text-decoration-color: #00af00\">16</span>, <span style=\"color: #00af00; text-decoration-color: #00af00\">16</span>,  │     <span style=\"color: #00af00; text-decoration-color: #00af00\">2,912</span> │ block10_sepco… │   <span style=\"color: #ff0000; text-decoration-color: #ff0000; font-weight: bold\">N</span>   │\n",
       "│ (<span style=\"color: #0087ff; text-decoration-color: #0087ff\">BatchNormalizat…</span> │ <span style=\"color: #00af00; text-decoration-color: #00af00\">728</span>)            │           │                │       │\n",
       "├───────────────────┼─────────────────┼───────────┼────────────────┼───────┤\n",
       "│ add_8 (<span style=\"color: #0087ff; text-decoration-color: #0087ff\">Add</span>)       │ (<span style=\"color: #00d7ff; text-decoration-color: #00d7ff\">None</span>, <span style=\"color: #00af00; text-decoration-color: #00af00\">16</span>, <span style=\"color: #00af00; text-decoration-color: #00af00\">16</span>,  │         <span style=\"color: #00af00; text-decoration-color: #00af00\">0</span> │ block10_sepco… │   <span style=\"font-weight: bold\">-</span>   │\n",
       "│                   │ <span style=\"color: #00af00; text-decoration-color: #00af00\">728</span>)            │           │ add_7[<span style=\"color: #00af00; text-decoration-color: #00af00\">0</span>][<span style=\"color: #00af00; text-decoration-color: #00af00\">0</span>]    │       │\n",
       "├───────────────────┼─────────────────┼───────────┼────────────────┼───────┤\n",
       "│ block11_sepconv1… │ (<span style=\"color: #00d7ff; text-decoration-color: #00d7ff\">None</span>, <span style=\"color: #00af00; text-decoration-color: #00af00\">16</span>, <span style=\"color: #00af00; text-decoration-color: #00af00\">16</span>,  │         <span style=\"color: #00af00; text-decoration-color: #00af00\">0</span> │ add_8[<span style=\"color: #00af00; text-decoration-color: #00af00\">0</span>][<span style=\"color: #00af00; text-decoration-color: #00af00\">0</span>]    │   <span style=\"font-weight: bold\">-</span>   │\n",
       "│ (<span style=\"color: #0087ff; text-decoration-color: #0087ff\">Activation</span>)      │ <span style=\"color: #00af00; text-decoration-color: #00af00\">728</span>)            │           │                │       │\n",
       "├───────────────────┼─────────────────┼───────────┼────────────────┼───────┤\n",
       "│ block11_sepconv1  │ (<span style=\"color: #00d7ff; text-decoration-color: #00d7ff\">None</span>, <span style=\"color: #00af00; text-decoration-color: #00af00\">16</span>, <span style=\"color: #00af00; text-decoration-color: #00af00\">16</span>,  │   <span style=\"color: #00af00; text-decoration-color: #00af00\">536,536</span> │ block11_sepco… │   <span style=\"color: #ff0000; text-decoration-color: #ff0000; font-weight: bold\">N</span>   │\n",
       "│ (<span style=\"color: #0087ff; text-decoration-color: #0087ff\">SeparableConv2D</span>) │ <span style=\"color: #00af00; text-decoration-color: #00af00\">728</span>)            │           │                │       │\n",
       "├───────────────────┼─────────────────┼───────────┼────────────────┼───────┤\n",
       "│ block11_sepconv1… │ (<span style=\"color: #00d7ff; text-decoration-color: #00d7ff\">None</span>, <span style=\"color: #00af00; text-decoration-color: #00af00\">16</span>, <span style=\"color: #00af00; text-decoration-color: #00af00\">16</span>,  │     <span style=\"color: #00af00; text-decoration-color: #00af00\">2,912</span> │ block11_sepco… │   <span style=\"color: #ff0000; text-decoration-color: #ff0000; font-weight: bold\">N</span>   │\n",
       "│ (<span style=\"color: #0087ff; text-decoration-color: #0087ff\">BatchNormalizat…</span> │ <span style=\"color: #00af00; text-decoration-color: #00af00\">728</span>)            │           │                │       │\n",
       "├───────────────────┼─────────────────┼───────────┼────────────────┼───────┤\n",
       "│ block11_sepconv2… │ (<span style=\"color: #00d7ff; text-decoration-color: #00d7ff\">None</span>, <span style=\"color: #00af00; text-decoration-color: #00af00\">16</span>, <span style=\"color: #00af00; text-decoration-color: #00af00\">16</span>,  │         <span style=\"color: #00af00; text-decoration-color: #00af00\">0</span> │ block11_sepco… │   <span style=\"font-weight: bold\">-</span>   │\n",
       "│ (<span style=\"color: #0087ff; text-decoration-color: #0087ff\">Activation</span>)      │ <span style=\"color: #00af00; text-decoration-color: #00af00\">728</span>)            │           │                │       │\n",
       "├───────────────────┼─────────────────┼───────────┼────────────────┼───────┤\n",
       "│ block11_sepconv2  │ (<span style=\"color: #00d7ff; text-decoration-color: #00d7ff\">None</span>, <span style=\"color: #00af00; text-decoration-color: #00af00\">16</span>, <span style=\"color: #00af00; text-decoration-color: #00af00\">16</span>,  │   <span style=\"color: #00af00; text-decoration-color: #00af00\">536,536</span> │ block11_sepco… │   <span style=\"color: #ff0000; text-decoration-color: #ff0000; font-weight: bold\">N</span>   │\n",
       "│ (<span style=\"color: #0087ff; text-decoration-color: #0087ff\">SeparableConv2D</span>) │ <span style=\"color: #00af00; text-decoration-color: #00af00\">728</span>)            │           │                │       │\n",
       "├───────────────────┼─────────────────┼───────────┼────────────────┼───────┤\n",
       "│ block11_sepconv2… │ (<span style=\"color: #00d7ff; text-decoration-color: #00d7ff\">None</span>, <span style=\"color: #00af00; text-decoration-color: #00af00\">16</span>, <span style=\"color: #00af00; text-decoration-color: #00af00\">16</span>,  │     <span style=\"color: #00af00; text-decoration-color: #00af00\">2,912</span> │ block11_sepco… │   <span style=\"color: #ff0000; text-decoration-color: #ff0000; font-weight: bold\">N</span>   │\n",
       "│ (<span style=\"color: #0087ff; text-decoration-color: #0087ff\">BatchNormalizat…</span> │ <span style=\"color: #00af00; text-decoration-color: #00af00\">728</span>)            │           │                │       │\n",
       "├───────────────────┼─────────────────┼───────────┼────────────────┼───────┤\n",
       "│ block11_sepconv3… │ (<span style=\"color: #00d7ff; text-decoration-color: #00d7ff\">None</span>, <span style=\"color: #00af00; text-decoration-color: #00af00\">16</span>, <span style=\"color: #00af00; text-decoration-color: #00af00\">16</span>,  │         <span style=\"color: #00af00; text-decoration-color: #00af00\">0</span> │ block11_sepco… │   <span style=\"font-weight: bold\">-</span>   │\n",
       "│ (<span style=\"color: #0087ff; text-decoration-color: #0087ff\">Activation</span>)      │ <span style=\"color: #00af00; text-decoration-color: #00af00\">728</span>)            │           │                │       │\n",
       "├───────────────────┼─────────────────┼───────────┼────────────────┼───────┤\n",
       "│ block11_sepconv3  │ (<span style=\"color: #00d7ff; text-decoration-color: #00d7ff\">None</span>, <span style=\"color: #00af00; text-decoration-color: #00af00\">16</span>, <span style=\"color: #00af00; text-decoration-color: #00af00\">16</span>,  │   <span style=\"color: #00af00; text-decoration-color: #00af00\">536,536</span> │ block11_sepco… │   <span style=\"color: #ff0000; text-decoration-color: #ff0000; font-weight: bold\">N</span>   │\n",
       "│ (<span style=\"color: #0087ff; text-decoration-color: #0087ff\">SeparableConv2D</span>) │ <span style=\"color: #00af00; text-decoration-color: #00af00\">728</span>)            │           │                │       │\n",
       "├───────────────────┼─────────────────┼───────────┼────────────────┼───────┤\n",
       "│ block11_sepconv3… │ (<span style=\"color: #00d7ff; text-decoration-color: #00d7ff\">None</span>, <span style=\"color: #00af00; text-decoration-color: #00af00\">16</span>, <span style=\"color: #00af00; text-decoration-color: #00af00\">16</span>,  │     <span style=\"color: #00af00; text-decoration-color: #00af00\">2,912</span> │ block11_sepco… │   <span style=\"color: #ff0000; text-decoration-color: #ff0000; font-weight: bold\">N</span>   │\n",
       "│ (<span style=\"color: #0087ff; text-decoration-color: #0087ff\">BatchNormalizat…</span> │ <span style=\"color: #00af00; text-decoration-color: #00af00\">728</span>)            │           │                │       │\n",
       "├───────────────────┼─────────────────┼───────────┼────────────────┼───────┤\n",
       "│ add_9 (<span style=\"color: #0087ff; text-decoration-color: #0087ff\">Add</span>)       │ (<span style=\"color: #00d7ff; text-decoration-color: #00d7ff\">None</span>, <span style=\"color: #00af00; text-decoration-color: #00af00\">16</span>, <span style=\"color: #00af00; text-decoration-color: #00af00\">16</span>,  │         <span style=\"color: #00af00; text-decoration-color: #00af00\">0</span> │ block11_sepco… │   <span style=\"font-weight: bold\">-</span>   │\n",
       "│                   │ <span style=\"color: #00af00; text-decoration-color: #00af00\">728</span>)            │           │ add_8[<span style=\"color: #00af00; text-decoration-color: #00af00\">0</span>][<span style=\"color: #00af00; text-decoration-color: #00af00\">0</span>]    │       │\n",
       "├───────────────────┼─────────────────┼───────────┼────────────────┼───────┤\n",
       "│ block12_sepconv1… │ (<span style=\"color: #00d7ff; text-decoration-color: #00d7ff\">None</span>, <span style=\"color: #00af00; text-decoration-color: #00af00\">16</span>, <span style=\"color: #00af00; text-decoration-color: #00af00\">16</span>,  │         <span style=\"color: #00af00; text-decoration-color: #00af00\">0</span> │ add_9[<span style=\"color: #00af00; text-decoration-color: #00af00\">0</span>][<span style=\"color: #00af00; text-decoration-color: #00af00\">0</span>]    │   <span style=\"font-weight: bold\">-</span>   │\n",
       "│ (<span style=\"color: #0087ff; text-decoration-color: #0087ff\">Activation</span>)      │ <span style=\"color: #00af00; text-decoration-color: #00af00\">728</span>)            │           │                │       │\n",
       "├───────────────────┼─────────────────┼───────────┼────────────────┼───────┤\n",
       "│ block12_sepconv1  │ (<span style=\"color: #00d7ff; text-decoration-color: #00d7ff\">None</span>, <span style=\"color: #00af00; text-decoration-color: #00af00\">16</span>, <span style=\"color: #00af00; text-decoration-color: #00af00\">16</span>,  │   <span style=\"color: #00af00; text-decoration-color: #00af00\">536,536</span> │ block12_sepco… │   <span style=\"color: #ff0000; text-decoration-color: #ff0000; font-weight: bold\">N</span>   │\n",
       "│ (<span style=\"color: #0087ff; text-decoration-color: #0087ff\">SeparableConv2D</span>) │ <span style=\"color: #00af00; text-decoration-color: #00af00\">728</span>)            │           │                │       │\n",
       "├───────────────────┼─────────────────┼───────────┼────────────────┼───────┤\n",
       "│ block12_sepconv1… │ (<span style=\"color: #00d7ff; text-decoration-color: #00d7ff\">None</span>, <span style=\"color: #00af00; text-decoration-color: #00af00\">16</span>, <span style=\"color: #00af00; text-decoration-color: #00af00\">16</span>,  │     <span style=\"color: #00af00; text-decoration-color: #00af00\">2,912</span> │ block12_sepco… │   <span style=\"color: #ff0000; text-decoration-color: #ff0000; font-weight: bold\">N</span>   │\n",
       "│ (<span style=\"color: #0087ff; text-decoration-color: #0087ff\">BatchNormalizat…</span> │ <span style=\"color: #00af00; text-decoration-color: #00af00\">728</span>)            │           │                │       │\n",
       "├───────────────────┼─────────────────┼───────────┼────────────────┼───────┤\n",
       "│ block12_sepconv2… │ (<span style=\"color: #00d7ff; text-decoration-color: #00d7ff\">None</span>, <span style=\"color: #00af00; text-decoration-color: #00af00\">16</span>, <span style=\"color: #00af00; text-decoration-color: #00af00\">16</span>,  │         <span style=\"color: #00af00; text-decoration-color: #00af00\">0</span> │ block12_sepco… │   <span style=\"font-weight: bold\">-</span>   │\n",
       "│ (<span style=\"color: #0087ff; text-decoration-color: #0087ff\">Activation</span>)      │ <span style=\"color: #00af00; text-decoration-color: #00af00\">728</span>)            │           │                │       │\n",
       "├───────────────────┼─────────────────┼───────────┼────────────────┼───────┤\n",
       "│ block12_sepconv2  │ (<span style=\"color: #00d7ff; text-decoration-color: #00d7ff\">None</span>, <span style=\"color: #00af00; text-decoration-color: #00af00\">16</span>, <span style=\"color: #00af00; text-decoration-color: #00af00\">16</span>,  │   <span style=\"color: #00af00; text-decoration-color: #00af00\">536,536</span> │ block12_sepco… │   <span style=\"color: #ff0000; text-decoration-color: #ff0000; font-weight: bold\">N</span>   │\n",
       "│ (<span style=\"color: #0087ff; text-decoration-color: #0087ff\">SeparableConv2D</span>) │ <span style=\"color: #00af00; text-decoration-color: #00af00\">728</span>)            │           │                │       │\n",
       "├───────────────────┼─────────────────┼───────────┼────────────────┼───────┤\n",
       "│ block12_sepconv2… │ (<span style=\"color: #00d7ff; text-decoration-color: #00d7ff\">None</span>, <span style=\"color: #00af00; text-decoration-color: #00af00\">16</span>, <span style=\"color: #00af00; text-decoration-color: #00af00\">16</span>,  │     <span style=\"color: #00af00; text-decoration-color: #00af00\">2,912</span> │ block12_sepco… │   <span style=\"color: #ff0000; text-decoration-color: #ff0000; font-weight: bold\">N</span>   │\n",
       "│ (<span style=\"color: #0087ff; text-decoration-color: #0087ff\">BatchNormalizat…</span> │ <span style=\"color: #00af00; text-decoration-color: #00af00\">728</span>)            │           │                │       │\n",
       "├───────────────────┼─────────────────┼───────────┼────────────────┼───────┤\n",
       "│ block12_sepconv3… │ (<span style=\"color: #00d7ff; text-decoration-color: #00d7ff\">None</span>, <span style=\"color: #00af00; text-decoration-color: #00af00\">16</span>, <span style=\"color: #00af00; text-decoration-color: #00af00\">16</span>,  │         <span style=\"color: #00af00; text-decoration-color: #00af00\">0</span> │ block12_sepco… │   <span style=\"font-weight: bold\">-</span>   │\n",
       "│ (<span style=\"color: #0087ff; text-decoration-color: #0087ff\">Activation</span>)      │ <span style=\"color: #00af00; text-decoration-color: #00af00\">728</span>)            │           │                │       │\n",
       "├───────────────────┼─────────────────┼───────────┼────────────────┼───────┤\n",
       "│ block12_sepconv3  │ (<span style=\"color: #00d7ff; text-decoration-color: #00d7ff\">None</span>, <span style=\"color: #00af00; text-decoration-color: #00af00\">16</span>, <span style=\"color: #00af00; text-decoration-color: #00af00\">16</span>,  │   <span style=\"color: #00af00; text-decoration-color: #00af00\">536,536</span> │ block12_sepco… │   <span style=\"color: #ff0000; text-decoration-color: #ff0000; font-weight: bold\">N</span>   │\n",
       "│ (<span style=\"color: #0087ff; text-decoration-color: #0087ff\">SeparableConv2D</span>) │ <span style=\"color: #00af00; text-decoration-color: #00af00\">728</span>)            │           │                │       │\n",
       "├───────────────────┼─────────────────┼───────────┼────────────────┼───────┤\n",
       "│ block12_sepconv3… │ (<span style=\"color: #00d7ff; text-decoration-color: #00d7ff\">None</span>, <span style=\"color: #00af00; text-decoration-color: #00af00\">16</span>, <span style=\"color: #00af00; text-decoration-color: #00af00\">16</span>,  │     <span style=\"color: #00af00; text-decoration-color: #00af00\">2,912</span> │ block12_sepco… │   <span style=\"color: #ff0000; text-decoration-color: #ff0000; font-weight: bold\">N</span>   │\n",
       "│ (<span style=\"color: #0087ff; text-decoration-color: #0087ff\">BatchNormalizat…</span> │ <span style=\"color: #00af00; text-decoration-color: #00af00\">728</span>)            │           │                │       │\n",
       "├───────────────────┼─────────────────┼───────────┼────────────────┼───────┤\n",
       "│ add_10 (<span style=\"color: #0087ff; text-decoration-color: #0087ff\">Add</span>)      │ (<span style=\"color: #00d7ff; text-decoration-color: #00d7ff\">None</span>, <span style=\"color: #00af00; text-decoration-color: #00af00\">16</span>, <span style=\"color: #00af00; text-decoration-color: #00af00\">16</span>,  │         <span style=\"color: #00af00; text-decoration-color: #00af00\">0</span> │ block12_sepco… │   <span style=\"font-weight: bold\">-</span>   │\n",
       "│                   │ <span style=\"color: #00af00; text-decoration-color: #00af00\">728</span>)            │           │ add_9[<span style=\"color: #00af00; text-decoration-color: #00af00\">0</span>][<span style=\"color: #00af00; text-decoration-color: #00af00\">0</span>]    │       │\n",
       "├───────────────────┼─────────────────┼───────────┼────────────────┼───────┤\n",
       "│ block13_sepconv1… │ (<span style=\"color: #00d7ff; text-decoration-color: #00d7ff\">None</span>, <span style=\"color: #00af00; text-decoration-color: #00af00\">16</span>, <span style=\"color: #00af00; text-decoration-color: #00af00\">16</span>,  │         <span style=\"color: #00af00; text-decoration-color: #00af00\">0</span> │ add_10[<span style=\"color: #00af00; text-decoration-color: #00af00\">0</span>][<span style=\"color: #00af00; text-decoration-color: #00af00\">0</span>]   │   <span style=\"font-weight: bold\">-</span>   │\n",
       "│ (<span style=\"color: #0087ff; text-decoration-color: #0087ff\">Activation</span>)      │ <span style=\"color: #00af00; text-decoration-color: #00af00\">728</span>)            │           │                │       │\n",
       "├───────────────────┼─────────────────┼───────────┼────────────────┼───────┤\n",
       "│ block13_sepconv1  │ (<span style=\"color: #00d7ff; text-decoration-color: #00d7ff\">None</span>, <span style=\"color: #00af00; text-decoration-color: #00af00\">16</span>, <span style=\"color: #00af00; text-decoration-color: #00af00\">16</span>,  │   <span style=\"color: #00af00; text-decoration-color: #00af00\">536,536</span> │ block13_sepco… │   <span style=\"color: #ff0000; text-decoration-color: #ff0000; font-weight: bold\">N</span>   │\n",
       "│ (<span style=\"color: #0087ff; text-decoration-color: #0087ff\">SeparableConv2D</span>) │ <span style=\"color: #00af00; text-decoration-color: #00af00\">728</span>)            │           │                │       │\n",
       "├───────────────────┼─────────────────┼───────────┼────────────────┼───────┤\n",
       "│ block13_sepconv1… │ (<span style=\"color: #00d7ff; text-decoration-color: #00d7ff\">None</span>, <span style=\"color: #00af00; text-decoration-color: #00af00\">16</span>, <span style=\"color: #00af00; text-decoration-color: #00af00\">16</span>,  │     <span style=\"color: #00af00; text-decoration-color: #00af00\">2,912</span> │ block13_sepco… │   <span style=\"color: #ff0000; text-decoration-color: #ff0000; font-weight: bold\">N</span>   │\n",
       "│ (<span style=\"color: #0087ff; text-decoration-color: #0087ff\">BatchNormalizat…</span> │ <span style=\"color: #00af00; text-decoration-color: #00af00\">728</span>)            │           │                │       │\n",
       "├───────────────────┼─────────────────┼───────────┼────────────────┼───────┤\n",
       "│ block13_sepconv2… │ (<span style=\"color: #00d7ff; text-decoration-color: #00d7ff\">None</span>, <span style=\"color: #00af00; text-decoration-color: #00af00\">16</span>, <span style=\"color: #00af00; text-decoration-color: #00af00\">16</span>,  │         <span style=\"color: #00af00; text-decoration-color: #00af00\">0</span> │ block13_sepco… │   <span style=\"font-weight: bold\">-</span>   │\n",
       "│ (<span style=\"color: #0087ff; text-decoration-color: #0087ff\">Activation</span>)      │ <span style=\"color: #00af00; text-decoration-color: #00af00\">728</span>)            │           │                │       │\n",
       "├───────────────────┼─────────────────┼───────────┼────────────────┼───────┤\n",
       "│ block13_sepconv2  │ (<span style=\"color: #00d7ff; text-decoration-color: #00d7ff\">None</span>, <span style=\"color: #00af00; text-decoration-color: #00af00\">16</span>, <span style=\"color: #00af00; text-decoration-color: #00af00\">16</span>,  │   <span style=\"color: #00af00; text-decoration-color: #00af00\">752,024</span> │ block13_sepco… │   <span style=\"color: #ff0000; text-decoration-color: #ff0000; font-weight: bold\">N</span>   │\n",
       "│ (<span style=\"color: #0087ff; text-decoration-color: #0087ff\">SeparableConv2D</span>) │ <span style=\"color: #00af00; text-decoration-color: #00af00\">1024</span>)           │           │                │       │\n",
       "├───────────────────┼─────────────────┼───────────┼────────────────┼───────┤\n",
       "│ block13_sepconv2… │ (<span style=\"color: #00d7ff; text-decoration-color: #00d7ff\">None</span>, <span style=\"color: #00af00; text-decoration-color: #00af00\">16</span>, <span style=\"color: #00af00; text-decoration-color: #00af00\">16</span>,  │     <span style=\"color: #00af00; text-decoration-color: #00af00\">4,096</span> │ block13_sepco… │   <span style=\"color: #ff0000; text-decoration-color: #ff0000; font-weight: bold\">N</span>   │\n",
       "│ (<span style=\"color: #0087ff; text-decoration-color: #0087ff\">BatchNormalizat…</span> │ <span style=\"color: #00af00; text-decoration-color: #00af00\">1024</span>)           │           │                │       │\n",
       "├───────────────────┼─────────────────┼───────────┼────────────────┼───────┤\n",
       "│ conv2d_3 (<span style=\"color: #0087ff; text-decoration-color: #0087ff\">Conv2D</span>) │ (<span style=\"color: #00d7ff; text-decoration-color: #00d7ff\">None</span>, <span style=\"color: #00af00; text-decoration-color: #00af00\">8</span>, <span style=\"color: #00af00; text-decoration-color: #00af00\">8</span>,    │   <span style=\"color: #00af00; text-decoration-color: #00af00\">745,472</span> │ add_10[<span style=\"color: #00af00; text-decoration-color: #00af00\">0</span>][<span style=\"color: #00af00; text-decoration-color: #00af00\">0</span>]   │   <span style=\"color: #ff0000; text-decoration-color: #ff0000; font-weight: bold\">N</span>   │\n",
       "│                   │ <span style=\"color: #00af00; text-decoration-color: #00af00\">1024</span>)           │           │                │       │\n",
       "├───────────────────┼─────────────────┼───────────┼────────────────┼───────┤\n",
       "│ block13_pool      │ (<span style=\"color: #00d7ff; text-decoration-color: #00d7ff\">None</span>, <span style=\"color: #00af00; text-decoration-color: #00af00\">8</span>, <span style=\"color: #00af00; text-decoration-color: #00af00\">8</span>,    │         <span style=\"color: #00af00; text-decoration-color: #00af00\">0</span> │ block13_sepco… │   <span style=\"font-weight: bold\">-</span>   │\n",
       "│ (<span style=\"color: #0087ff; text-decoration-color: #0087ff\">MaxPooling2D</span>)    │ <span style=\"color: #00af00; text-decoration-color: #00af00\">1024</span>)           │           │                │       │\n",
       "├───────────────────┼─────────────────┼───────────┼────────────────┼───────┤\n",
       "│ batch_normalizat… │ (<span style=\"color: #00d7ff; text-decoration-color: #00d7ff\">None</span>, <span style=\"color: #00af00; text-decoration-color: #00af00\">8</span>, <span style=\"color: #00af00; text-decoration-color: #00af00\">8</span>,    │     <span style=\"color: #00af00; text-decoration-color: #00af00\">4,096</span> │ conv2d_3[<span style=\"color: #00af00; text-decoration-color: #00af00\">0</span>][<span style=\"color: #00af00; text-decoration-color: #00af00\">0</span>] │   <span style=\"color: #ff0000; text-decoration-color: #ff0000; font-weight: bold\">N</span>   │\n",
       "│ (<span style=\"color: #0087ff; text-decoration-color: #0087ff\">BatchNormalizat…</span> │ <span style=\"color: #00af00; text-decoration-color: #00af00\">1024</span>)           │           │                │       │\n",
       "├───────────────────┼─────────────────┼───────────┼────────────────┼───────┤\n",
       "│ add_11 (<span style=\"color: #0087ff; text-decoration-color: #0087ff\">Add</span>)      │ (<span style=\"color: #00d7ff; text-decoration-color: #00d7ff\">None</span>, <span style=\"color: #00af00; text-decoration-color: #00af00\">8</span>, <span style=\"color: #00af00; text-decoration-color: #00af00\">8</span>,    │         <span style=\"color: #00af00; text-decoration-color: #00af00\">0</span> │ block13_pool[<span style=\"color: #00af00; text-decoration-color: #00af00\">…</span> │   <span style=\"font-weight: bold\">-</span>   │\n",
       "│                   │ <span style=\"color: #00af00; text-decoration-color: #00af00\">1024</span>)           │           │ batch_normali… │       │\n",
       "├───────────────────┼─────────────────┼───────────┼────────────────┼───────┤\n",
       "│ block14_sepconv1  │ (<span style=\"color: #00d7ff; text-decoration-color: #00d7ff\">None</span>, <span style=\"color: #00af00; text-decoration-color: #00af00\">8</span>, <span style=\"color: #00af00; text-decoration-color: #00af00\">8</span>,    │ <span style=\"color: #00af00; text-decoration-color: #00af00\">1,582,080</span> │ add_11[<span style=\"color: #00af00; text-decoration-color: #00af00\">0</span>][<span style=\"color: #00af00; text-decoration-color: #00af00\">0</span>]   │   <span style=\"color: #ff0000; text-decoration-color: #ff0000; font-weight: bold\">N</span>   │\n",
       "│ (<span style=\"color: #0087ff; text-decoration-color: #0087ff\">SeparableConv2D</span>) │ <span style=\"color: #00af00; text-decoration-color: #00af00\">1536</span>)           │           │                │       │\n",
       "├───────────────────┼─────────────────┼───────────┼────────────────┼───────┤\n",
       "│ block14_sepconv1… │ (<span style=\"color: #00d7ff; text-decoration-color: #00d7ff\">None</span>, <span style=\"color: #00af00; text-decoration-color: #00af00\">8</span>, <span style=\"color: #00af00; text-decoration-color: #00af00\">8</span>,    │     <span style=\"color: #00af00; text-decoration-color: #00af00\">6,144</span> │ block14_sepco… │   <span style=\"color: #ff0000; text-decoration-color: #ff0000; font-weight: bold\">N</span>   │\n",
       "│ (<span style=\"color: #0087ff; text-decoration-color: #0087ff\">BatchNormalizat…</span> │ <span style=\"color: #00af00; text-decoration-color: #00af00\">1536</span>)           │           │                │       │\n",
       "├───────────────────┼─────────────────┼───────────┼────────────────┼───────┤\n",
       "│ block14_sepconv1… │ (<span style=\"color: #00d7ff; text-decoration-color: #00d7ff\">None</span>, <span style=\"color: #00af00; text-decoration-color: #00af00\">8</span>, <span style=\"color: #00af00; text-decoration-color: #00af00\">8</span>,    │         <span style=\"color: #00af00; text-decoration-color: #00af00\">0</span> │ block14_sepco… │   <span style=\"font-weight: bold\">-</span>   │\n",
       "│ (<span style=\"color: #0087ff; text-decoration-color: #0087ff\">Activation</span>)      │ <span style=\"color: #00af00; text-decoration-color: #00af00\">1536</span>)           │           │                │       │\n",
       "├───────────────────┼─────────────────┼───────────┼────────────────┼───────┤\n",
       "│ block14_sepconv2  │ (<span style=\"color: #00d7ff; text-decoration-color: #00d7ff\">None</span>, <span style=\"color: #00af00; text-decoration-color: #00af00\">8</span>, <span style=\"color: #00af00; text-decoration-color: #00af00\">8</span>,    │ <span style=\"color: #00af00; text-decoration-color: #00af00\">3,159,552</span> │ block14_sepco… │   <span style=\"color: #ff0000; text-decoration-color: #ff0000; font-weight: bold\">N</span>   │\n",
       "│ (<span style=\"color: #0087ff; text-decoration-color: #0087ff\">SeparableConv2D</span>) │ <span style=\"color: #00af00; text-decoration-color: #00af00\">2048</span>)           │           │                │       │\n",
       "├───────────────────┼─────────────────┼───────────┼────────────────┼───────┤\n",
       "│ block14_sepconv2… │ (<span style=\"color: #00d7ff; text-decoration-color: #00d7ff\">None</span>, <span style=\"color: #00af00; text-decoration-color: #00af00\">8</span>, <span style=\"color: #00af00; text-decoration-color: #00af00\">8</span>,    │     <span style=\"color: #00af00; text-decoration-color: #00af00\">8,192</span> │ block14_sepco… │   <span style=\"color: #ff0000; text-decoration-color: #ff0000; font-weight: bold\">N</span>   │\n",
       "│ (<span style=\"color: #0087ff; text-decoration-color: #0087ff\">BatchNormalizat…</span> │ <span style=\"color: #00af00; text-decoration-color: #00af00\">2048</span>)           │           │                │       │\n",
       "├───────────────────┼─────────────────┼───────────┼────────────────┼───────┤\n",
       "│ block14_sepconv2… │ (<span style=\"color: #00d7ff; text-decoration-color: #00d7ff\">None</span>, <span style=\"color: #00af00; text-decoration-color: #00af00\">8</span>, <span style=\"color: #00af00; text-decoration-color: #00af00\">8</span>,    │         <span style=\"color: #00af00; text-decoration-color: #00af00\">0</span> │ block14_sepco… │   <span style=\"font-weight: bold\">-</span>   │\n",
       "│ (<span style=\"color: #0087ff; text-decoration-color: #0087ff\">Activation</span>)      │ <span style=\"color: #00af00; text-decoration-color: #00af00\">2048</span>)           │           │                │       │\n",
       "└───────────────────┴─────────────────┴───────────┴────────────────┴───────┘\n",
       "</pre>\n"
      ],
      "text/plain": [
       "┏━━━━━━━━━━━━━━━━━━━┳━━━━━━━━━━━━━━━━━┳━━━━━━━━━━━┳━━━━━━━━━━━━━━━━┳━━━━━━━┓\n",
       "┃\u001b[1m \u001b[0m\u001b[1mLayer (type)     \u001b[0m\u001b[1m \u001b[0m┃\u001b[1m \u001b[0m\u001b[1mOutput Shape   \u001b[0m\u001b[1m \u001b[0m┃\u001b[1m \u001b[0m\u001b[1m  Param #\u001b[0m\u001b[1m \u001b[0m┃\u001b[1m \u001b[0m\u001b[1mConnected to  \u001b[0m\u001b[1m \u001b[0m┃\u001b[1m \u001b[0m\u001b[1mTrai…\u001b[0m\u001b[1m \u001b[0m┃\n",
       "┡━━━━━━━━━━━━━━━━━━━╇━━━━━━━━━━━━━━━━━╇━━━━━━━━━━━╇━━━━━━━━━━━━━━━━╇━━━━━━━┩\n",
       "│ input_layer       │ (\u001b[38;5;45mNone\u001b[0m, \u001b[38;5;34m256\u001b[0m,     │         \u001b[38;5;34m0\u001b[0m │ -              │   \u001b[1m-\u001b[0m   │\n",
       "│ (\u001b[38;5;33mInputLayer\u001b[0m)      │ \u001b[38;5;34m256\u001b[0m, \u001b[38;5;34m3\u001b[0m)         │           │                │       │\n",
       "├───────────────────┼─────────────────┼───────────┼────────────────┼───────┤\n",
       "│ block1_conv1      │ (\u001b[38;5;45mNone\u001b[0m, \u001b[38;5;34m127\u001b[0m,     │       \u001b[38;5;34m864\u001b[0m │ input_layer[\u001b[38;5;34m0\u001b[0m… │   \u001b[1;91mN\u001b[0m   │\n",
       "│ (\u001b[38;5;33mConv2D\u001b[0m)          │ \u001b[38;5;34m127\u001b[0m, \u001b[38;5;34m32\u001b[0m)        │           │                │       │\n",
       "├───────────────────┼─────────────────┼───────────┼────────────────┼───────┤\n",
       "│ block1_conv1_bn   │ (\u001b[38;5;45mNone\u001b[0m, \u001b[38;5;34m127\u001b[0m,     │       \u001b[38;5;34m128\u001b[0m │ block1_conv1[\u001b[38;5;34m…\u001b[0m │   \u001b[1;91mN\u001b[0m   │\n",
       "│ (\u001b[38;5;33mBatchNormalizat…\u001b[0m │ \u001b[38;5;34m127\u001b[0m, \u001b[38;5;34m32\u001b[0m)        │           │                │       │\n",
       "├───────────────────┼─────────────────┼───────────┼────────────────┼───────┤\n",
       "│ block1_conv1_act  │ (\u001b[38;5;45mNone\u001b[0m, \u001b[38;5;34m127\u001b[0m,     │         \u001b[38;5;34m0\u001b[0m │ block1_conv1_… │   \u001b[1m-\u001b[0m   │\n",
       "│ (\u001b[38;5;33mActivation\u001b[0m)      │ \u001b[38;5;34m127\u001b[0m, \u001b[38;5;34m32\u001b[0m)        │           │                │       │\n",
       "├───────────────────┼─────────────────┼───────────┼────────────────┼───────┤\n",
       "│ block1_conv2      │ (\u001b[38;5;45mNone\u001b[0m, \u001b[38;5;34m125\u001b[0m,     │    \u001b[38;5;34m18,432\u001b[0m │ block1_conv1_… │   \u001b[1;91mN\u001b[0m   │\n",
       "│ (\u001b[38;5;33mConv2D\u001b[0m)          │ \u001b[38;5;34m125\u001b[0m, \u001b[38;5;34m64\u001b[0m)        │           │                │       │\n",
       "├───────────────────┼─────────────────┼───────────┼────────────────┼───────┤\n",
       "│ block1_conv2_bn   │ (\u001b[38;5;45mNone\u001b[0m, \u001b[38;5;34m125\u001b[0m,     │       \u001b[38;5;34m256\u001b[0m │ block1_conv2[\u001b[38;5;34m…\u001b[0m │   \u001b[1;91mN\u001b[0m   │\n",
       "│ (\u001b[38;5;33mBatchNormalizat…\u001b[0m │ \u001b[38;5;34m125\u001b[0m, \u001b[38;5;34m64\u001b[0m)        │           │                │       │\n",
       "├───────────────────┼─────────────────┼───────────┼────────────────┼───────┤\n",
       "│ block1_conv2_act  │ (\u001b[38;5;45mNone\u001b[0m, \u001b[38;5;34m125\u001b[0m,     │         \u001b[38;5;34m0\u001b[0m │ block1_conv2_… │   \u001b[1m-\u001b[0m   │\n",
       "│ (\u001b[38;5;33mActivation\u001b[0m)      │ \u001b[38;5;34m125\u001b[0m, \u001b[38;5;34m64\u001b[0m)        │           │                │       │\n",
       "├───────────────────┼─────────────────┼───────────┼────────────────┼───────┤\n",
       "│ block2_sepconv1   │ (\u001b[38;5;45mNone\u001b[0m, \u001b[38;5;34m125\u001b[0m,     │     \u001b[38;5;34m8,768\u001b[0m │ block1_conv2_… │   \u001b[1;91mN\u001b[0m   │\n",
       "│ (\u001b[38;5;33mSeparableConv2D\u001b[0m) │ \u001b[38;5;34m125\u001b[0m, \u001b[38;5;34m128\u001b[0m)       │           │                │       │\n",
       "├───────────────────┼─────────────────┼───────────┼────────────────┼───────┤\n",
       "│ block2_sepconv1_… │ (\u001b[38;5;45mNone\u001b[0m, \u001b[38;5;34m125\u001b[0m,     │       \u001b[38;5;34m512\u001b[0m │ block2_sepcon… │   \u001b[1;91mN\u001b[0m   │\n",
       "│ (\u001b[38;5;33mBatchNormalizat…\u001b[0m │ \u001b[38;5;34m125\u001b[0m, \u001b[38;5;34m128\u001b[0m)       │           │                │       │\n",
       "├───────────────────┼─────────────────┼───────────┼────────────────┼───────┤\n",
       "│ block2_sepconv2_… │ (\u001b[38;5;45mNone\u001b[0m, \u001b[38;5;34m125\u001b[0m,     │         \u001b[38;5;34m0\u001b[0m │ block2_sepcon… │   \u001b[1m-\u001b[0m   │\n",
       "│ (\u001b[38;5;33mActivation\u001b[0m)      │ \u001b[38;5;34m125\u001b[0m, \u001b[38;5;34m128\u001b[0m)       │           │                │       │\n",
       "├───────────────────┼─────────────────┼───────────┼────────────────┼───────┤\n",
       "│ block2_sepconv2   │ (\u001b[38;5;45mNone\u001b[0m, \u001b[38;5;34m125\u001b[0m,     │    \u001b[38;5;34m17,536\u001b[0m │ block2_sepcon… │   \u001b[1;91mN\u001b[0m   │\n",
       "│ (\u001b[38;5;33mSeparableConv2D\u001b[0m) │ \u001b[38;5;34m125\u001b[0m, \u001b[38;5;34m128\u001b[0m)       │           │                │       │\n",
       "├───────────────────┼─────────────────┼───────────┼────────────────┼───────┤\n",
       "│ block2_sepconv2_… │ (\u001b[38;5;45mNone\u001b[0m, \u001b[38;5;34m125\u001b[0m,     │       \u001b[38;5;34m512\u001b[0m │ block2_sepcon… │   \u001b[1;91mN\u001b[0m   │\n",
       "│ (\u001b[38;5;33mBatchNormalizat…\u001b[0m │ \u001b[38;5;34m125\u001b[0m, \u001b[38;5;34m128\u001b[0m)       │           │                │       │\n",
       "├───────────────────┼─────────────────┼───────────┼────────────────┼───────┤\n",
       "│ conv2d (\u001b[38;5;33mConv2D\u001b[0m)   │ (\u001b[38;5;45mNone\u001b[0m, \u001b[38;5;34m63\u001b[0m, \u001b[38;5;34m63\u001b[0m,  │     \u001b[38;5;34m8,192\u001b[0m │ block1_conv2_… │   \u001b[1;91mN\u001b[0m   │\n",
       "│                   │ \u001b[38;5;34m128\u001b[0m)            │           │                │       │\n",
       "├───────────────────┼─────────────────┼───────────┼────────────────┼───────┤\n",
       "│ block2_pool       │ (\u001b[38;5;45mNone\u001b[0m, \u001b[38;5;34m63\u001b[0m, \u001b[38;5;34m63\u001b[0m,  │         \u001b[38;5;34m0\u001b[0m │ block2_sepcon… │   \u001b[1m-\u001b[0m   │\n",
       "│ (\u001b[38;5;33mMaxPooling2D\u001b[0m)    │ \u001b[38;5;34m128\u001b[0m)            │           │                │       │\n",
       "├───────────────────┼─────────────────┼───────────┼────────────────┼───────┤\n",
       "│ batch_normalizat… │ (\u001b[38;5;45mNone\u001b[0m, \u001b[38;5;34m63\u001b[0m, \u001b[38;5;34m63\u001b[0m,  │       \u001b[38;5;34m512\u001b[0m │ conv2d[\u001b[38;5;34m0\u001b[0m][\u001b[38;5;34m0\u001b[0m]   │   \u001b[1;91mN\u001b[0m   │\n",
       "│ (\u001b[38;5;33mBatchNormalizat…\u001b[0m │ \u001b[38;5;34m128\u001b[0m)            │           │                │       │\n",
       "├───────────────────┼─────────────────┼───────────┼────────────────┼───────┤\n",
       "│ add (\u001b[38;5;33mAdd\u001b[0m)         │ (\u001b[38;5;45mNone\u001b[0m, \u001b[38;5;34m63\u001b[0m, \u001b[38;5;34m63\u001b[0m,  │         \u001b[38;5;34m0\u001b[0m │ block2_pool[\u001b[38;5;34m0\u001b[0m… │   \u001b[1m-\u001b[0m   │\n",
       "│                   │ \u001b[38;5;34m128\u001b[0m)            │           │ batch_normali… │       │\n",
       "├───────────────────┼─────────────────┼───────────┼────────────────┼───────┤\n",
       "│ block3_sepconv1_… │ (\u001b[38;5;45mNone\u001b[0m, \u001b[38;5;34m63\u001b[0m, \u001b[38;5;34m63\u001b[0m,  │         \u001b[38;5;34m0\u001b[0m │ add[\u001b[38;5;34m0\u001b[0m][\u001b[38;5;34m0\u001b[0m]      │   \u001b[1m-\u001b[0m   │\n",
       "│ (\u001b[38;5;33mActivation\u001b[0m)      │ \u001b[38;5;34m128\u001b[0m)            │           │                │       │\n",
       "├───────────────────┼─────────────────┼───────────┼────────────────┼───────┤\n",
       "│ block3_sepconv1   │ (\u001b[38;5;45mNone\u001b[0m, \u001b[38;5;34m63\u001b[0m, \u001b[38;5;34m63\u001b[0m,  │    \u001b[38;5;34m33,920\u001b[0m │ block3_sepcon… │   \u001b[1;91mN\u001b[0m   │\n",
       "│ (\u001b[38;5;33mSeparableConv2D\u001b[0m) │ \u001b[38;5;34m256\u001b[0m)            │           │                │       │\n",
       "├───────────────────┼─────────────────┼───────────┼────────────────┼───────┤\n",
       "│ block3_sepconv1_… │ (\u001b[38;5;45mNone\u001b[0m, \u001b[38;5;34m63\u001b[0m, \u001b[38;5;34m63\u001b[0m,  │     \u001b[38;5;34m1,024\u001b[0m │ block3_sepcon… │   \u001b[1;91mN\u001b[0m   │\n",
       "│ (\u001b[38;5;33mBatchNormalizat…\u001b[0m │ \u001b[38;5;34m256\u001b[0m)            │           │                │       │\n",
       "├───────────────────┼─────────────────┼───────────┼────────────────┼───────┤\n",
       "│ block3_sepconv2_… │ (\u001b[38;5;45mNone\u001b[0m, \u001b[38;5;34m63\u001b[0m, \u001b[38;5;34m63\u001b[0m,  │         \u001b[38;5;34m0\u001b[0m │ block3_sepcon… │   \u001b[1m-\u001b[0m   │\n",
       "│ (\u001b[38;5;33mActivation\u001b[0m)      │ \u001b[38;5;34m256\u001b[0m)            │           │                │       │\n",
       "├───────────────────┼─────────────────┼───────────┼────────────────┼───────┤\n",
       "│ block3_sepconv2   │ (\u001b[38;5;45mNone\u001b[0m, \u001b[38;5;34m63\u001b[0m, \u001b[38;5;34m63\u001b[0m,  │    \u001b[38;5;34m67,840\u001b[0m │ block3_sepcon… │   \u001b[1;91mN\u001b[0m   │\n",
       "│ (\u001b[38;5;33mSeparableConv2D\u001b[0m) │ \u001b[38;5;34m256\u001b[0m)            │           │                │       │\n",
       "├───────────────────┼─────────────────┼───────────┼────────────────┼───────┤\n",
       "│ block3_sepconv2_… │ (\u001b[38;5;45mNone\u001b[0m, \u001b[38;5;34m63\u001b[0m, \u001b[38;5;34m63\u001b[0m,  │     \u001b[38;5;34m1,024\u001b[0m │ block3_sepcon… │   \u001b[1;91mN\u001b[0m   │\n",
       "│ (\u001b[38;5;33mBatchNormalizat…\u001b[0m │ \u001b[38;5;34m256\u001b[0m)            │           │                │       │\n",
       "├───────────────────┼─────────────────┼───────────┼────────────────┼───────┤\n",
       "│ conv2d_1 (\u001b[38;5;33mConv2D\u001b[0m) │ (\u001b[38;5;45mNone\u001b[0m, \u001b[38;5;34m32\u001b[0m, \u001b[38;5;34m32\u001b[0m,  │    \u001b[38;5;34m32,768\u001b[0m │ add[\u001b[38;5;34m0\u001b[0m][\u001b[38;5;34m0\u001b[0m]      │   \u001b[1;91mN\u001b[0m   │\n",
       "│                   │ \u001b[38;5;34m256\u001b[0m)            │           │                │       │\n",
       "├───────────────────┼─────────────────┼───────────┼────────────────┼───────┤\n",
       "│ block3_pool       │ (\u001b[38;5;45mNone\u001b[0m, \u001b[38;5;34m32\u001b[0m, \u001b[38;5;34m32\u001b[0m,  │         \u001b[38;5;34m0\u001b[0m │ block3_sepcon… │   \u001b[1m-\u001b[0m   │\n",
       "│ (\u001b[38;5;33mMaxPooling2D\u001b[0m)    │ \u001b[38;5;34m256\u001b[0m)            │           │                │       │\n",
       "├───────────────────┼─────────────────┼───────────┼────────────────┼───────┤\n",
       "│ batch_normalizat… │ (\u001b[38;5;45mNone\u001b[0m, \u001b[38;5;34m32\u001b[0m, \u001b[38;5;34m32\u001b[0m,  │     \u001b[38;5;34m1,024\u001b[0m │ conv2d_1[\u001b[38;5;34m0\u001b[0m][\u001b[38;5;34m0\u001b[0m] │   \u001b[1;91mN\u001b[0m   │\n",
       "│ (\u001b[38;5;33mBatchNormalizat…\u001b[0m │ \u001b[38;5;34m256\u001b[0m)            │           │                │       │\n",
       "├───────────────────┼─────────────────┼───────────┼────────────────┼───────┤\n",
       "│ add_1 (\u001b[38;5;33mAdd\u001b[0m)       │ (\u001b[38;5;45mNone\u001b[0m, \u001b[38;5;34m32\u001b[0m, \u001b[38;5;34m32\u001b[0m,  │         \u001b[38;5;34m0\u001b[0m │ block3_pool[\u001b[38;5;34m0\u001b[0m… │   \u001b[1m-\u001b[0m   │\n",
       "│                   │ \u001b[38;5;34m256\u001b[0m)            │           │ batch_normali… │       │\n",
       "├───────────────────┼─────────────────┼───────────┼────────────────┼───────┤\n",
       "│ block4_sepconv1_… │ (\u001b[38;5;45mNone\u001b[0m, \u001b[38;5;34m32\u001b[0m, \u001b[38;5;34m32\u001b[0m,  │         \u001b[38;5;34m0\u001b[0m │ add_1[\u001b[38;5;34m0\u001b[0m][\u001b[38;5;34m0\u001b[0m]    │   \u001b[1m-\u001b[0m   │\n",
       "│ (\u001b[38;5;33mActivation\u001b[0m)      │ \u001b[38;5;34m256\u001b[0m)            │           │                │       │\n",
       "├───────────────────┼─────────────────┼───────────┼────────────────┼───────┤\n",
       "│ block4_sepconv1   │ (\u001b[38;5;45mNone\u001b[0m, \u001b[38;5;34m32\u001b[0m, \u001b[38;5;34m32\u001b[0m,  │   \u001b[38;5;34m188,672\u001b[0m │ block4_sepcon… │   \u001b[1;91mN\u001b[0m   │\n",
       "│ (\u001b[38;5;33mSeparableConv2D\u001b[0m) │ \u001b[38;5;34m728\u001b[0m)            │           │                │       │\n",
       "├───────────────────┼─────────────────┼───────────┼────────────────┼───────┤\n",
       "│ block4_sepconv1_… │ (\u001b[38;5;45mNone\u001b[0m, \u001b[38;5;34m32\u001b[0m, \u001b[38;5;34m32\u001b[0m,  │     \u001b[38;5;34m2,912\u001b[0m │ block4_sepcon… │   \u001b[1;91mN\u001b[0m   │\n",
       "│ (\u001b[38;5;33mBatchNormalizat…\u001b[0m │ \u001b[38;5;34m728\u001b[0m)            │           │                │       │\n",
       "├───────────────────┼─────────────────┼───────────┼────────────────┼───────┤\n",
       "│ block4_sepconv2_… │ (\u001b[38;5;45mNone\u001b[0m, \u001b[38;5;34m32\u001b[0m, \u001b[38;5;34m32\u001b[0m,  │         \u001b[38;5;34m0\u001b[0m │ block4_sepcon… │   \u001b[1m-\u001b[0m   │\n",
       "│ (\u001b[38;5;33mActivation\u001b[0m)      │ \u001b[38;5;34m728\u001b[0m)            │           │                │       │\n",
       "├───────────────────┼─────────────────┼───────────┼────────────────┼───────┤\n",
       "│ block4_sepconv2   │ (\u001b[38;5;45mNone\u001b[0m, \u001b[38;5;34m32\u001b[0m, \u001b[38;5;34m32\u001b[0m,  │   \u001b[38;5;34m536,536\u001b[0m │ block4_sepcon… │   \u001b[1;91mN\u001b[0m   │\n",
       "│ (\u001b[38;5;33mSeparableConv2D\u001b[0m) │ \u001b[38;5;34m728\u001b[0m)            │           │                │       │\n",
       "├───────────────────┼─────────────────┼───────────┼────────────────┼───────┤\n",
       "│ block4_sepconv2_… │ (\u001b[38;5;45mNone\u001b[0m, \u001b[38;5;34m32\u001b[0m, \u001b[38;5;34m32\u001b[0m,  │     \u001b[38;5;34m2,912\u001b[0m │ block4_sepcon… │   \u001b[1;91mN\u001b[0m   │\n",
       "│ (\u001b[38;5;33mBatchNormalizat…\u001b[0m │ \u001b[38;5;34m728\u001b[0m)            │           │                │       │\n",
       "├───────────────────┼─────────────────┼───────────┼────────────────┼───────┤\n",
       "│ conv2d_2 (\u001b[38;5;33mConv2D\u001b[0m) │ (\u001b[38;5;45mNone\u001b[0m, \u001b[38;5;34m16\u001b[0m, \u001b[38;5;34m16\u001b[0m,  │   \u001b[38;5;34m186,368\u001b[0m │ add_1[\u001b[38;5;34m0\u001b[0m][\u001b[38;5;34m0\u001b[0m]    │   \u001b[1;91mN\u001b[0m   │\n",
       "│                   │ \u001b[38;5;34m728\u001b[0m)            │           │                │       │\n",
       "├───────────────────┼─────────────────┼───────────┼────────────────┼───────┤\n",
       "│ block4_pool       │ (\u001b[38;5;45mNone\u001b[0m, \u001b[38;5;34m16\u001b[0m, \u001b[38;5;34m16\u001b[0m,  │         \u001b[38;5;34m0\u001b[0m │ block4_sepcon… │   \u001b[1m-\u001b[0m   │\n",
       "│ (\u001b[38;5;33mMaxPooling2D\u001b[0m)    │ \u001b[38;5;34m728\u001b[0m)            │           │                │       │\n",
       "├───────────────────┼─────────────────┼───────────┼────────────────┼───────┤\n",
       "│ batch_normalizat… │ (\u001b[38;5;45mNone\u001b[0m, \u001b[38;5;34m16\u001b[0m, \u001b[38;5;34m16\u001b[0m,  │     \u001b[38;5;34m2,912\u001b[0m │ conv2d_2[\u001b[38;5;34m0\u001b[0m][\u001b[38;5;34m0\u001b[0m] │   \u001b[1;91mN\u001b[0m   │\n",
       "│ (\u001b[38;5;33mBatchNormalizat…\u001b[0m │ \u001b[38;5;34m728\u001b[0m)            │           │                │       │\n",
       "├───────────────────┼─────────────────┼───────────┼────────────────┼───────┤\n",
       "│ add_2 (\u001b[38;5;33mAdd\u001b[0m)       │ (\u001b[38;5;45mNone\u001b[0m, \u001b[38;5;34m16\u001b[0m, \u001b[38;5;34m16\u001b[0m,  │         \u001b[38;5;34m0\u001b[0m │ block4_pool[\u001b[38;5;34m0\u001b[0m… │   \u001b[1m-\u001b[0m   │\n",
       "│                   │ \u001b[38;5;34m728\u001b[0m)            │           │ batch_normali… │       │\n",
       "├───────────────────┼─────────────────┼───────────┼────────────────┼───────┤\n",
       "│ block5_sepconv1_… │ (\u001b[38;5;45mNone\u001b[0m, \u001b[38;5;34m16\u001b[0m, \u001b[38;5;34m16\u001b[0m,  │         \u001b[38;5;34m0\u001b[0m │ add_2[\u001b[38;5;34m0\u001b[0m][\u001b[38;5;34m0\u001b[0m]    │   \u001b[1m-\u001b[0m   │\n",
       "│ (\u001b[38;5;33mActivation\u001b[0m)      │ \u001b[38;5;34m728\u001b[0m)            │           │                │       │\n",
       "├───────────────────┼─────────────────┼───────────┼────────────────┼───────┤\n",
       "│ block5_sepconv1   │ (\u001b[38;5;45mNone\u001b[0m, \u001b[38;5;34m16\u001b[0m, \u001b[38;5;34m16\u001b[0m,  │   \u001b[38;5;34m536,536\u001b[0m │ block5_sepcon… │   \u001b[1;91mN\u001b[0m   │\n",
       "│ (\u001b[38;5;33mSeparableConv2D\u001b[0m) │ \u001b[38;5;34m728\u001b[0m)            │           │                │       │\n",
       "├───────────────────┼─────────────────┼───────────┼────────────────┼───────┤\n",
       "│ block5_sepconv1_… │ (\u001b[38;5;45mNone\u001b[0m, \u001b[38;5;34m16\u001b[0m, \u001b[38;5;34m16\u001b[0m,  │     \u001b[38;5;34m2,912\u001b[0m │ block5_sepcon… │   \u001b[1;91mN\u001b[0m   │\n",
       "│ (\u001b[38;5;33mBatchNormalizat…\u001b[0m │ \u001b[38;5;34m728\u001b[0m)            │           │                │       │\n",
       "├───────────────────┼─────────────────┼───────────┼────────────────┼───────┤\n",
       "│ block5_sepconv2_… │ (\u001b[38;5;45mNone\u001b[0m, \u001b[38;5;34m16\u001b[0m, \u001b[38;5;34m16\u001b[0m,  │         \u001b[38;5;34m0\u001b[0m │ block5_sepcon… │   \u001b[1m-\u001b[0m   │\n",
       "│ (\u001b[38;5;33mActivation\u001b[0m)      │ \u001b[38;5;34m728\u001b[0m)            │           │                │       │\n",
       "├───────────────────┼─────────────────┼───────────┼────────────────┼───────┤\n",
       "│ block5_sepconv2   │ (\u001b[38;5;45mNone\u001b[0m, \u001b[38;5;34m16\u001b[0m, \u001b[38;5;34m16\u001b[0m,  │   \u001b[38;5;34m536,536\u001b[0m │ block5_sepcon… │   \u001b[1;91mN\u001b[0m   │\n",
       "│ (\u001b[38;5;33mSeparableConv2D\u001b[0m) │ \u001b[38;5;34m728\u001b[0m)            │           │                │       │\n",
       "├───────────────────┼─────────────────┼───────────┼────────────────┼───────┤\n",
       "│ block5_sepconv2_… │ (\u001b[38;5;45mNone\u001b[0m, \u001b[38;5;34m16\u001b[0m, \u001b[38;5;34m16\u001b[0m,  │     \u001b[38;5;34m2,912\u001b[0m │ block5_sepcon… │   \u001b[1;91mN\u001b[0m   │\n",
       "│ (\u001b[38;5;33mBatchNormalizat…\u001b[0m │ \u001b[38;5;34m728\u001b[0m)            │           │                │       │\n",
       "├───────────────────┼─────────────────┼───────────┼────────────────┼───────┤\n",
       "│ block5_sepconv3_… │ (\u001b[38;5;45mNone\u001b[0m, \u001b[38;5;34m16\u001b[0m, \u001b[38;5;34m16\u001b[0m,  │         \u001b[38;5;34m0\u001b[0m │ block5_sepcon… │   \u001b[1m-\u001b[0m   │\n",
       "│ (\u001b[38;5;33mActivation\u001b[0m)      │ \u001b[38;5;34m728\u001b[0m)            │           │                │       │\n",
       "├───────────────────┼─────────────────┼───────────┼────────────────┼───────┤\n",
       "│ block5_sepconv3   │ (\u001b[38;5;45mNone\u001b[0m, \u001b[38;5;34m16\u001b[0m, \u001b[38;5;34m16\u001b[0m,  │   \u001b[38;5;34m536,536\u001b[0m │ block5_sepcon… │   \u001b[1;91mN\u001b[0m   │\n",
       "│ (\u001b[38;5;33mSeparableConv2D\u001b[0m) │ \u001b[38;5;34m728\u001b[0m)            │           │                │       │\n",
       "├───────────────────┼─────────────────┼───────────┼────────────────┼───────┤\n",
       "│ block5_sepconv3_… │ (\u001b[38;5;45mNone\u001b[0m, \u001b[38;5;34m16\u001b[0m, \u001b[38;5;34m16\u001b[0m,  │     \u001b[38;5;34m2,912\u001b[0m │ block5_sepcon… │   \u001b[1;91mN\u001b[0m   │\n",
       "│ (\u001b[38;5;33mBatchNormalizat…\u001b[0m │ \u001b[38;5;34m728\u001b[0m)            │           │                │       │\n",
       "├───────────────────┼─────────────────┼───────────┼────────────────┼───────┤\n",
       "│ add_3 (\u001b[38;5;33mAdd\u001b[0m)       │ (\u001b[38;5;45mNone\u001b[0m, \u001b[38;5;34m16\u001b[0m, \u001b[38;5;34m16\u001b[0m,  │         \u001b[38;5;34m0\u001b[0m │ block5_sepcon… │   \u001b[1m-\u001b[0m   │\n",
       "│                   │ \u001b[38;5;34m728\u001b[0m)            │           │ add_2[\u001b[38;5;34m0\u001b[0m][\u001b[38;5;34m0\u001b[0m]    │       │\n",
       "├───────────────────┼─────────────────┼───────────┼────────────────┼───────┤\n",
       "│ block6_sepconv1_… │ (\u001b[38;5;45mNone\u001b[0m, \u001b[38;5;34m16\u001b[0m, \u001b[38;5;34m16\u001b[0m,  │         \u001b[38;5;34m0\u001b[0m │ add_3[\u001b[38;5;34m0\u001b[0m][\u001b[38;5;34m0\u001b[0m]    │   \u001b[1m-\u001b[0m   │\n",
       "│ (\u001b[38;5;33mActivation\u001b[0m)      │ \u001b[38;5;34m728\u001b[0m)            │           │                │       │\n",
       "├───────────────────┼─────────────────┼───────────┼────────────────┼───────┤\n",
       "│ block6_sepconv1   │ (\u001b[38;5;45mNone\u001b[0m, \u001b[38;5;34m16\u001b[0m, \u001b[38;5;34m16\u001b[0m,  │   \u001b[38;5;34m536,536\u001b[0m │ block6_sepcon… │   \u001b[1;91mN\u001b[0m   │\n",
       "│ (\u001b[38;5;33mSeparableConv2D\u001b[0m) │ \u001b[38;5;34m728\u001b[0m)            │           │                │       │\n",
       "├───────────────────┼─────────────────┼───────────┼────────────────┼───────┤\n",
       "│ block6_sepconv1_… │ (\u001b[38;5;45mNone\u001b[0m, \u001b[38;5;34m16\u001b[0m, \u001b[38;5;34m16\u001b[0m,  │     \u001b[38;5;34m2,912\u001b[0m │ block6_sepcon… │   \u001b[1;91mN\u001b[0m   │\n",
       "│ (\u001b[38;5;33mBatchNormalizat…\u001b[0m │ \u001b[38;5;34m728\u001b[0m)            │           │                │       │\n",
       "├───────────────────┼─────────────────┼───────────┼────────────────┼───────┤\n",
       "│ block6_sepconv2_… │ (\u001b[38;5;45mNone\u001b[0m, \u001b[38;5;34m16\u001b[0m, \u001b[38;5;34m16\u001b[0m,  │         \u001b[38;5;34m0\u001b[0m │ block6_sepcon… │   \u001b[1m-\u001b[0m   │\n",
       "│ (\u001b[38;5;33mActivation\u001b[0m)      │ \u001b[38;5;34m728\u001b[0m)            │           │                │       │\n",
       "├───────────────────┼─────────────────┼───────────┼────────────────┼───────┤\n",
       "│ block6_sepconv2   │ (\u001b[38;5;45mNone\u001b[0m, \u001b[38;5;34m16\u001b[0m, \u001b[38;5;34m16\u001b[0m,  │   \u001b[38;5;34m536,536\u001b[0m │ block6_sepcon… │   \u001b[1;91mN\u001b[0m   │\n",
       "│ (\u001b[38;5;33mSeparableConv2D\u001b[0m) │ \u001b[38;5;34m728\u001b[0m)            │           │                │       │\n",
       "├───────────────────┼─────────────────┼───────────┼────────────────┼───────┤\n",
       "│ block6_sepconv2_… │ (\u001b[38;5;45mNone\u001b[0m, \u001b[38;5;34m16\u001b[0m, \u001b[38;5;34m16\u001b[0m,  │     \u001b[38;5;34m2,912\u001b[0m │ block6_sepcon… │   \u001b[1;91mN\u001b[0m   │\n",
       "│ (\u001b[38;5;33mBatchNormalizat…\u001b[0m │ \u001b[38;5;34m728\u001b[0m)            │           │                │       │\n",
       "├───────────────────┼─────────────────┼───────────┼────────────────┼───────┤\n",
       "│ block6_sepconv3_… │ (\u001b[38;5;45mNone\u001b[0m, \u001b[38;5;34m16\u001b[0m, \u001b[38;5;34m16\u001b[0m,  │         \u001b[38;5;34m0\u001b[0m │ block6_sepcon… │   \u001b[1m-\u001b[0m   │\n",
       "│ (\u001b[38;5;33mActivation\u001b[0m)      │ \u001b[38;5;34m728\u001b[0m)            │           │                │       │\n",
       "├───────────────────┼─────────────────┼───────────┼────────────────┼───────┤\n",
       "│ block6_sepconv3   │ (\u001b[38;5;45mNone\u001b[0m, \u001b[38;5;34m16\u001b[0m, \u001b[38;5;34m16\u001b[0m,  │   \u001b[38;5;34m536,536\u001b[0m │ block6_sepcon… │   \u001b[1;91mN\u001b[0m   │\n",
       "│ (\u001b[38;5;33mSeparableConv2D\u001b[0m) │ \u001b[38;5;34m728\u001b[0m)            │           │                │       │\n",
       "├───────────────────┼─────────────────┼───────────┼────────────────┼───────┤\n",
       "│ block6_sepconv3_… │ (\u001b[38;5;45mNone\u001b[0m, \u001b[38;5;34m16\u001b[0m, \u001b[38;5;34m16\u001b[0m,  │     \u001b[38;5;34m2,912\u001b[0m │ block6_sepcon… │   \u001b[1;91mN\u001b[0m   │\n",
       "│ (\u001b[38;5;33mBatchNormalizat…\u001b[0m │ \u001b[38;5;34m728\u001b[0m)            │           │                │       │\n",
       "├───────────────────┼─────────────────┼───────────┼────────────────┼───────┤\n",
       "│ add_4 (\u001b[38;5;33mAdd\u001b[0m)       │ (\u001b[38;5;45mNone\u001b[0m, \u001b[38;5;34m16\u001b[0m, \u001b[38;5;34m16\u001b[0m,  │         \u001b[38;5;34m0\u001b[0m │ block6_sepcon… │   \u001b[1m-\u001b[0m   │\n",
       "│                   │ \u001b[38;5;34m728\u001b[0m)            │           │ add_3[\u001b[38;5;34m0\u001b[0m][\u001b[38;5;34m0\u001b[0m]    │       │\n",
       "├───────────────────┼─────────────────┼───────────┼────────────────┼───────┤\n",
       "│ block7_sepconv1_… │ (\u001b[38;5;45mNone\u001b[0m, \u001b[38;5;34m16\u001b[0m, \u001b[38;5;34m16\u001b[0m,  │         \u001b[38;5;34m0\u001b[0m │ add_4[\u001b[38;5;34m0\u001b[0m][\u001b[38;5;34m0\u001b[0m]    │   \u001b[1m-\u001b[0m   │\n",
       "│ (\u001b[38;5;33mActivation\u001b[0m)      │ \u001b[38;5;34m728\u001b[0m)            │           │                │       │\n",
       "├───────────────────┼─────────────────┼───────────┼────────────────┼───────┤\n",
       "│ block7_sepconv1   │ (\u001b[38;5;45mNone\u001b[0m, \u001b[38;5;34m16\u001b[0m, \u001b[38;5;34m16\u001b[0m,  │   \u001b[38;5;34m536,536\u001b[0m │ block7_sepcon… │   \u001b[1;91mN\u001b[0m   │\n",
       "│ (\u001b[38;5;33mSeparableConv2D\u001b[0m) │ \u001b[38;5;34m728\u001b[0m)            │           │                │       │\n",
       "├───────────────────┼─────────────────┼───────────┼────────────────┼───────┤\n",
       "│ block7_sepconv1_… │ (\u001b[38;5;45mNone\u001b[0m, \u001b[38;5;34m16\u001b[0m, \u001b[38;5;34m16\u001b[0m,  │     \u001b[38;5;34m2,912\u001b[0m │ block7_sepcon… │   \u001b[1;91mN\u001b[0m   │\n",
       "│ (\u001b[38;5;33mBatchNormalizat…\u001b[0m │ \u001b[38;5;34m728\u001b[0m)            │           │                │       │\n",
       "├───────────────────┼─────────────────┼───────────┼────────────────┼───────┤\n",
       "│ block7_sepconv2_… │ (\u001b[38;5;45mNone\u001b[0m, \u001b[38;5;34m16\u001b[0m, \u001b[38;5;34m16\u001b[0m,  │         \u001b[38;5;34m0\u001b[0m │ block7_sepcon… │   \u001b[1m-\u001b[0m   │\n",
       "│ (\u001b[38;5;33mActivation\u001b[0m)      │ \u001b[38;5;34m728\u001b[0m)            │           │                │       │\n",
       "├───────────────────┼─────────────────┼───────────┼────────────────┼───────┤\n",
       "│ block7_sepconv2   │ (\u001b[38;5;45mNone\u001b[0m, \u001b[38;5;34m16\u001b[0m, \u001b[38;5;34m16\u001b[0m,  │   \u001b[38;5;34m536,536\u001b[0m │ block7_sepcon… │   \u001b[1;91mN\u001b[0m   │\n",
       "│ (\u001b[38;5;33mSeparableConv2D\u001b[0m) │ \u001b[38;5;34m728\u001b[0m)            │           │                │       │\n",
       "├───────────────────┼─────────────────┼───────────┼────────────────┼───────┤\n",
       "│ block7_sepconv2_… │ (\u001b[38;5;45mNone\u001b[0m, \u001b[38;5;34m16\u001b[0m, \u001b[38;5;34m16\u001b[0m,  │     \u001b[38;5;34m2,912\u001b[0m │ block7_sepcon… │   \u001b[1;91mN\u001b[0m   │\n",
       "│ (\u001b[38;5;33mBatchNormalizat…\u001b[0m │ \u001b[38;5;34m728\u001b[0m)            │           │                │       │\n",
       "├───────────────────┼─────────────────┼───────────┼────────────────┼───────┤\n",
       "│ block7_sepconv3_… │ (\u001b[38;5;45mNone\u001b[0m, \u001b[38;5;34m16\u001b[0m, \u001b[38;5;34m16\u001b[0m,  │         \u001b[38;5;34m0\u001b[0m │ block7_sepcon… │   \u001b[1m-\u001b[0m   │\n",
       "│ (\u001b[38;5;33mActivation\u001b[0m)      │ \u001b[38;5;34m728\u001b[0m)            │           │                │       │\n",
       "├───────────────────┼─────────────────┼───────────┼────────────────┼───────┤\n",
       "│ block7_sepconv3   │ (\u001b[38;5;45mNone\u001b[0m, \u001b[38;5;34m16\u001b[0m, \u001b[38;5;34m16\u001b[0m,  │   \u001b[38;5;34m536,536\u001b[0m │ block7_sepcon… │   \u001b[1;91mN\u001b[0m   │\n",
       "│ (\u001b[38;5;33mSeparableConv2D\u001b[0m) │ \u001b[38;5;34m728\u001b[0m)            │           │                │       │\n",
       "├───────────────────┼─────────────────┼───────────┼────────────────┼───────┤\n",
       "│ block7_sepconv3_… │ (\u001b[38;5;45mNone\u001b[0m, \u001b[38;5;34m16\u001b[0m, \u001b[38;5;34m16\u001b[0m,  │     \u001b[38;5;34m2,912\u001b[0m │ block7_sepcon… │   \u001b[1;91mN\u001b[0m   │\n",
       "│ (\u001b[38;5;33mBatchNormalizat…\u001b[0m │ \u001b[38;5;34m728\u001b[0m)            │           │                │       │\n",
       "├───────────────────┼─────────────────┼───────────┼────────────────┼───────┤\n",
       "│ add_5 (\u001b[38;5;33mAdd\u001b[0m)       │ (\u001b[38;5;45mNone\u001b[0m, \u001b[38;5;34m16\u001b[0m, \u001b[38;5;34m16\u001b[0m,  │         \u001b[38;5;34m0\u001b[0m │ block7_sepcon… │   \u001b[1m-\u001b[0m   │\n",
       "│                   │ \u001b[38;5;34m728\u001b[0m)            │           │ add_4[\u001b[38;5;34m0\u001b[0m][\u001b[38;5;34m0\u001b[0m]    │       │\n",
       "├───────────────────┼─────────────────┼───────────┼────────────────┼───────┤\n",
       "│ block8_sepconv1_… │ (\u001b[38;5;45mNone\u001b[0m, \u001b[38;5;34m16\u001b[0m, \u001b[38;5;34m16\u001b[0m,  │         \u001b[38;5;34m0\u001b[0m │ add_5[\u001b[38;5;34m0\u001b[0m][\u001b[38;5;34m0\u001b[0m]    │   \u001b[1m-\u001b[0m   │\n",
       "│ (\u001b[38;5;33mActivation\u001b[0m)      │ \u001b[38;5;34m728\u001b[0m)            │           │                │       │\n",
       "├───────────────────┼─────────────────┼───────────┼────────────────┼───────┤\n",
       "│ block8_sepconv1   │ (\u001b[38;5;45mNone\u001b[0m, \u001b[38;5;34m16\u001b[0m, \u001b[38;5;34m16\u001b[0m,  │   \u001b[38;5;34m536,536\u001b[0m │ block8_sepcon… │   \u001b[1;91mN\u001b[0m   │\n",
       "│ (\u001b[38;5;33mSeparableConv2D\u001b[0m) │ \u001b[38;5;34m728\u001b[0m)            │           │                │       │\n",
       "├───────────────────┼─────────────────┼───────────┼────────────────┼───────┤\n",
       "│ block8_sepconv1_… │ (\u001b[38;5;45mNone\u001b[0m, \u001b[38;5;34m16\u001b[0m, \u001b[38;5;34m16\u001b[0m,  │     \u001b[38;5;34m2,912\u001b[0m │ block8_sepcon… │   \u001b[1;91mN\u001b[0m   │\n",
       "│ (\u001b[38;5;33mBatchNormalizat…\u001b[0m │ \u001b[38;5;34m728\u001b[0m)            │           │                │       │\n",
       "├───────────────────┼─────────────────┼───────────┼────────────────┼───────┤\n",
       "│ block8_sepconv2_… │ (\u001b[38;5;45mNone\u001b[0m, \u001b[38;5;34m16\u001b[0m, \u001b[38;5;34m16\u001b[0m,  │         \u001b[38;5;34m0\u001b[0m │ block8_sepcon… │   \u001b[1m-\u001b[0m   │\n",
       "│ (\u001b[38;5;33mActivation\u001b[0m)      │ \u001b[38;5;34m728\u001b[0m)            │           │                │       │\n",
       "├───────────────────┼─────────────────┼───────────┼────────────────┼───────┤\n",
       "│ block8_sepconv2   │ (\u001b[38;5;45mNone\u001b[0m, \u001b[38;5;34m16\u001b[0m, \u001b[38;5;34m16\u001b[0m,  │   \u001b[38;5;34m536,536\u001b[0m │ block8_sepcon… │   \u001b[1;91mN\u001b[0m   │\n",
       "│ (\u001b[38;5;33mSeparableConv2D\u001b[0m) │ \u001b[38;5;34m728\u001b[0m)            │           │                │       │\n",
       "├───────────────────┼─────────────────┼───────────┼────────────────┼───────┤\n",
       "│ block8_sepconv2_… │ (\u001b[38;5;45mNone\u001b[0m, \u001b[38;5;34m16\u001b[0m, \u001b[38;5;34m16\u001b[0m,  │     \u001b[38;5;34m2,912\u001b[0m │ block8_sepcon… │   \u001b[1;91mN\u001b[0m   │\n",
       "│ (\u001b[38;5;33mBatchNormalizat…\u001b[0m │ \u001b[38;5;34m728\u001b[0m)            │           │                │       │\n",
       "├───────────────────┼─────────────────┼───────────┼────────────────┼───────┤\n",
       "│ block8_sepconv3_… │ (\u001b[38;5;45mNone\u001b[0m, \u001b[38;5;34m16\u001b[0m, \u001b[38;5;34m16\u001b[0m,  │         \u001b[38;5;34m0\u001b[0m │ block8_sepcon… │   \u001b[1m-\u001b[0m   │\n",
       "│ (\u001b[38;5;33mActivation\u001b[0m)      │ \u001b[38;5;34m728\u001b[0m)            │           │                │       │\n",
       "├───────────────────┼─────────────────┼───────────┼────────────────┼───────┤\n",
       "│ block8_sepconv3   │ (\u001b[38;5;45mNone\u001b[0m, \u001b[38;5;34m16\u001b[0m, \u001b[38;5;34m16\u001b[0m,  │   \u001b[38;5;34m536,536\u001b[0m │ block8_sepcon… │   \u001b[1;91mN\u001b[0m   │\n",
       "│ (\u001b[38;5;33mSeparableConv2D\u001b[0m) │ \u001b[38;5;34m728\u001b[0m)            │           │                │       │\n",
       "├───────────────────┼─────────────────┼───────────┼────────────────┼───────┤\n",
       "│ block8_sepconv3_… │ (\u001b[38;5;45mNone\u001b[0m, \u001b[38;5;34m16\u001b[0m, \u001b[38;5;34m16\u001b[0m,  │     \u001b[38;5;34m2,912\u001b[0m │ block8_sepcon… │   \u001b[1;91mN\u001b[0m   │\n",
       "│ (\u001b[38;5;33mBatchNormalizat…\u001b[0m │ \u001b[38;5;34m728\u001b[0m)            │           │                │       │\n",
       "├───────────────────┼─────────────────┼───────────┼────────────────┼───────┤\n",
       "│ add_6 (\u001b[38;5;33mAdd\u001b[0m)       │ (\u001b[38;5;45mNone\u001b[0m, \u001b[38;5;34m16\u001b[0m, \u001b[38;5;34m16\u001b[0m,  │         \u001b[38;5;34m0\u001b[0m │ block8_sepcon… │   \u001b[1m-\u001b[0m   │\n",
       "│                   │ \u001b[38;5;34m728\u001b[0m)            │           │ add_5[\u001b[38;5;34m0\u001b[0m][\u001b[38;5;34m0\u001b[0m]    │       │\n",
       "├───────────────────┼─────────────────┼───────────┼────────────────┼───────┤\n",
       "│ block9_sepconv1_… │ (\u001b[38;5;45mNone\u001b[0m, \u001b[38;5;34m16\u001b[0m, \u001b[38;5;34m16\u001b[0m,  │         \u001b[38;5;34m0\u001b[0m │ add_6[\u001b[38;5;34m0\u001b[0m][\u001b[38;5;34m0\u001b[0m]    │   \u001b[1m-\u001b[0m   │\n",
       "│ (\u001b[38;5;33mActivation\u001b[0m)      │ \u001b[38;5;34m728\u001b[0m)            │           │                │       │\n",
       "├───────────────────┼─────────────────┼───────────┼────────────────┼───────┤\n",
       "│ block9_sepconv1   │ (\u001b[38;5;45mNone\u001b[0m, \u001b[38;5;34m16\u001b[0m, \u001b[38;5;34m16\u001b[0m,  │   \u001b[38;5;34m536,536\u001b[0m │ block9_sepcon… │   \u001b[1;91mN\u001b[0m   │\n",
       "│ (\u001b[38;5;33mSeparableConv2D\u001b[0m) │ \u001b[38;5;34m728\u001b[0m)            │           │                │       │\n",
       "├───────────────────┼─────────────────┼───────────┼────────────────┼───────┤\n",
       "│ block9_sepconv1_… │ (\u001b[38;5;45mNone\u001b[0m, \u001b[38;5;34m16\u001b[0m, \u001b[38;5;34m16\u001b[0m,  │     \u001b[38;5;34m2,912\u001b[0m │ block9_sepcon… │   \u001b[1;91mN\u001b[0m   │\n",
       "│ (\u001b[38;5;33mBatchNormalizat…\u001b[0m │ \u001b[38;5;34m728\u001b[0m)            │           │                │       │\n",
       "├───────────────────┼─────────────────┼───────────┼────────────────┼───────┤\n",
       "│ block9_sepconv2_… │ (\u001b[38;5;45mNone\u001b[0m, \u001b[38;5;34m16\u001b[0m, \u001b[38;5;34m16\u001b[0m,  │         \u001b[38;5;34m0\u001b[0m │ block9_sepcon… │   \u001b[1m-\u001b[0m   │\n",
       "│ (\u001b[38;5;33mActivation\u001b[0m)      │ \u001b[38;5;34m728\u001b[0m)            │           │                │       │\n",
       "├───────────────────┼─────────────────┼───────────┼────────────────┼───────┤\n",
       "│ block9_sepconv2   │ (\u001b[38;5;45mNone\u001b[0m, \u001b[38;5;34m16\u001b[0m, \u001b[38;5;34m16\u001b[0m,  │   \u001b[38;5;34m536,536\u001b[0m │ block9_sepcon… │   \u001b[1;91mN\u001b[0m   │\n",
       "│ (\u001b[38;5;33mSeparableConv2D\u001b[0m) │ \u001b[38;5;34m728\u001b[0m)            │           │                │       │\n",
       "├───────────────────┼─────────────────┼───────────┼────────────────┼───────┤\n",
       "│ block9_sepconv2_… │ (\u001b[38;5;45mNone\u001b[0m, \u001b[38;5;34m16\u001b[0m, \u001b[38;5;34m16\u001b[0m,  │     \u001b[38;5;34m2,912\u001b[0m │ block9_sepcon… │   \u001b[1;91mN\u001b[0m   │\n",
       "│ (\u001b[38;5;33mBatchNormalizat…\u001b[0m │ \u001b[38;5;34m728\u001b[0m)            │           │                │       │\n",
       "├───────────────────┼─────────────────┼───────────┼────────────────┼───────┤\n",
       "│ block9_sepconv3_… │ (\u001b[38;5;45mNone\u001b[0m, \u001b[38;5;34m16\u001b[0m, \u001b[38;5;34m16\u001b[0m,  │         \u001b[38;5;34m0\u001b[0m │ block9_sepcon… │   \u001b[1m-\u001b[0m   │\n",
       "│ (\u001b[38;5;33mActivation\u001b[0m)      │ \u001b[38;5;34m728\u001b[0m)            │           │                │       │\n",
       "├───────────────────┼─────────────────┼───────────┼────────────────┼───────┤\n",
       "│ block9_sepconv3   │ (\u001b[38;5;45mNone\u001b[0m, \u001b[38;5;34m16\u001b[0m, \u001b[38;5;34m16\u001b[0m,  │   \u001b[38;5;34m536,536\u001b[0m │ block9_sepcon… │   \u001b[1;91mN\u001b[0m   │\n",
       "│ (\u001b[38;5;33mSeparableConv2D\u001b[0m) │ \u001b[38;5;34m728\u001b[0m)            │           │                │       │\n",
       "├───────────────────┼─────────────────┼───────────┼────────────────┼───────┤\n",
       "│ block9_sepconv3_… │ (\u001b[38;5;45mNone\u001b[0m, \u001b[38;5;34m16\u001b[0m, \u001b[38;5;34m16\u001b[0m,  │     \u001b[38;5;34m2,912\u001b[0m │ block9_sepcon… │   \u001b[1;91mN\u001b[0m   │\n",
       "│ (\u001b[38;5;33mBatchNormalizat…\u001b[0m │ \u001b[38;5;34m728\u001b[0m)            │           │                │       │\n",
       "├───────────────────┼─────────────────┼───────────┼────────────────┼───────┤\n",
       "│ add_7 (\u001b[38;5;33mAdd\u001b[0m)       │ (\u001b[38;5;45mNone\u001b[0m, \u001b[38;5;34m16\u001b[0m, \u001b[38;5;34m16\u001b[0m,  │         \u001b[38;5;34m0\u001b[0m │ block9_sepcon… │   \u001b[1m-\u001b[0m   │\n",
       "│                   │ \u001b[38;5;34m728\u001b[0m)            │           │ add_6[\u001b[38;5;34m0\u001b[0m][\u001b[38;5;34m0\u001b[0m]    │       │\n",
       "├───────────────────┼─────────────────┼───────────┼────────────────┼───────┤\n",
       "│ block10_sepconv1… │ (\u001b[38;5;45mNone\u001b[0m, \u001b[38;5;34m16\u001b[0m, \u001b[38;5;34m16\u001b[0m,  │         \u001b[38;5;34m0\u001b[0m │ add_7[\u001b[38;5;34m0\u001b[0m][\u001b[38;5;34m0\u001b[0m]    │   \u001b[1m-\u001b[0m   │\n",
       "│ (\u001b[38;5;33mActivation\u001b[0m)      │ \u001b[38;5;34m728\u001b[0m)            │           │                │       │\n",
       "├───────────────────┼─────────────────┼───────────┼────────────────┼───────┤\n",
       "│ block10_sepconv1  │ (\u001b[38;5;45mNone\u001b[0m, \u001b[38;5;34m16\u001b[0m, \u001b[38;5;34m16\u001b[0m,  │   \u001b[38;5;34m536,536\u001b[0m │ block10_sepco… │   \u001b[1;91mN\u001b[0m   │\n",
       "│ (\u001b[38;5;33mSeparableConv2D\u001b[0m) │ \u001b[38;5;34m728\u001b[0m)            │           │                │       │\n",
       "├───────────────────┼─────────────────┼───────────┼────────────────┼───────┤\n",
       "│ block10_sepconv1… │ (\u001b[38;5;45mNone\u001b[0m, \u001b[38;5;34m16\u001b[0m, \u001b[38;5;34m16\u001b[0m,  │     \u001b[38;5;34m2,912\u001b[0m │ block10_sepco… │   \u001b[1;91mN\u001b[0m   │\n",
       "│ (\u001b[38;5;33mBatchNormalizat…\u001b[0m │ \u001b[38;5;34m728\u001b[0m)            │           │                │       │\n",
       "├───────────────────┼─────────────────┼───────────┼────────────────┼───────┤\n",
       "│ block10_sepconv2… │ (\u001b[38;5;45mNone\u001b[0m, \u001b[38;5;34m16\u001b[0m, \u001b[38;5;34m16\u001b[0m,  │         \u001b[38;5;34m0\u001b[0m │ block10_sepco… │   \u001b[1m-\u001b[0m   │\n",
       "│ (\u001b[38;5;33mActivation\u001b[0m)      │ \u001b[38;5;34m728\u001b[0m)            │           │                │       │\n",
       "├───────────────────┼─────────────────┼───────────┼────────────────┼───────┤\n",
       "│ block10_sepconv2  │ (\u001b[38;5;45mNone\u001b[0m, \u001b[38;5;34m16\u001b[0m, \u001b[38;5;34m16\u001b[0m,  │   \u001b[38;5;34m536,536\u001b[0m │ block10_sepco… │   \u001b[1;91mN\u001b[0m   │\n",
       "│ (\u001b[38;5;33mSeparableConv2D\u001b[0m) │ \u001b[38;5;34m728\u001b[0m)            │           │                │       │\n",
       "├───────────────────┼─────────────────┼───────────┼────────────────┼───────┤\n",
       "│ block10_sepconv2… │ (\u001b[38;5;45mNone\u001b[0m, \u001b[38;5;34m16\u001b[0m, \u001b[38;5;34m16\u001b[0m,  │     \u001b[38;5;34m2,912\u001b[0m │ block10_sepco… │   \u001b[1;91mN\u001b[0m   │\n",
       "│ (\u001b[38;5;33mBatchNormalizat…\u001b[0m │ \u001b[38;5;34m728\u001b[0m)            │           │                │       │\n",
       "├───────────────────┼─────────────────┼───────────┼────────────────┼───────┤\n",
       "│ block10_sepconv3… │ (\u001b[38;5;45mNone\u001b[0m, \u001b[38;5;34m16\u001b[0m, \u001b[38;5;34m16\u001b[0m,  │         \u001b[38;5;34m0\u001b[0m │ block10_sepco… │   \u001b[1m-\u001b[0m   │\n",
       "│ (\u001b[38;5;33mActivation\u001b[0m)      │ \u001b[38;5;34m728\u001b[0m)            │           │                │       │\n",
       "├───────────────────┼─────────────────┼───────────┼────────────────┼───────┤\n",
       "│ block10_sepconv3  │ (\u001b[38;5;45mNone\u001b[0m, \u001b[38;5;34m16\u001b[0m, \u001b[38;5;34m16\u001b[0m,  │   \u001b[38;5;34m536,536\u001b[0m │ block10_sepco… │   \u001b[1;91mN\u001b[0m   │\n",
       "│ (\u001b[38;5;33mSeparableConv2D\u001b[0m) │ \u001b[38;5;34m728\u001b[0m)            │           │                │       │\n",
       "├───────────────────┼─────────────────┼───────────┼────────────────┼───────┤\n",
       "│ block10_sepconv3… │ (\u001b[38;5;45mNone\u001b[0m, \u001b[38;5;34m16\u001b[0m, \u001b[38;5;34m16\u001b[0m,  │     \u001b[38;5;34m2,912\u001b[0m │ block10_sepco… │   \u001b[1;91mN\u001b[0m   │\n",
       "│ (\u001b[38;5;33mBatchNormalizat…\u001b[0m │ \u001b[38;5;34m728\u001b[0m)            │           │                │       │\n",
       "├───────────────────┼─────────────────┼───────────┼────────────────┼───────┤\n",
       "│ add_8 (\u001b[38;5;33mAdd\u001b[0m)       │ (\u001b[38;5;45mNone\u001b[0m, \u001b[38;5;34m16\u001b[0m, \u001b[38;5;34m16\u001b[0m,  │         \u001b[38;5;34m0\u001b[0m │ block10_sepco… │   \u001b[1m-\u001b[0m   │\n",
       "│                   │ \u001b[38;5;34m728\u001b[0m)            │           │ add_7[\u001b[38;5;34m0\u001b[0m][\u001b[38;5;34m0\u001b[0m]    │       │\n",
       "├───────────────────┼─────────────────┼───────────┼────────────────┼───────┤\n",
       "│ block11_sepconv1… │ (\u001b[38;5;45mNone\u001b[0m, \u001b[38;5;34m16\u001b[0m, \u001b[38;5;34m16\u001b[0m,  │         \u001b[38;5;34m0\u001b[0m │ add_8[\u001b[38;5;34m0\u001b[0m][\u001b[38;5;34m0\u001b[0m]    │   \u001b[1m-\u001b[0m   │\n",
       "│ (\u001b[38;5;33mActivation\u001b[0m)      │ \u001b[38;5;34m728\u001b[0m)            │           │                │       │\n",
       "├───────────────────┼─────────────────┼───────────┼────────────────┼───────┤\n",
       "│ block11_sepconv1  │ (\u001b[38;5;45mNone\u001b[0m, \u001b[38;5;34m16\u001b[0m, \u001b[38;5;34m16\u001b[0m,  │   \u001b[38;5;34m536,536\u001b[0m │ block11_sepco… │   \u001b[1;91mN\u001b[0m   │\n",
       "│ (\u001b[38;5;33mSeparableConv2D\u001b[0m) │ \u001b[38;5;34m728\u001b[0m)            │           │                │       │\n",
       "├───────────────────┼─────────────────┼───────────┼────────────────┼───────┤\n",
       "│ block11_sepconv1… │ (\u001b[38;5;45mNone\u001b[0m, \u001b[38;5;34m16\u001b[0m, \u001b[38;5;34m16\u001b[0m,  │     \u001b[38;5;34m2,912\u001b[0m │ block11_sepco… │   \u001b[1;91mN\u001b[0m   │\n",
       "│ (\u001b[38;5;33mBatchNormalizat…\u001b[0m │ \u001b[38;5;34m728\u001b[0m)            │           │                │       │\n",
       "├───────────────────┼─────────────────┼───────────┼────────────────┼───────┤\n",
       "│ block11_sepconv2… │ (\u001b[38;5;45mNone\u001b[0m, \u001b[38;5;34m16\u001b[0m, \u001b[38;5;34m16\u001b[0m,  │         \u001b[38;5;34m0\u001b[0m │ block11_sepco… │   \u001b[1m-\u001b[0m   │\n",
       "│ (\u001b[38;5;33mActivation\u001b[0m)      │ \u001b[38;5;34m728\u001b[0m)            │           │                │       │\n",
       "├───────────────────┼─────────────────┼───────────┼────────────────┼───────┤\n",
       "│ block11_sepconv2  │ (\u001b[38;5;45mNone\u001b[0m, \u001b[38;5;34m16\u001b[0m, \u001b[38;5;34m16\u001b[0m,  │   \u001b[38;5;34m536,536\u001b[0m │ block11_sepco… │   \u001b[1;91mN\u001b[0m   │\n",
       "│ (\u001b[38;5;33mSeparableConv2D\u001b[0m) │ \u001b[38;5;34m728\u001b[0m)            │           │                │       │\n",
       "├───────────────────┼─────────────────┼───────────┼────────────────┼───────┤\n",
       "│ block11_sepconv2… │ (\u001b[38;5;45mNone\u001b[0m, \u001b[38;5;34m16\u001b[0m, \u001b[38;5;34m16\u001b[0m,  │     \u001b[38;5;34m2,912\u001b[0m │ block11_sepco… │   \u001b[1;91mN\u001b[0m   │\n",
       "│ (\u001b[38;5;33mBatchNormalizat…\u001b[0m │ \u001b[38;5;34m728\u001b[0m)            │           │                │       │\n",
       "├───────────────────┼─────────────────┼───────────┼────────────────┼───────┤\n",
       "│ block11_sepconv3… │ (\u001b[38;5;45mNone\u001b[0m, \u001b[38;5;34m16\u001b[0m, \u001b[38;5;34m16\u001b[0m,  │         \u001b[38;5;34m0\u001b[0m │ block11_sepco… │   \u001b[1m-\u001b[0m   │\n",
       "│ (\u001b[38;5;33mActivation\u001b[0m)      │ \u001b[38;5;34m728\u001b[0m)            │           │                │       │\n",
       "├───────────────────┼─────────────────┼───────────┼────────────────┼───────┤\n",
       "│ block11_sepconv3  │ (\u001b[38;5;45mNone\u001b[0m, \u001b[38;5;34m16\u001b[0m, \u001b[38;5;34m16\u001b[0m,  │   \u001b[38;5;34m536,536\u001b[0m │ block11_sepco… │   \u001b[1;91mN\u001b[0m   │\n",
       "│ (\u001b[38;5;33mSeparableConv2D\u001b[0m) │ \u001b[38;5;34m728\u001b[0m)            │           │                │       │\n",
       "├───────────────────┼─────────────────┼───────────┼────────────────┼───────┤\n",
       "│ block11_sepconv3… │ (\u001b[38;5;45mNone\u001b[0m, \u001b[38;5;34m16\u001b[0m, \u001b[38;5;34m16\u001b[0m,  │     \u001b[38;5;34m2,912\u001b[0m │ block11_sepco… │   \u001b[1;91mN\u001b[0m   │\n",
       "│ (\u001b[38;5;33mBatchNormalizat…\u001b[0m │ \u001b[38;5;34m728\u001b[0m)            │           │                │       │\n",
       "├───────────────────┼─────────────────┼───────────┼────────────────┼───────┤\n",
       "│ add_9 (\u001b[38;5;33mAdd\u001b[0m)       │ (\u001b[38;5;45mNone\u001b[0m, \u001b[38;5;34m16\u001b[0m, \u001b[38;5;34m16\u001b[0m,  │         \u001b[38;5;34m0\u001b[0m │ block11_sepco… │   \u001b[1m-\u001b[0m   │\n",
       "│                   │ \u001b[38;5;34m728\u001b[0m)            │           │ add_8[\u001b[38;5;34m0\u001b[0m][\u001b[38;5;34m0\u001b[0m]    │       │\n",
       "├───────────────────┼─────────────────┼───────────┼────────────────┼───────┤\n",
       "│ block12_sepconv1… │ (\u001b[38;5;45mNone\u001b[0m, \u001b[38;5;34m16\u001b[0m, \u001b[38;5;34m16\u001b[0m,  │         \u001b[38;5;34m0\u001b[0m │ add_9[\u001b[38;5;34m0\u001b[0m][\u001b[38;5;34m0\u001b[0m]    │   \u001b[1m-\u001b[0m   │\n",
       "│ (\u001b[38;5;33mActivation\u001b[0m)      │ \u001b[38;5;34m728\u001b[0m)            │           │                │       │\n",
       "├───────────────────┼─────────────────┼───────────┼────────────────┼───────┤\n",
       "│ block12_sepconv1  │ (\u001b[38;5;45mNone\u001b[0m, \u001b[38;5;34m16\u001b[0m, \u001b[38;5;34m16\u001b[0m,  │   \u001b[38;5;34m536,536\u001b[0m │ block12_sepco… │   \u001b[1;91mN\u001b[0m   │\n",
       "│ (\u001b[38;5;33mSeparableConv2D\u001b[0m) │ \u001b[38;5;34m728\u001b[0m)            │           │                │       │\n",
       "├───────────────────┼─────────────────┼───────────┼────────────────┼───────┤\n",
       "│ block12_sepconv1… │ (\u001b[38;5;45mNone\u001b[0m, \u001b[38;5;34m16\u001b[0m, \u001b[38;5;34m16\u001b[0m,  │     \u001b[38;5;34m2,912\u001b[0m │ block12_sepco… │   \u001b[1;91mN\u001b[0m   │\n",
       "│ (\u001b[38;5;33mBatchNormalizat…\u001b[0m │ \u001b[38;5;34m728\u001b[0m)            │           │                │       │\n",
       "├───────────────────┼─────────────────┼───────────┼────────────────┼───────┤\n",
       "│ block12_sepconv2… │ (\u001b[38;5;45mNone\u001b[0m, \u001b[38;5;34m16\u001b[0m, \u001b[38;5;34m16\u001b[0m,  │         \u001b[38;5;34m0\u001b[0m │ block12_sepco… │   \u001b[1m-\u001b[0m   │\n",
       "│ (\u001b[38;5;33mActivation\u001b[0m)      │ \u001b[38;5;34m728\u001b[0m)            │           │                │       │\n",
       "├───────────────────┼─────────────────┼───────────┼────────────────┼───────┤\n",
       "│ block12_sepconv2  │ (\u001b[38;5;45mNone\u001b[0m, \u001b[38;5;34m16\u001b[0m, \u001b[38;5;34m16\u001b[0m,  │   \u001b[38;5;34m536,536\u001b[0m │ block12_sepco… │   \u001b[1;91mN\u001b[0m   │\n",
       "│ (\u001b[38;5;33mSeparableConv2D\u001b[0m) │ \u001b[38;5;34m728\u001b[0m)            │           │                │       │\n",
       "├───────────────────┼─────────────────┼───────────┼────────────────┼───────┤\n",
       "│ block12_sepconv2… │ (\u001b[38;5;45mNone\u001b[0m, \u001b[38;5;34m16\u001b[0m, \u001b[38;5;34m16\u001b[0m,  │     \u001b[38;5;34m2,912\u001b[0m │ block12_sepco… │   \u001b[1;91mN\u001b[0m   │\n",
       "│ (\u001b[38;5;33mBatchNormalizat…\u001b[0m │ \u001b[38;5;34m728\u001b[0m)            │           │                │       │\n",
       "├───────────────────┼─────────────────┼───────────┼────────────────┼───────┤\n",
       "│ block12_sepconv3… │ (\u001b[38;5;45mNone\u001b[0m, \u001b[38;5;34m16\u001b[0m, \u001b[38;5;34m16\u001b[0m,  │         \u001b[38;5;34m0\u001b[0m │ block12_sepco… │   \u001b[1m-\u001b[0m   │\n",
       "│ (\u001b[38;5;33mActivation\u001b[0m)      │ \u001b[38;5;34m728\u001b[0m)            │           │                │       │\n",
       "├───────────────────┼─────────────────┼───────────┼────────────────┼───────┤\n",
       "│ block12_sepconv3  │ (\u001b[38;5;45mNone\u001b[0m, \u001b[38;5;34m16\u001b[0m, \u001b[38;5;34m16\u001b[0m,  │   \u001b[38;5;34m536,536\u001b[0m │ block12_sepco… │   \u001b[1;91mN\u001b[0m   │\n",
       "│ (\u001b[38;5;33mSeparableConv2D\u001b[0m) │ \u001b[38;5;34m728\u001b[0m)            │           │                │       │\n",
       "├───────────────────┼─────────────────┼───────────┼────────────────┼───────┤\n",
       "│ block12_sepconv3… │ (\u001b[38;5;45mNone\u001b[0m, \u001b[38;5;34m16\u001b[0m, \u001b[38;5;34m16\u001b[0m,  │     \u001b[38;5;34m2,912\u001b[0m │ block12_sepco… │   \u001b[1;91mN\u001b[0m   │\n",
       "│ (\u001b[38;5;33mBatchNormalizat…\u001b[0m │ \u001b[38;5;34m728\u001b[0m)            │           │                │       │\n",
       "├───────────────────┼─────────────────┼───────────┼────────────────┼───────┤\n",
       "│ add_10 (\u001b[38;5;33mAdd\u001b[0m)      │ (\u001b[38;5;45mNone\u001b[0m, \u001b[38;5;34m16\u001b[0m, \u001b[38;5;34m16\u001b[0m,  │         \u001b[38;5;34m0\u001b[0m │ block12_sepco… │   \u001b[1m-\u001b[0m   │\n",
       "│                   │ \u001b[38;5;34m728\u001b[0m)            │           │ add_9[\u001b[38;5;34m0\u001b[0m][\u001b[38;5;34m0\u001b[0m]    │       │\n",
       "├───────────────────┼─────────────────┼───────────┼────────────────┼───────┤\n",
       "│ block13_sepconv1… │ (\u001b[38;5;45mNone\u001b[0m, \u001b[38;5;34m16\u001b[0m, \u001b[38;5;34m16\u001b[0m,  │         \u001b[38;5;34m0\u001b[0m │ add_10[\u001b[38;5;34m0\u001b[0m][\u001b[38;5;34m0\u001b[0m]   │   \u001b[1m-\u001b[0m   │\n",
       "│ (\u001b[38;5;33mActivation\u001b[0m)      │ \u001b[38;5;34m728\u001b[0m)            │           │                │       │\n",
       "├───────────────────┼─────────────────┼───────────┼────────────────┼───────┤\n",
       "│ block13_sepconv1  │ (\u001b[38;5;45mNone\u001b[0m, \u001b[38;5;34m16\u001b[0m, \u001b[38;5;34m16\u001b[0m,  │   \u001b[38;5;34m536,536\u001b[0m │ block13_sepco… │   \u001b[1;91mN\u001b[0m   │\n",
       "│ (\u001b[38;5;33mSeparableConv2D\u001b[0m) │ \u001b[38;5;34m728\u001b[0m)            │           │                │       │\n",
       "├───────────────────┼─────────────────┼───────────┼────────────────┼───────┤\n",
       "│ block13_sepconv1… │ (\u001b[38;5;45mNone\u001b[0m, \u001b[38;5;34m16\u001b[0m, \u001b[38;5;34m16\u001b[0m,  │     \u001b[38;5;34m2,912\u001b[0m │ block13_sepco… │   \u001b[1;91mN\u001b[0m   │\n",
       "│ (\u001b[38;5;33mBatchNormalizat…\u001b[0m │ \u001b[38;5;34m728\u001b[0m)            │           │                │       │\n",
       "├───────────────────┼─────────────────┼───────────┼────────────────┼───────┤\n",
       "│ block13_sepconv2… │ (\u001b[38;5;45mNone\u001b[0m, \u001b[38;5;34m16\u001b[0m, \u001b[38;5;34m16\u001b[0m,  │         \u001b[38;5;34m0\u001b[0m │ block13_sepco… │   \u001b[1m-\u001b[0m   │\n",
       "│ (\u001b[38;5;33mActivation\u001b[0m)      │ \u001b[38;5;34m728\u001b[0m)            │           │                │       │\n",
       "├───────────────────┼─────────────────┼───────────┼────────────────┼───────┤\n",
       "│ block13_sepconv2  │ (\u001b[38;5;45mNone\u001b[0m, \u001b[38;5;34m16\u001b[0m, \u001b[38;5;34m16\u001b[0m,  │   \u001b[38;5;34m752,024\u001b[0m │ block13_sepco… │   \u001b[1;91mN\u001b[0m   │\n",
       "│ (\u001b[38;5;33mSeparableConv2D\u001b[0m) │ \u001b[38;5;34m1024\u001b[0m)           │           │                │       │\n",
       "├───────────────────┼─────────────────┼───────────┼────────────────┼───────┤\n",
       "│ block13_sepconv2… │ (\u001b[38;5;45mNone\u001b[0m, \u001b[38;5;34m16\u001b[0m, \u001b[38;5;34m16\u001b[0m,  │     \u001b[38;5;34m4,096\u001b[0m │ block13_sepco… │   \u001b[1;91mN\u001b[0m   │\n",
       "│ (\u001b[38;5;33mBatchNormalizat…\u001b[0m │ \u001b[38;5;34m1024\u001b[0m)           │           │                │       │\n",
       "├───────────────────┼─────────────────┼───────────┼────────────────┼───────┤\n",
       "│ conv2d_3 (\u001b[38;5;33mConv2D\u001b[0m) │ (\u001b[38;5;45mNone\u001b[0m, \u001b[38;5;34m8\u001b[0m, \u001b[38;5;34m8\u001b[0m,    │   \u001b[38;5;34m745,472\u001b[0m │ add_10[\u001b[38;5;34m0\u001b[0m][\u001b[38;5;34m0\u001b[0m]   │   \u001b[1;91mN\u001b[0m   │\n",
       "│                   │ \u001b[38;5;34m1024\u001b[0m)           │           │                │       │\n",
       "├───────────────────┼─────────────────┼───────────┼────────────────┼───────┤\n",
       "│ block13_pool      │ (\u001b[38;5;45mNone\u001b[0m, \u001b[38;5;34m8\u001b[0m, \u001b[38;5;34m8\u001b[0m,    │         \u001b[38;5;34m0\u001b[0m │ block13_sepco… │   \u001b[1m-\u001b[0m   │\n",
       "│ (\u001b[38;5;33mMaxPooling2D\u001b[0m)    │ \u001b[38;5;34m1024\u001b[0m)           │           │                │       │\n",
       "├───────────────────┼─────────────────┼───────────┼────────────────┼───────┤\n",
       "│ batch_normalizat… │ (\u001b[38;5;45mNone\u001b[0m, \u001b[38;5;34m8\u001b[0m, \u001b[38;5;34m8\u001b[0m,    │     \u001b[38;5;34m4,096\u001b[0m │ conv2d_3[\u001b[38;5;34m0\u001b[0m][\u001b[38;5;34m0\u001b[0m] │   \u001b[1;91mN\u001b[0m   │\n",
       "│ (\u001b[38;5;33mBatchNormalizat…\u001b[0m │ \u001b[38;5;34m1024\u001b[0m)           │           │                │       │\n",
       "├───────────────────┼─────────────────┼───────────┼────────────────┼───────┤\n",
       "│ add_11 (\u001b[38;5;33mAdd\u001b[0m)      │ (\u001b[38;5;45mNone\u001b[0m, \u001b[38;5;34m8\u001b[0m, \u001b[38;5;34m8\u001b[0m,    │         \u001b[38;5;34m0\u001b[0m │ block13_pool[\u001b[38;5;34m…\u001b[0m │   \u001b[1m-\u001b[0m   │\n",
       "│                   │ \u001b[38;5;34m1024\u001b[0m)           │           │ batch_normali… │       │\n",
       "├───────────────────┼─────────────────┼───────────┼────────────────┼───────┤\n",
       "│ block14_sepconv1  │ (\u001b[38;5;45mNone\u001b[0m, \u001b[38;5;34m8\u001b[0m, \u001b[38;5;34m8\u001b[0m,    │ \u001b[38;5;34m1,582,080\u001b[0m │ add_11[\u001b[38;5;34m0\u001b[0m][\u001b[38;5;34m0\u001b[0m]   │   \u001b[1;91mN\u001b[0m   │\n",
       "│ (\u001b[38;5;33mSeparableConv2D\u001b[0m) │ \u001b[38;5;34m1536\u001b[0m)           │           │                │       │\n",
       "├───────────────────┼─────────────────┼───────────┼────────────────┼───────┤\n",
       "│ block14_sepconv1… │ (\u001b[38;5;45mNone\u001b[0m, \u001b[38;5;34m8\u001b[0m, \u001b[38;5;34m8\u001b[0m,    │     \u001b[38;5;34m6,144\u001b[0m │ block14_sepco… │   \u001b[1;91mN\u001b[0m   │\n",
       "│ (\u001b[38;5;33mBatchNormalizat…\u001b[0m │ \u001b[38;5;34m1536\u001b[0m)           │           │                │       │\n",
       "├───────────────────┼─────────────────┼───────────┼────────────────┼───────┤\n",
       "│ block14_sepconv1… │ (\u001b[38;5;45mNone\u001b[0m, \u001b[38;5;34m8\u001b[0m, \u001b[38;5;34m8\u001b[0m,    │         \u001b[38;5;34m0\u001b[0m │ block14_sepco… │   \u001b[1m-\u001b[0m   │\n",
       "│ (\u001b[38;5;33mActivation\u001b[0m)      │ \u001b[38;5;34m1536\u001b[0m)           │           │                │       │\n",
       "├───────────────────┼─────────────────┼───────────┼────────────────┼───────┤\n",
       "│ block14_sepconv2  │ (\u001b[38;5;45mNone\u001b[0m, \u001b[38;5;34m8\u001b[0m, \u001b[38;5;34m8\u001b[0m,    │ \u001b[38;5;34m3,159,552\u001b[0m │ block14_sepco… │   \u001b[1;91mN\u001b[0m   │\n",
       "│ (\u001b[38;5;33mSeparableConv2D\u001b[0m) │ \u001b[38;5;34m2048\u001b[0m)           │           │                │       │\n",
       "├───────────────────┼─────────────────┼───────────┼────────────────┼───────┤\n",
       "│ block14_sepconv2… │ (\u001b[38;5;45mNone\u001b[0m, \u001b[38;5;34m8\u001b[0m, \u001b[38;5;34m8\u001b[0m,    │     \u001b[38;5;34m8,192\u001b[0m │ block14_sepco… │   \u001b[1;91mN\u001b[0m   │\n",
       "│ (\u001b[38;5;33mBatchNormalizat…\u001b[0m │ \u001b[38;5;34m2048\u001b[0m)           │           │                │       │\n",
       "├───────────────────┼─────────────────┼───────────┼────────────────┼───────┤\n",
       "│ block14_sepconv2… │ (\u001b[38;5;45mNone\u001b[0m, \u001b[38;5;34m8\u001b[0m, \u001b[38;5;34m8\u001b[0m,    │         \u001b[38;5;34m0\u001b[0m │ block14_sepco… │   \u001b[1m-\u001b[0m   │\n",
       "│ (\u001b[38;5;33mActivation\u001b[0m)      │ \u001b[38;5;34m2048\u001b[0m)           │           │                │       │\n",
       "└───────────────────┴─────────────────┴───────────┴────────────────┴───────┘\n"
      ]
     },
     "metadata": {},
     "output_type": "display_data"
    },
    {
     "data": {
      "text/html": [
       "<pre style=\"white-space:pre;overflow-x:auto;line-height:normal;font-family:Menlo,'DejaVu Sans Mono',consolas,'Courier New',monospace\"><span style=\"font-weight: bold\"> Total params: </span><span style=\"color: #00af00; text-decoration-color: #00af00\">20,861,480</span> (79.58 MB)\n",
       "</pre>\n"
      ],
      "text/plain": [
       "\u001b[1m Total params: \u001b[0m\u001b[38;5;34m20,861,480\u001b[0m (79.58 MB)\n"
      ]
     },
     "metadata": {},
     "output_type": "display_data"
    },
    {
     "data": {
      "text/html": [
       "<pre style=\"white-space:pre;overflow-x:auto;line-height:normal;font-family:Menlo,'DejaVu Sans Mono',consolas,'Courier New',monospace\"><span style=\"font-weight: bold\"> Trainable params: </span><span style=\"color: #00af00; text-decoration-color: #00af00\">0</span> (0.00 B)\n",
       "</pre>\n"
      ],
      "text/plain": [
       "\u001b[1m Trainable params: \u001b[0m\u001b[38;5;34m0\u001b[0m (0.00 B)\n"
      ]
     },
     "metadata": {},
     "output_type": "display_data"
    },
    {
     "data": {
      "text/html": [
       "<pre style=\"white-space:pre;overflow-x:auto;line-height:normal;font-family:Menlo,'DejaVu Sans Mono',consolas,'Courier New',monospace\"><span style=\"font-weight: bold\"> Non-trainable params: </span><span style=\"color: #00af00; text-decoration-color: #00af00\">20,861,480</span> (79.58 MB)\n",
       "</pre>\n"
      ],
      "text/plain": [
       "\u001b[1m Non-trainable params: \u001b[0m\u001b[38;5;34m20,861,480\u001b[0m (79.58 MB)\n"
      ]
     },
     "metadata": {},
     "output_type": "display_data"
    }
   ],
   "source": [
    "base_model.summary(show_trainable=True)"
   ]
  },
  {
   "cell_type": "code",
   "execution_count": 31,
   "id": "5a3c8454-ae0f-4b7a-93e9-8b6dc6a3da81",
   "metadata": {},
   "outputs": [
    {
     "data": {
      "text/html": [
       "<pre style=\"white-space:pre;overflow-x:auto;line-height:normal;font-family:Menlo,'DejaVu Sans Mono',consolas,'Courier New',monospace\"><span style=\"font-weight: bold\">Model: \"functional_1\"</span>\n",
       "</pre>\n"
      ],
      "text/plain": [
       "\u001b[1mModel: \"functional_1\"\u001b[0m\n"
      ]
     },
     "metadata": {},
     "output_type": "display_data"
    },
    {
     "data": {
      "text/html": [
       "<pre style=\"white-space:pre;overflow-x:auto;line-height:normal;font-family:Menlo,'DejaVu Sans Mono',consolas,'Courier New',monospace\">┏━━━━━━━━━━━━━━━━━━━━━━━━━━━━━┳━━━━━━━━━━━━━━━━━━━━━━━┳━━━━━━━━━━━━┳━━━━━━━┓\n",
       "┃<span style=\"font-weight: bold\"> Layer (type)                </span>┃<span style=\"font-weight: bold\"> Output Shape          </span>┃<span style=\"font-weight: bold\">    Param # </span>┃<span style=\"font-weight: bold\"> Trai… </span>┃\n",
       "┡━━━━━━━━━━━━━━━━━━━━━━━━━━━━━╇━━━━━━━━━━━━━━━━━━━━━━━╇━━━━━━━━━━━━╇━━━━━━━┩\n",
       "│ input_layer_2 (<span style=\"color: #0087ff; text-decoration-color: #0087ff\">InputLayer</span>)  │ (<span style=\"color: #00d7ff; text-decoration-color: #00d7ff\">None</span>, <span style=\"color: #00af00; text-decoration-color: #00af00\">256</span>, <span style=\"color: #00af00; text-decoration-color: #00af00\">256</span>, <span style=\"color: #00af00; text-decoration-color: #00af00\">3</span>)   │          <span style=\"color: #00af00; text-decoration-color: #00af00\">0</span> │   <span style=\"font-weight: bold\">-</span>   │\n",
       "├─────────────────────────────┼───────────────────────┼────────────┼───────┤\n",
       "│ xception (<span style=\"color: #0087ff; text-decoration-color: #0087ff\">Functional</span>)       │ (<span style=\"color: #00d7ff; text-decoration-color: #00d7ff\">None</span>, <span style=\"color: #00af00; text-decoration-color: #00af00\">8</span>, <span style=\"color: #00af00; text-decoration-color: #00af00\">8</span>, <span style=\"color: #00af00; text-decoration-color: #00af00\">2048</span>)    │ <span style=\"color: #00af00; text-decoration-color: #00af00\">20,861,480</span> │   <span style=\"color: #ff0000; text-decoration-color: #ff0000; font-weight: bold\">N</span>   │\n",
       "├─────────────────────────────┼───────────────────────┼────────────┼───────┤\n",
       "│ global_average_pooling2d_1  │ (<span style=\"color: #00d7ff; text-decoration-color: #00d7ff\">None</span>, <span style=\"color: #00af00; text-decoration-color: #00af00\">2048</span>)          │          <span style=\"color: #00af00; text-decoration-color: #00af00\">0</span> │   <span style=\"font-weight: bold\">-</span>   │\n",
       "│ (<span style=\"color: #0087ff; text-decoration-color: #0087ff\">GlobalAveragePooling2D</span>)    │                       │            │       │\n",
       "├─────────────────────────────┼───────────────────────┼────────────┼───────┤\n",
       "│ dense_2 (<span style=\"color: #0087ff; text-decoration-color: #0087ff\">Dense</span>)             │ (<span style=\"color: #00d7ff; text-decoration-color: #00d7ff\">None</span>, <span style=\"color: #00af00; text-decoration-color: #00af00\">1024</span>)          │  <span style=\"color: #00af00; text-decoration-color: #00af00\">2,098,176</span> │   <span style=\"color: #00af00; text-decoration-color: #00af00; font-weight: bold\">Y</span>   │\n",
       "├─────────────────────────────┼───────────────────────┼────────────┼───────┤\n",
       "│ dropout_1 (<span style=\"color: #0087ff; text-decoration-color: #0087ff\">Dropout</span>)         │ (<span style=\"color: #00d7ff; text-decoration-color: #00d7ff\">None</span>, <span style=\"color: #00af00; text-decoration-color: #00af00\">1024</span>)          │          <span style=\"color: #00af00; text-decoration-color: #00af00\">0</span> │   <span style=\"font-weight: bold\">-</span>   │\n",
       "├─────────────────────────────┼───────────────────────┼────────────┼───────┤\n",
       "│ dense_3 (<span style=\"color: #0087ff; text-decoration-color: #0087ff\">Dense</span>)             │ (<span style=\"color: #00d7ff; text-decoration-color: #00d7ff\">None</span>, <span style=\"color: #00af00; text-decoration-color: #00af00\">1</span>)             │      <span style=\"color: #00af00; text-decoration-color: #00af00\">1,025</span> │   <span style=\"color: #00af00; text-decoration-color: #00af00; font-weight: bold\">Y</span>   │\n",
       "└─────────────────────────────┴───────────────────────┴────────────┴───────┘\n",
       "</pre>\n"
      ],
      "text/plain": [
       "┏━━━━━━━━━━━━━━━━━━━━━━━━━━━━━┳━━━━━━━━━━━━━━━━━━━━━━━┳━━━━━━━━━━━━┳━━━━━━━┓\n",
       "┃\u001b[1m \u001b[0m\u001b[1mLayer (type)               \u001b[0m\u001b[1m \u001b[0m┃\u001b[1m \u001b[0m\u001b[1mOutput Shape         \u001b[0m\u001b[1m \u001b[0m┃\u001b[1m \u001b[0m\u001b[1m   Param #\u001b[0m\u001b[1m \u001b[0m┃\u001b[1m \u001b[0m\u001b[1mTrai…\u001b[0m\u001b[1m \u001b[0m┃\n",
       "┡━━━━━━━━━━━━━━━━━━━━━━━━━━━━━╇━━━━━━━━━━━━━━━━━━━━━━━╇━━━━━━━━━━━━╇━━━━━━━┩\n",
       "│ input_layer_2 (\u001b[38;5;33mInputLayer\u001b[0m)  │ (\u001b[38;5;45mNone\u001b[0m, \u001b[38;5;34m256\u001b[0m, \u001b[38;5;34m256\u001b[0m, \u001b[38;5;34m3\u001b[0m)   │          \u001b[38;5;34m0\u001b[0m │   \u001b[1m-\u001b[0m   │\n",
       "├─────────────────────────────┼───────────────────────┼────────────┼───────┤\n",
       "│ xception (\u001b[38;5;33mFunctional\u001b[0m)       │ (\u001b[38;5;45mNone\u001b[0m, \u001b[38;5;34m8\u001b[0m, \u001b[38;5;34m8\u001b[0m, \u001b[38;5;34m2048\u001b[0m)    │ \u001b[38;5;34m20,861,480\u001b[0m │   \u001b[1;91mN\u001b[0m   │\n",
       "├─────────────────────────────┼───────────────────────┼────────────┼───────┤\n",
       "│ global_average_pooling2d_1  │ (\u001b[38;5;45mNone\u001b[0m, \u001b[38;5;34m2048\u001b[0m)          │          \u001b[38;5;34m0\u001b[0m │   \u001b[1m-\u001b[0m   │\n",
       "│ (\u001b[38;5;33mGlobalAveragePooling2D\u001b[0m)    │                       │            │       │\n",
       "├─────────────────────────────┼───────────────────────┼────────────┼───────┤\n",
       "│ dense_2 (\u001b[38;5;33mDense\u001b[0m)             │ (\u001b[38;5;45mNone\u001b[0m, \u001b[38;5;34m1024\u001b[0m)          │  \u001b[38;5;34m2,098,176\u001b[0m │   \u001b[1;38;5;34mY\u001b[0m   │\n",
       "├─────────────────────────────┼───────────────────────┼────────────┼───────┤\n",
       "│ dropout_1 (\u001b[38;5;33mDropout\u001b[0m)         │ (\u001b[38;5;45mNone\u001b[0m, \u001b[38;5;34m1024\u001b[0m)          │          \u001b[38;5;34m0\u001b[0m │   \u001b[1m-\u001b[0m   │\n",
       "├─────────────────────────────┼───────────────────────┼────────────┼───────┤\n",
       "│ dense_3 (\u001b[38;5;33mDense\u001b[0m)             │ (\u001b[38;5;45mNone\u001b[0m, \u001b[38;5;34m1\u001b[0m)             │      \u001b[38;5;34m1,025\u001b[0m │   \u001b[1;38;5;34mY\u001b[0m   │\n",
       "└─────────────────────────────┴───────────────────────┴────────────┴───────┘\n"
      ]
     },
     "metadata": {},
     "output_type": "display_data"
    },
    {
     "data": {
      "text/html": [
       "<pre style=\"white-space:pre;overflow-x:auto;line-height:normal;font-family:Menlo,'DejaVu Sans Mono',consolas,'Courier New',monospace\"><span style=\"font-weight: bold\"> Total params: </span><span style=\"color: #00af00; text-decoration-color: #00af00\">22,960,681</span> (87.59 MB)\n",
       "</pre>\n"
      ],
      "text/plain": [
       "\u001b[1m Total params: \u001b[0m\u001b[38;5;34m22,960,681\u001b[0m (87.59 MB)\n"
      ]
     },
     "metadata": {},
     "output_type": "display_data"
    },
    {
     "data": {
      "text/html": [
       "<pre style=\"white-space:pre;overflow-x:auto;line-height:normal;font-family:Menlo,'DejaVu Sans Mono',consolas,'Courier New',monospace\"><span style=\"font-weight: bold\"> Trainable params: </span><span style=\"color: #00af00; text-decoration-color: #00af00\">2,099,201</span> (8.01 MB)\n",
       "</pre>\n"
      ],
      "text/plain": [
       "\u001b[1m Trainable params: \u001b[0m\u001b[38;5;34m2,099,201\u001b[0m (8.01 MB)\n"
      ]
     },
     "metadata": {},
     "output_type": "display_data"
    },
    {
     "data": {
      "text/html": [
       "<pre style=\"white-space:pre;overflow-x:auto;line-height:normal;font-family:Menlo,'DejaVu Sans Mono',consolas,'Courier New',monospace\"><span style=\"font-weight: bold\"> Non-trainable params: </span><span style=\"color: #00af00; text-decoration-color: #00af00\">20,861,480</span> (79.58 MB)\n",
       "</pre>\n"
      ],
      "text/plain": [
       "\u001b[1m Non-trainable params: \u001b[0m\u001b[38;5;34m20,861,480\u001b[0m (79.58 MB)\n"
      ]
     },
     "metadata": {},
     "output_type": "display_data"
    }
   ],
   "source": [
    "# modify input layer\n",
    "inputs = keras.Input(shape=(256,256,3))\n",
    "# x = augmentation_layers(inputs)\n",
    "# inference mode so weights do not update)\n",
    "x = base_model(inputs, training=False)\n",
    "# new trainable layers\n",
    "x = keras.layers.GlobalAveragePooling2D()(x)\n",
    "x = keras.layers.Dense(1024, activation='relu', kernel_regularizer=regularizers.l2(0.01))(x)\n",
    "x = keras.layers.Dropout(0.4)(x)\n",
    "# x = keras.layers.Dense(512, activation='relu', kernel_regularizer=regularizers.l2(0.1))(x)\n",
    "# x = keras.layers.Dropout(0.3)(x)\n",
    "outputs = keras.layers.Dense(1, activation='sigmoid')(x)\n",
    "model = keras.Model(inputs, outputs)\n",
    "model.summary(show_trainable=True)"
   ]
  },
  {
   "cell_type": "markdown",
   "id": "26b0ff0e-d8e9-47cc-b3f7-087a6d18b298",
   "metadata": {
    "jp-MarkdownHeadingCollapsed": true
   },
   "source": [
    "## Helper functions"
   ]
  },
  {
   "cell_type": "code",
   "execution_count": 32,
   "id": "a9a35a06-1139-48f4-8c6a-ccfe6f9e1a03",
   "metadata": {},
   "outputs": [],
   "source": [
    "def plot_history(history):\n",
    "    num_subplots = len(history.history.keys())//2\n",
    "    fig, ax = plt.subplots(num_subplots)\n",
    "    for i, metric in enumerate(history.history.keys()):\n",
    "        ax[i%num_subplots].plot(history.history[metric], label=metric)\n",
    "        ax[i%num_subplots].legend()"
   ]
  },
  {
   "cell_type": "code",
   "execution_count": 49,
   "id": "c75d860d-0cc3-4aea-a1ab-1ee0b47530f8",
   "metadata": {},
   "outputs": [],
   "source": [
    "def predict(dataset, pred_model):\n",
    "    true = []\n",
    "    preds = []\n",
    "    for images, labels in dataset:\n",
    "        pred_soft = pred_model.predict(images)\n",
    "        pred = np.round(pred_soft)\n",
    "        true.extend(labels.numpy())\n",
    "        preds.extend(pred)\n",
    "    return true, preds"
   ]
  },
  {
   "cell_type": "markdown",
   "id": "ab7eb1bc-a458-458c-ae65-0234557ffce5",
   "metadata": {},
   "source": [
    "## Initial fit"
   ]
  },
  {
   "cell_type": "code",
   "execution_count": 34,
   "id": "a9754d05-ec73-4dbd-97d1-ae5544803a52",
   "metadata": {},
   "outputs": [],
   "source": [
    "callback = EarlyStopping(patience=5, restore_best_weights=True, monitor=\"val_loss\")"
   ]
  },
  {
   "cell_type": "code",
   "execution_count": 35,
   "id": "935d0094-55e6-4fc9-bc81-5921eed52be4",
   "metadata": {
    "scrolled": true
   },
   "outputs": [
    {
     "name": "stdout",
     "output_type": "stream",
     "text": [
      "Epoch 1/15\n"
     ]
    },
    {
     "name": "stderr",
     "output_type": "stream",
     "text": [
      "WARNING: All log messages before absl::InitializeLog() is called are written to STDERR\n",
      "I0000 00:00:1725732705.855782  197349 service.cc:146] XLA service 0x14d498014840 initialized for platform CUDA (this does not guarantee that XLA will be used). Devices:\n",
      "I0000 00:00:1725732705.855857  197349 service.cc:154]   StreamExecutor device (0): Tesla V100-SXM2-32GB, Compute Capability 7.0\n",
      "2024-09-07 18:11:46.051755: I tensorflow/compiler/mlir/tensorflow/utils/dump_mlir_util.cc:268] disabling MLIR crash reproducer, set env var `MLIR_CRASH_REPRODUCER_DIRECTORY` to enable.\n",
      "2024-09-07 18:11:46.990887: I external/local_xla/xla/stream_executor/cuda/cuda_dnn.cc:531] Loaded cuDNN version 8907\n",
      "WARNING: All log messages before absl::InitializeLog() is called are written to STDERR\n",
      "E0000 00:00:1725732709.453570  197349 gpu_timer.cc:183] Delay kernel timed out: measured time has sub-optimal accuracy. There may be a missing warmup execution, please investigate in Nsight Systems.\n",
      "E0000 00:00:1725732709.634095  197349 gpu_timer.cc:183] Delay kernel timed out: measured time has sub-optimal accuracy. There may be a missing warmup execution, please investigate in Nsight Systems.\n"
     ]
    },
    {
     "name": "stdout",
     "output_type": "stream",
     "text": [
      "\u001b[1m 2/68\u001b[0m \u001b[37m━━━━━━━━━━━━━━━━━━━━\u001b[0m \u001b[1m5s\u001b[0m 81ms/step - accuracy: 0.6016 - loss: 14.1660  "
     ]
    },
    {
     "name": "stderr",
     "output_type": "stream",
     "text": [
      "I0000 00:00:1725732712.211160  197349 device_compiler.h:188] Compiled cluster using XLA!  This line is logged at most once for the lifetime of the process.\n"
     ]
    },
    {
     "name": "stdout",
     "output_type": "stream",
     "text": [
      "\u001b[1m68/68\u001b[0m \u001b[32m━━━━━━━━━━━━━━━━━━━━\u001b[0m\u001b[37m\u001b[0m \u001b[1m30s\u001b[0m 293ms/step - accuracy: 0.6127 - loss: 7.5869 - val_accuracy: 0.7782 - val_loss: 1.1729\n",
      "Epoch 2/15\n",
      "\u001b[1m68/68\u001b[0m \u001b[32m━━━━━━━━━━━━━━━━━━━━\u001b[0m\u001b[37m\u001b[0m \u001b[1m22s\u001b[0m 103ms/step - accuracy: 0.6839 - loss: 1.1176 - val_accuracy: 0.7294 - val_loss: 0.7865\n",
      "Epoch 3/15\n",
      "\u001b[1m68/68\u001b[0m \u001b[32m━━━━━━━━━━━━━━━━━━━━\u001b[0m\u001b[37m\u001b[0m \u001b[1m9s\u001b[0m 87ms/step - accuracy: 0.6998 - loss: 0.7898 - val_accuracy: 0.7796 - val_loss: 0.6462\n",
      "Epoch 4/15\n",
      "\u001b[1m68/68\u001b[0m \u001b[32m━━━━━━━━━━━━━━━━━━━━\u001b[0m\u001b[37m\u001b[0m \u001b[1m11s\u001b[0m 91ms/step - accuracy: 0.7116 - loss: 0.7025 - val_accuracy: 0.7824 - val_loss: 0.6002\n",
      "Epoch 5/15\n",
      "\u001b[1m68/68\u001b[0m \u001b[32m━━━━━━━━━━━━━━━━━━━━\u001b[0m\u001b[37m\u001b[0m \u001b[1m10s\u001b[0m 87ms/step - accuracy: 0.7108 - loss: 0.6628 - val_accuracy: 0.7838 - val_loss: 0.5668\n",
      "Epoch 6/15\n",
      "\u001b[1m68/68\u001b[0m \u001b[32m━━━━━━━━━━━━━━━━━━━━\u001b[0m\u001b[37m\u001b[0m \u001b[1m6s\u001b[0m 87ms/step - accuracy: 0.7278 - loss: 0.6421 - val_accuracy: 0.7824 - val_loss: 0.5454\n",
      "Epoch 7/15\n",
      "\u001b[1m68/68\u001b[0m \u001b[32m━━━━━━━━━━━━━━━━━━━━\u001b[0m\u001b[37m\u001b[0m \u001b[1m7s\u001b[0m 104ms/step - accuracy: 0.7172 - loss: 0.6323 - val_accuracy: 0.7894 - val_loss: 0.5431\n",
      "Epoch 8/15\n",
      "\u001b[1m68/68\u001b[0m \u001b[32m━━━━━━━━━━━━━━━━━━━━\u001b[0m\u001b[37m\u001b[0m \u001b[1m7s\u001b[0m 101ms/step - accuracy: 0.6955 - loss: 0.6465 - val_accuracy: 0.7922 - val_loss: 0.5516\n",
      "Epoch 9/15\n",
      "\u001b[1m68/68\u001b[0m \u001b[32m━━━━━━━━━━━━━━━━━━━━\u001b[0m\u001b[37m\u001b[0m \u001b[1m10s\u001b[0m 102ms/step - accuracy: 0.7032 - loss: 0.6309 - val_accuracy: 0.7866 - val_loss: 0.5373\n",
      "Epoch 10/15\n",
      "\u001b[1m68/68\u001b[0m \u001b[32m━━━━━━━━━━━━━━━━━━━━\u001b[0m\u001b[37m\u001b[0m \u001b[1m7s\u001b[0m 101ms/step - accuracy: 0.7094 - loss: 0.6207 - val_accuracy: 0.7908 - val_loss: 0.5409\n",
      "Epoch 11/15\n",
      "\u001b[1m68/68\u001b[0m \u001b[32m━━━━━━━━━━━━━━━━━━━━\u001b[0m\u001b[37m\u001b[0m \u001b[1m9s\u001b[0m 84ms/step - accuracy: 0.7041 - loss: 0.6174 - val_accuracy: 0.7824 - val_loss: 0.5308\n",
      "Epoch 12/15\n",
      "\u001b[1m68/68\u001b[0m \u001b[32m━━━━━━━━━━━━━━━━━━━━\u001b[0m\u001b[37m\u001b[0m \u001b[1m6s\u001b[0m 83ms/step - accuracy: 0.7120 - loss: 0.6310 - val_accuracy: 0.7880 - val_loss: 0.5402\n",
      "Epoch 13/15\n",
      "\u001b[1m68/68\u001b[0m \u001b[32m━━━━━━━━━━━━━━━━━━━━\u001b[0m\u001b[37m\u001b[0m \u001b[1m10s\u001b[0m 85ms/step - accuracy: 0.7171 - loss: 0.6208 - val_accuracy: 0.7824 - val_loss: 0.5377\n",
      "Epoch 14/15\n",
      "\u001b[1m68/68\u001b[0m \u001b[32m━━━━━━━━━━━━━━━━━━━━\u001b[0m\u001b[37m\u001b[0m \u001b[1m7s\u001b[0m 100ms/step - accuracy: 0.7185 - loss: 0.6260 - val_accuracy: 0.7894 - val_loss: 0.5410\n",
      "Epoch 15/15\n",
      "\u001b[1m68/68\u001b[0m \u001b[32m━━━━━━━━━━━━━━━━━━━━\u001b[0m\u001b[37m\u001b[0m \u001b[1m10s\u001b[0m 103ms/step - accuracy: 0.7004 - loss: 0.6362 - val_accuracy: 0.7866 - val_loss: 0.5384\n"
     ]
    }
   ],
   "source": [
    "model.compile(optimizer=keras.optimizers.Adam(),\n",
    "              loss='binary_crossentropy',\n",
    "              metrics=['accuracy'])\n",
    "# history = model.fit(X_train, Y_train, epochs=15, validation_data=(X_val, Y_val), sample_weight=sample_weights, callbacks=callback)\n",
    "history = model.fit(train_dataset, epochs=15, validation_data=val_dataset, callbacks=callback)"
   ]
  },
  {
   "cell_type": "code",
   "execution_count": 36,
   "id": "2bf49434-e50b-4b8d-88b8-7c2e85ecc208",
   "metadata": {
    "scrolled": true
   },
   "outputs": [
    {
     "data": {
      "image/png": "[encoded data removed]",
      "text/plain": [
       "<Figure size 640x480 with 2 Axes>"
      ]
     },
     "metadata": {},
     "output_type": "display_data"
    }
   ],
   "source": [
    "plot_history(history)"
   ]
  },
  {
   "cell_type": "code",
   "execution_count": 37,
   "id": "30a968ad-193b-4425-9b3a-6d7c10eb239c",
   "metadata": {
    "scrolled": true
   },
   "outputs": [
    {
     "name": "stdout",
     "output_type": "stream",
     "text": [
      "\u001b[1m23/23\u001b[0m \u001b[32m━━━━━━━━━━━━━━━━━━━━\u001b[0m\u001b[37m\u001b[0m \u001b[1m4s\u001b[0m 180ms/step - accuracy: 0.7972 - loss: 0.5172\n",
      "test loss, test acc: [0.521201491355896, 0.7841225862503052]\n"
     ]
    }
   ],
   "source": [
    "results = model.evaluate(test_dataset)\n",
    "print(\"test loss, test acc:\", results)"
   ]
  },
  {
   "cell_type": "code",
   "execution_count": 48,
   "id": "a8dc07d7-4e36-4fd7-9a08-e6630a9ec294",
   "metadata": {
    "collapsed": true,
    "jupyter": {
     "outputs_hidden": true,
     "source_hidden": true
    },
    "scrolled": true
   },
   "outputs": [
    {
     "name": "stdout",
     "output_type": "stream",
     "text": [
      "\u001b[1m1/1\u001b[0m \u001b[32m━━━━━━━━━━━━━━━━━━━━\u001b[0m\u001b[37m\u001b[0m \u001b[1m0s\u001b[0m 69ms/step\n",
      "[[0.91519064]\n",
      " [0.8931056 ]\n",
      " [0.3479077 ]\n",
      " [0.6179851 ]\n",
      " [0.80939585]\n",
      " [0.8488695 ]\n",
      " [0.863111  ]\n",
      " [0.60033065]\n",
      " [0.51353204]\n",
      " [0.5494805 ]\n",
      " [0.91017276]\n",
      " [0.2982004 ]\n",
      " [0.7536171 ]\n",
      " [0.70242774]\n",
      " [0.8062818 ]\n",
      " [0.694845  ]\n",
      " [0.4704508 ]\n",
      " [0.7197991 ]\n",
      " [0.65399855]\n",
      " [0.7761295 ]\n",
      " [0.6312458 ]\n",
      " [0.6969131 ]]\n",
      "[[1.]\n",
      " [1.]\n",
      " [0.]\n",
      " [1.]\n",
      " [1.]\n",
      " [1.]\n",
      " [1.]\n",
      " [1.]\n",
      " [1.]\n",
      " [1.]\n",
      " [1.]\n",
      " [0.]\n",
      " [1.]\n",
      " [1.]\n",
      " [1.]\n",
      " [1.]\n",
      " [0.]\n",
      " [1.]\n",
      " [1.]\n",
      " [1.]\n",
      " [1.]\n",
      " [1.]]\n",
      "\u001b[1m1/1\u001b[0m \u001b[32m━━━━━━━━━━━━━━━━━━━━\u001b[0m\u001b[37m\u001b[0m \u001b[1m0s\u001b[0m 37ms/step\n",
      "[[0.9130355 ]\n",
      " [0.5687252 ]\n",
      " [0.74322563]\n",
      " [0.5416903 ]\n",
      " [0.7064393 ]\n",
      " [0.89934045]\n",
      " [0.7037566 ]\n",
      " [0.3991235 ]\n",
      " [0.330029  ]\n",
      " [0.28199366]\n",
      " [0.744142  ]\n",
      " [0.8930074 ]\n",
      " [0.7939484 ]\n",
      " [0.85831994]\n",
      " [0.8774168 ]\n",
      " [0.42745635]\n",
      " [0.71726155]\n",
      " [0.84813327]\n",
      " [0.47321627]\n",
      " [0.8200884 ]\n",
      " [0.8626668 ]\n",
      " [0.8900712 ]]\n",
      "[[1.]\n",
      " [1.]\n",
      " [1.]\n",
      " [1.]\n",
      " [1.]\n",
      " [1.]\n",
      " [1.]\n",
      " [0.]\n",
      " [0.]\n",
      " [0.]\n",
      " [1.]\n",
      " [1.]\n",
      " [1.]\n",
      " [1.]\n",
      " [1.]\n",
      " [0.]\n",
      " [1.]\n",
      " [1.]\n",
      " [0.]\n",
      " [1.]\n",
      " [1.]\n",
      " [1.]]\n",
      "\u001b[1m1/1\u001b[0m \u001b[32m━━━━━━━━━━━━━━━━━━━━\u001b[0m\u001b[37m\u001b[0m \u001b[1m0s\u001b[0m 41ms/step\n",
      "[[0.49648637]\n",
      " [0.81113976]\n",
      " [0.8680974 ]\n",
      " [0.86780983]\n",
      " [0.26061043]\n",
      " [0.9318528 ]\n",
      " [0.89442796]\n",
      " [0.7942833 ]\n",
      " [0.9282901 ]\n",
      " [0.86426145]\n",
      " [0.8146631 ]\n",
      " [0.83483905]\n",
      " [0.7751249 ]\n",
      " [0.8296246 ]\n",
      " [0.88115287]\n",
      " [0.82880145]\n",
      " [0.12588961]\n",
      " [0.94289875]\n",
      " [0.51482993]\n",
      " [0.87255657]\n",
      " [0.78806275]\n",
      " [0.8634716 ]]\n",
      "[[0.]\n",
      " [1.]\n",
      " [1.]\n",
      " [1.]\n",
      " [0.]\n",
      " [1.]\n",
      " [1.]\n",
      " [1.]\n",
      " [1.]\n",
      " [1.]\n",
      " [1.]\n",
      " [1.]\n",
      " [1.]\n",
      " [1.]\n",
      " [1.]\n",
      " [1.]\n",
      " [0.]\n",
      " [1.]\n",
      " [1.]\n",
      " [1.]\n",
      " [1.]\n",
      " [1.]]\n",
      "\u001b[1m1/1\u001b[0m \u001b[32m━━━━━━━━━━━━━━━━━━━━\u001b[0m\u001b[37m\u001b[0m \u001b[1m0s\u001b[0m 40ms/step\n",
      "[[0.45513493]\n",
      " [0.82570875]\n",
      " [0.56399137]\n",
      " [0.4101634 ]\n",
      " [0.72805697]\n",
      " [0.769642  ]\n",
      " [0.58826977]\n",
      " [0.9407613 ]\n",
      " [0.7188062 ]\n",
      " [0.8074231 ]\n",
      " [0.79753965]\n",
      " [0.7124613 ]\n",
      " [0.7916404 ]\n",
      " [0.7495275 ]\n",
      " [0.4642231 ]\n",
      " [0.29896986]\n",
      " [0.2534618 ]\n",
      " [0.27907   ]\n",
      " [0.7249589 ]\n",
      " [0.23073101]\n",
      " [0.7236325 ]\n",
      " [0.41661152]]\n",
      "[[0.]\n",
      " [1.]\n",
      " [1.]\n",
      " [0.]\n",
      " [1.]\n",
      " [1.]\n",
      " [1.]\n",
      " [1.]\n",
      " [1.]\n",
      " [1.]\n",
      " [1.]\n",
      " [1.]\n",
      " [1.]\n",
      " [1.]\n",
      " [0.]\n",
      " [0.]\n",
      " [0.]\n",
      " [0.]\n",
      " [1.]\n",
      " [0.]\n",
      " [1.]\n",
      " [0.]]\n",
      "\u001b[1m1/1\u001b[0m \u001b[32m━━━━━━━━━━━━━━━━━━━━\u001b[0m\u001b[37m\u001b[0m \u001b[1m0s\u001b[0m 43ms/step\n",
      "[[0.8764526 ]\n",
      " [0.7936541 ]\n",
      " [0.5214069 ]\n",
      " [0.65111   ]\n",
      " [0.7781346 ]\n",
      " [0.91320986]\n",
      " [0.6788162 ]\n",
      " [0.8932814 ]\n",
      " [0.7459939 ]\n",
      " [0.8896046 ]\n",
      " [0.8763768 ]\n",
      " [0.3851342 ]\n",
      " [0.90115404]\n",
      " [0.8579947 ]\n",
      " [0.7949886 ]\n",
      " [0.78933966]\n",
      " [0.507122  ]\n",
      " [0.87918377]\n",
      " [0.6328125 ]\n",
      " [0.64835024]\n",
      " [0.9133548 ]\n",
      " [0.7226027 ]]\n",
      "[[1.]\n",
      " [1.]\n",
      " [1.]\n",
      " [1.]\n",
      " [1.]\n",
      " [1.]\n",
      " [1.]\n",
      " [1.]\n",
      " [1.]\n",
      " [1.]\n",
      " [1.]\n",
      " [0.]\n",
      " [1.]\n",
      " [1.]\n",
      " [1.]\n",
      " [1.]\n",
      " [1.]\n",
      " [1.]\n",
      " [1.]\n",
      " [1.]\n",
      " [1.]\n",
      " [1.]]\n",
      "\u001b[1m1/1\u001b[0m \u001b[32m━━━━━━━━━━━━━━━━━━━━\u001b[0m\u001b[37m\u001b[0m \u001b[1m0s\u001b[0m 39ms/step\n",
      "[[0.82395303]\n",
      " [0.9042616 ]\n",
      " [0.9144456 ]\n",
      " [0.77589583]\n",
      " [0.261462  ]\n",
      " [0.835039  ]\n",
      " [0.84836715]\n",
      " [0.843071  ]\n",
      " [0.34526062]\n",
      " [0.76993257]\n",
      " [0.72200316]\n",
      " [0.9107299 ]\n",
      " [0.8149668 ]\n",
      " [0.62492776]\n",
      " [0.93118614]\n",
      " [0.6903515 ]\n",
      " [0.8182547 ]\n",
      " [0.901033  ]\n",
      " [0.56347954]\n",
      " [0.7256604 ]\n",
      " [0.8929577 ]\n",
      " [0.80897623]]\n",
      "[[1.]\n",
      " [1.]\n",
      " [1.]\n",
      " [1.]\n",
      " [0.]\n",
      " [1.]\n",
      " [1.]\n",
      " [1.]\n",
      " [0.]\n",
      " [1.]\n",
      " [1.]\n",
      " [1.]\n",
      " [1.]\n",
      " [1.]\n",
      " [1.]\n",
      " [1.]\n",
      " [1.]\n",
      " [1.]\n",
      " [1.]\n",
      " [1.]\n",
      " [1.]\n",
      " [1.]]\n",
      "\u001b[1m1/1\u001b[0m \u001b[32m━━━━━━━━━━━━━━━━━━━━\u001b[0m\u001b[37m\u001b[0m \u001b[1m0s\u001b[0m 40ms/step\n",
      "[[0.23528361]\n",
      " [0.71400774]\n",
      " [0.53036696]\n",
      " [0.7862408 ]\n",
      " [0.57567805]\n",
      " [0.8941572 ]\n",
      " [0.7762834 ]\n",
      " [0.62179327]\n",
      " [0.7398073 ]\n",
      " [0.42665425]\n",
      " [0.84549713]\n",
      " [0.8624683 ]\n",
      " [0.89151603]\n",
      " [0.78802145]\n",
      " [0.9576162 ]\n",
      " [0.57721925]\n",
      " [0.85543555]\n",
      " [0.6179956 ]\n",
      " [0.8816121 ]\n",
      " [0.7234138 ]\n",
      " [0.8625041 ]\n",
      " [0.50864875]]\n",
      "[[0.]\n",
      " [1.]\n",
      " [1.]\n",
      " [1.]\n",
      " [1.]\n",
      " [1.]\n",
      " [1.]\n",
      " [1.]\n",
      " [1.]\n",
      " [0.]\n",
      " [1.]\n",
      " [1.]\n",
      " [1.]\n",
      " [1.]\n",
      " [1.]\n",
      " [1.]\n",
      " [1.]\n",
      " [1.]\n",
      " [1.]\n",
      " [1.]\n",
      " [1.]\n",
      " [1.]]\n",
      "\u001b[1m1/1\u001b[0m \u001b[32m━━━━━━━━━━━━━━━━━━━━\u001b[0m\u001b[37m\u001b[0m \u001b[1m0s\u001b[0m 39ms/step\n",
      "[[0.8724563 ]\n",
      " [0.59274536]\n",
      " [0.8387399 ]\n",
      " [0.87674814]\n",
      " [0.8625371 ]\n",
      " [0.76941264]\n",
      " [0.68439573]\n",
      " [0.94252485]\n",
      " [0.8523322 ]\n",
      " [0.8347448 ]\n",
      " [0.8653476 ]\n",
      " [0.41156077]\n",
      " [0.9185727 ]\n",
      " [0.94710827]\n",
      " [0.8924168 ]\n",
      " [0.53571194]\n",
      " [0.6652037 ]\n",
      " [0.8848887 ]\n",
      " [0.711492  ]\n",
      " [0.41780064]\n",
      " [0.91455525]\n",
      " [0.92159605]]\n",
      "[[1.]\n",
      " [1.]\n",
      " [1.]\n",
      " [1.]\n",
      " [1.]\n",
      " [1.]\n",
      " [1.]\n",
      " [1.]\n",
      " [1.]\n",
      " [1.]\n",
      " [1.]\n",
      " [0.]\n",
      " [1.]\n",
      " [1.]\n",
      " [1.]\n",
      " [1.]\n",
      " [1.]\n",
      " [1.]\n",
      " [1.]\n",
      " [0.]\n",
      " [1.]\n",
      " [1.]]\n",
      "\u001b[1m1/1\u001b[0m \u001b[32m━━━━━━━━━━━━━━━━━━━━\u001b[0m\u001b[37m\u001b[0m \u001b[1m0s\u001b[0m 40ms/step\n",
      "[[0.801337  ]\n",
      " [0.9383726 ]\n",
      " [0.73105997]\n",
      " [0.8246869 ]\n",
      " [0.9540955 ]\n",
      " [0.8491881 ]\n",
      " [0.54745144]\n",
      " [0.5509524 ]\n",
      " [0.85009396]\n",
      " [0.66217583]\n",
      " [0.94215405]\n",
      " [0.77662873]\n",
      " [0.8780611 ]\n",
      " [0.9539869 ]\n",
      " [0.85940886]\n",
      " [0.28746754]\n",
      " [0.72527736]\n",
      " [0.52273536]\n",
      " [0.27738225]\n",
      " [0.72663486]\n",
      " [0.8379652 ]\n",
      " [0.9158289 ]]\n",
      "[[1.]\n",
      " [1.]\n",
      " [1.]\n",
      " [1.]\n",
      " [1.]\n",
      " [1.]\n",
      " [1.]\n",
      " [1.]\n",
      " [1.]\n",
      " [1.]\n",
      " [1.]\n",
      " [1.]\n",
      " [1.]\n",
      " [1.]\n",
      " [1.]\n",
      " [0.]\n",
      " [1.]\n",
      " [1.]\n",
      " [0.]\n",
      " [1.]\n",
      " [1.]\n",
      " [1.]]\n",
      "\u001b[1m1/1\u001b[0m \u001b[32m━━━━━━━━━━━━━━━━━━━━\u001b[0m\u001b[37m\u001b[0m \u001b[1m0s\u001b[0m 42ms/step\n",
      "[[0.6452283 ]\n",
      " [0.78020674]\n",
      " [0.8536092 ]\n",
      " [0.84336936]\n",
      " [0.8224087 ]\n",
      " [0.90780574]\n",
      " [0.45549908]\n",
      " [0.61837834]\n",
      " [0.8463763 ]\n",
      " [0.5289746 ]\n",
      " [0.6511013 ]\n",
      " [0.76895225]\n",
      " [0.8174646 ]\n",
      " [0.67267287]\n",
      " [0.85848826]\n",
      " [0.5842946 ]\n",
      " [0.36092615]\n",
      " [0.93308085]\n",
      " [0.47431982]\n",
      " [0.77922237]\n",
      " [0.88062906]\n",
      " [0.2671669 ]]\n",
      "[[1.]\n",
      " [1.]\n",
      " [1.]\n",
      " [1.]\n",
      " [1.]\n",
      " [1.]\n",
      " [0.]\n",
      " [1.]\n",
      " [1.]\n",
      " [1.]\n",
      " [1.]\n",
      " [1.]\n",
      " [1.]\n",
      " [1.]\n",
      " [1.]\n",
      " [1.]\n",
      " [0.]\n",
      " [1.]\n",
      " [0.]\n",
      " [1.]\n",
      " [1.]\n",
      " [0.]]\n",
      "\u001b[1m1/1\u001b[0m \u001b[32m━━━━━━━━━━━━━━━━━━━━\u001b[0m\u001b[37m\u001b[0m \u001b[1m0s\u001b[0m 45ms/step\n",
      "[[0.5459614 ]\n",
      " [0.7731625 ]\n",
      " [0.91382915]\n",
      " [0.73174787]\n",
      " [0.8560371 ]\n",
      " [0.33984855]\n",
      " [0.4370149 ]\n",
      " [0.91067004]\n",
      " [0.1575984 ]\n",
      " [0.8688256 ]\n",
      " [0.8415484 ]\n",
      " [0.77357846]\n",
      " [0.7864838 ]\n",
      " [0.29221353]\n",
      " [0.85225725]\n",
      " [0.66370136]\n",
      " [0.8333617 ]\n",
      " [0.873217  ]\n",
      " [0.86265904]\n",
      " [0.68293715]\n",
      " [0.7550169 ]\n",
      " [0.35227507]]\n",
      "[[1.]\n",
      " [1.]\n",
      " [1.]\n",
      " [1.]\n",
      " [1.]\n",
      " [0.]\n",
      " [0.]\n",
      " [1.]\n",
      " [0.]\n",
      " [1.]\n",
      " [1.]\n",
      " [1.]\n",
      " [1.]\n",
      " [0.]\n",
      " [1.]\n",
      " [1.]\n",
      " [1.]\n",
      " [1.]\n",
      " [1.]\n",
      " [1.]\n",
      " [1.]\n",
      " [0.]]\n",
      "\u001b[1m1/1\u001b[0m \u001b[32m━━━━━━━━━━━━━━━━━━━━\u001b[0m\u001b[37m\u001b[0m \u001b[1m0s\u001b[0m 38ms/step\n",
      "[[0.5304379 ]\n",
      " [0.91363287]\n",
      " [0.6826639 ]\n",
      " [0.94296783]\n",
      " [0.7673521 ]\n",
      " [0.7896628 ]\n",
      " [0.72317344]\n",
      " [0.7667634 ]\n",
      " [0.83343315]\n",
      " [0.5848546 ]\n",
      " [0.58156246]\n",
      " [0.8403367 ]\n",
      " [0.56976724]\n",
      " [0.8440623 ]\n",
      " [0.5966915 ]\n",
      " [0.90206355]\n",
      " [0.7034211 ]\n",
      " [0.85745925]\n",
      " [0.20304292]\n",
      " [0.68899345]\n",
      " [0.6150884 ]\n",
      " [0.80635023]]\n",
      "[[1.]\n",
      " [1.]\n",
      " [1.]\n",
      " [1.]\n",
      " [1.]\n",
      " [1.]\n",
      " [1.]\n",
      " [1.]\n",
      " [1.]\n",
      " [1.]\n",
      " [1.]\n",
      " [1.]\n",
      " [1.]\n",
      " [1.]\n",
      " [1.]\n",
      " [1.]\n",
      " [1.]\n",
      " [1.]\n",
      " [0.]\n",
      " [1.]\n",
      " [1.]\n",
      " [1.]]\n",
      "\u001b[1m1/1\u001b[0m \u001b[32m━━━━━━━━━━━━━━━━━━━━\u001b[0m\u001b[37m\u001b[0m \u001b[1m0s\u001b[0m 36ms/step\n",
      "[[0.9026224 ]\n",
      " [0.59146804]\n",
      " [0.9045594 ]\n",
      " [0.54164416]\n",
      " [0.88864803]\n",
      " [0.92609954]\n",
      " [0.16874902]\n",
      " [0.76915336]\n",
      " [0.27820608]\n",
      " [0.91607803]\n",
      " [0.78040606]\n",
      " [0.9150062 ]\n",
      " [0.8594338 ]\n",
      " [0.85748535]\n",
      " [0.23246965]\n",
      " [0.79703844]\n",
      " [0.8903296 ]\n",
      " [0.7090897 ]\n",
      " [0.8820554 ]\n",
      " [0.75070405]\n",
      " [0.5374459 ]\n",
      " [0.8737389 ]]\n",
      "[[1.]\n",
      " [1.]\n",
      " [1.]\n",
      " [1.]\n",
      " [1.]\n",
      " [1.]\n",
      " [0.]\n",
      " [1.]\n",
      " [0.]\n",
      " [1.]\n",
      " [1.]\n",
      " [1.]\n",
      " [1.]\n",
      " [1.]\n",
      " [0.]\n",
      " [1.]\n",
      " [1.]\n",
      " [1.]\n",
      " [1.]\n",
      " [1.]\n",
      " [1.]\n",
      " [1.]]\n",
      "\u001b[1m1/1\u001b[0m \u001b[32m━━━━━━━━━━━━━━━━━━━━\u001b[0m\u001b[37m\u001b[0m \u001b[1m0s\u001b[0m 44ms/step\n",
      "[[0.6180726 ]\n",
      " [0.76076716]\n",
      " [0.8106771 ]\n",
      " [0.80387366]\n",
      " [0.650195  ]\n",
      " [0.8065068 ]\n",
      " [0.5698546 ]\n",
      " [0.8260965 ]\n",
      " [0.95034176]\n",
      " [0.77911717]\n",
      " [0.6799055 ]\n",
      " [0.20088829]\n",
      " [0.95096016]\n",
      " [0.49678215]\n",
      " [0.9294973 ]\n",
      " [0.768755  ]\n",
      " [0.4108479 ]\n",
      " [0.8983088 ]\n",
      " [0.8335497 ]\n",
      " [0.8441365 ]\n",
      " [0.7981956 ]\n",
      " [0.4581358 ]]\n",
      "[[1.]\n",
      " [1.]\n",
      " [1.]\n",
      " [1.]\n",
      " [1.]\n",
      " [1.]\n",
      " [1.]\n",
      " [1.]\n",
      " [1.]\n",
      " [1.]\n",
      " [1.]\n",
      " [0.]\n",
      " [1.]\n",
      " [0.]\n",
      " [1.]\n",
      " [1.]\n",
      " [0.]\n",
      " [1.]\n",
      " [1.]\n",
      " [1.]\n",
      " [1.]\n",
      " [0.]]\n",
      "\u001b[1m1/1\u001b[0m \u001b[32m━━━━━━━━━━━━━━━━━━━━\u001b[0m\u001b[37m\u001b[0m \u001b[1m0s\u001b[0m 40ms/step\n",
      "[[0.9131966 ]\n",
      " [0.8705132 ]\n",
      " [0.7637716 ]\n",
      " [0.6511013 ]\n",
      " [0.26044136]\n",
      " [0.5280417 ]\n",
      " [0.8528649 ]\n",
      " [0.7068855 ]\n",
      " [0.7507517 ]\n",
      " [0.7819436 ]\n",
      " [0.49443015]\n",
      " [0.9078068 ]\n",
      " [0.51745325]\n",
      " [0.9839199 ]\n",
      " [0.7860469 ]\n",
      " [0.7556167 ]\n",
      " [0.54671377]\n",
      " [0.9458283 ]\n",
      " [0.79309   ]\n",
      " [0.74877036]\n",
      " [0.8306355 ]\n",
      " [0.8012317 ]]\n",
      "[[1.]\n",
      " [1.]\n",
      " [1.]\n",
      " [1.]\n",
      " [0.]\n",
      " [1.]\n",
      " [1.]\n",
      " [1.]\n",
      " [1.]\n",
      " [1.]\n",
      " [0.]\n",
      " [1.]\n",
      " [1.]\n",
      " [1.]\n",
      " [1.]\n",
      " [1.]\n",
      " [1.]\n",
      " [1.]\n",
      " [1.]\n",
      " [1.]\n",
      " [1.]\n",
      " [1.]]\n",
      "\u001b[1m1/1\u001b[0m \u001b[32m━━━━━━━━━━━━━━━━━━━━\u001b[0m\u001b[37m\u001b[0m \u001b[1m0s\u001b[0m 37ms/step\n",
      "[[0.9227596 ]\n",
      " [0.77485347]\n",
      " [0.71313703]\n",
      " [0.42125958]\n",
      " [0.87139267]\n",
      " [0.8374519 ]\n",
      " [0.8099225 ]\n",
      " [0.8568906 ]\n",
      " [0.9305568 ]\n",
      " [0.6846462 ]\n",
      " [0.41159374]\n",
      " [0.7834864 ]\n",
      " [0.72273535]\n",
      " [0.88762563]\n",
      " [0.93996817]\n",
      " [0.787428  ]\n",
      " [0.92393833]\n",
      " [0.5936733 ]\n",
      " [0.68876153]\n",
      " [0.25637963]\n",
      " [0.8514195 ]\n",
      " [0.7627193 ]]\n",
      "[[1.]\n",
      " [1.]\n",
      " [1.]\n",
      " [0.]\n",
      " [1.]\n",
      " [1.]\n",
      " [1.]\n",
      " [1.]\n",
      " [1.]\n",
      " [1.]\n",
      " [0.]\n",
      " [1.]\n",
      " [1.]\n",
      " [1.]\n",
      " [1.]\n",
      " [1.]\n",
      " [1.]\n",
      " [1.]\n",
      " [1.]\n",
      " [0.]\n",
      " [1.]\n",
      " [1.]]\n",
      "\u001b[1m1/1\u001b[0m \u001b[32m━━━━━━━━━━━━━━━━━━━━\u001b[0m\u001b[37m\u001b[0m \u001b[1m0s\u001b[0m 38ms/step\n",
      "[[0.6905765 ]\n",
      " [0.8072556 ]\n",
      " [0.69526196]\n",
      " [0.81109977]\n",
      " [0.9131568 ]\n",
      " [0.23388246]\n",
      " [0.8909288 ]\n",
      " [0.8964663 ]\n",
      " [0.4841186 ]\n",
      " [0.89315724]\n",
      " [0.3415126 ]\n",
      " [0.420276  ]\n",
      " [0.9206644 ]\n",
      " [0.75364745]\n",
      " [0.36145568]\n",
      " [0.3650893 ]\n",
      " [0.27548948]\n",
      " [0.7190462 ]\n",
      " [0.87207437]\n",
      " [0.6486668 ]\n",
      " [0.5698296 ]\n",
      " [0.5854268 ]]\n",
      "[[1.]\n",
      " [1.]\n",
      " [1.]\n",
      " [1.]\n",
      " [1.]\n",
      " [0.]\n",
      " [1.]\n",
      " [1.]\n",
      " [0.]\n",
      " [1.]\n",
      " [0.]\n",
      " [0.]\n",
      " [1.]\n",
      " [1.]\n",
      " [0.]\n",
      " [0.]\n",
      " [0.]\n",
      " [1.]\n",
      " [1.]\n",
      " [1.]\n",
      " [1.]\n",
      " [1.]]\n",
      "\u001b[1m1/1\u001b[0m \u001b[32m━━━━━━━━━━━━━━━━━━━━\u001b[0m\u001b[37m\u001b[0m \u001b[1m0s\u001b[0m 37ms/step\n",
      "[[0.62114614]\n",
      " [0.9063626 ]\n",
      " [0.5716014 ]\n",
      " [0.8664601 ]\n",
      " [0.8559346 ]\n",
      " [0.68532765]\n",
      " [0.8125214 ]\n",
      " [0.7392551 ]\n",
      " [0.88328135]\n",
      " [0.9428602 ]\n",
      " [0.262069  ]\n",
      " [0.81359756]\n",
      " [0.6564699 ]\n",
      " [0.41053537]\n",
      " [0.4982399 ]\n",
      " [0.91163397]\n",
      " [0.82764226]\n",
      " [0.89057714]\n",
      " [0.94112897]\n",
      " [0.85769415]\n",
      " [0.6770853 ]\n",
      " [0.8359777 ]]\n",
      "[[1.]\n",
      " [1.]\n",
      " [1.]\n",
      " [1.]\n",
      " [1.]\n",
      " [1.]\n",
      " [1.]\n",
      " [1.]\n",
      " [1.]\n",
      " [1.]\n",
      " [0.]\n",
      " [1.]\n",
      " [1.]\n",
      " [0.]\n",
      " [0.]\n",
      " [1.]\n",
      " [1.]\n",
      " [1.]\n",
      " [1.]\n",
      " [1.]\n",
      " [1.]\n",
      " [1.]]\n",
      "\u001b[1m1/1\u001b[0m \u001b[32m━━━━━━━━━━━━━━━━━━━━\u001b[0m\u001b[37m\u001b[0m \u001b[1m0s\u001b[0m 39ms/step\n",
      "[[0.4279972 ]\n",
      " [0.37036002]\n",
      " [0.7794084 ]\n",
      " [0.49125135]\n",
      " [0.49823776]\n",
      " [0.24805953]\n",
      " [0.81961805]\n",
      " [0.6076777 ]\n",
      " [0.85063356]\n",
      " [0.514774  ]\n",
      " [0.733912  ]\n",
      " [0.60243124]\n",
      " [0.73553574]\n",
      " [0.81820387]\n",
      " [0.54979354]\n",
      " [0.54026914]\n",
      " [0.30748218]\n",
      " [0.80013466]\n",
      " [0.9210629 ]\n",
      " [0.90347713]\n",
      " [0.756738  ]\n",
      " [0.7599363 ]]\n",
      "[[0.]\n",
      " [0.]\n",
      " [1.]\n",
      " [0.]\n",
      " [0.]\n",
      " [0.]\n",
      " [1.]\n",
      " [1.]\n",
      " [1.]\n",
      " [1.]\n",
      " [1.]\n",
      " [1.]\n",
      " [1.]\n",
      " [1.]\n",
      " [1.]\n",
      " [1.]\n",
      " [0.]\n",
      " [1.]\n",
      " [1.]\n",
      " [1.]\n",
      " [1.]\n",
      " [1.]]\n",
      "\u001b[1m1/1\u001b[0m \u001b[32m━━━━━━━━━━━━━━━━━━━━\u001b[0m\u001b[37m\u001b[0m \u001b[1m0s\u001b[0m 44ms/step\n",
      "[[0.7354288 ]\n",
      " [0.87733996]\n",
      " [0.8197425 ]\n",
      " [0.64751005]\n",
      " [0.49804065]\n",
      " [0.7739442 ]\n",
      " [0.8204257 ]\n",
      " [0.38735285]\n",
      " [0.8372216 ]\n",
      " [0.70980155]\n",
      " [0.60527885]\n",
      " [0.80881363]\n",
      " [0.9068239 ]\n",
      " [0.5094891 ]\n",
      " [0.6858969 ]\n",
      " [0.46421355]\n",
      " [0.48562473]\n",
      " [0.7078096 ]\n",
      " [0.7591563 ]\n",
      " [0.92258674]\n",
      " [0.7978874 ]\n",
      " [0.509181  ]]\n",
      "[[1.]\n",
      " [1.]\n",
      " [1.]\n",
      " [1.]\n",
      " [0.]\n",
      " [1.]\n",
      " [1.]\n",
      " [0.]\n",
      " [1.]\n",
      " [1.]\n",
      " [1.]\n",
      " [1.]\n",
      " [1.]\n",
      " [1.]\n",
      " [1.]\n",
      " [0.]\n",
      " [0.]\n",
      " [1.]\n",
      " [1.]\n",
      " [1.]\n",
      " [1.]\n",
      " [1.]]\n",
      "\u001b[1m1/1\u001b[0m \u001b[32m━━━━━━━━━━━━━━━━━━━━\u001b[0m\u001b[37m\u001b[0m \u001b[1m0s\u001b[0m 42ms/step\n",
      "[[0.6584427 ]\n",
      " [0.85927993]\n",
      " [0.7238644 ]\n",
      " [0.8596431 ]\n",
      " [0.40276313]\n",
      " [0.80721897]\n",
      " [0.9329279 ]\n",
      " [0.62103945]\n",
      " [0.5469279 ]\n",
      " [0.66908693]\n",
      " [0.82653177]\n",
      " [0.84719104]\n",
      " [0.77138925]\n",
      " [0.7366038 ]\n",
      " [0.6154575 ]\n",
      " [0.2727589 ]\n",
      " [0.93489563]\n",
      " [0.24874055]\n",
      " [0.54869   ]\n",
      " [0.6026361 ]\n",
      " [0.923104  ]\n",
      " [0.47291148]]\n",
      "[[1.]\n",
      " [1.]\n",
      " [1.]\n",
      " [1.]\n",
      " [0.]\n",
      " [1.]\n",
      " [1.]\n",
      " [1.]\n",
      " [1.]\n",
      " [1.]\n",
      " [1.]\n",
      " [1.]\n",
      " [1.]\n",
      " [1.]\n",
      " [1.]\n",
      " [0.]\n",
      " [1.]\n",
      " [0.]\n",
      " [1.]\n",
      " [1.]\n",
      " [1.]\n",
      " [0.]]\n",
      "\u001b[1m1/1\u001b[0m \u001b[32m━━━━━━━━━━━━━━━━━━━━\u001b[0m\u001b[37m\u001b[0m \u001b[1m0s\u001b[0m 41ms/step\n",
      "[[0.85120946]\n",
      " [0.6420136 ]\n",
      " [0.41331172]\n",
      " [0.9519801 ]\n",
      " [0.77678394]\n",
      " [0.45572904]\n",
      " [0.8589756 ]\n",
      " [0.7909116 ]\n",
      " [0.8756359 ]\n",
      " [0.5487243 ]\n",
      " [0.82315314]\n",
      " [0.6893573 ]\n",
      " [0.559435  ]\n",
      " [0.6931835 ]\n",
      " [0.8996372 ]\n",
      " [0.763105  ]\n",
      " [0.43238634]\n",
      " [0.28501824]\n",
      " [0.7722556 ]\n",
      " [0.91401535]\n",
      " [0.7041839 ]\n",
      " [0.88844436]]\n",
      "[[1.]\n",
      " [1.]\n",
      " [0.]\n",
      " [1.]\n",
      " [1.]\n",
      " [0.]\n",
      " [1.]\n",
      " [1.]\n",
      " [1.]\n",
      " [1.]\n",
      " [1.]\n",
      " [1.]\n",
      " [1.]\n",
      " [1.]\n",
      " [1.]\n",
      " [1.]\n",
      " [0.]\n",
      " [0.]\n",
      " [1.]\n",
      " [1.]\n",
      " [1.]\n",
      " [1.]]\n",
      "\u001b[1m1/1\u001b[0m \u001b[32m━━━━━━━━━━━━━━━━━━━━\u001b[0m\u001b[37m\u001b[0m \u001b[1m0s\u001b[0m 39ms/step\n",
      "[[0.6730813]\n",
      " [0.4213389]\n",
      " [0.865376 ]\n",
      " [0.7662478]]\n",
      "[[1.]\n",
      " [0.]\n",
      " [1.]\n",
      " [1.]]\n"
     ]
    }
   ],
   "source": [
    "true, pred = predict(test_dataset, model)"
   ]
  },
  {
   "cell_type": "code",
   "execution_count": 50,
   "id": "0f483416-2b8f-431a-836b-3ae5e8e962f3",
   "metadata": {},
   "outputs": [
    {
     "name": "stdout",
     "output_type": "stream",
     "text": [
      "              precision    recall  f1-score   support\n",
      "\n",
      "           0       0.68      0.41      0.51       198\n",
      "           1       0.81      0.93      0.86       520\n",
      "\n",
      "    accuracy                           0.78       718\n",
      "   macro avg       0.74      0.67      0.69       718\n",
      "weighted avg       0.77      0.78      0.77       718\n",
      "\n"
     ]
    }
   ],
   "source": [
    "print(classification_report(true, pred))"
   ]
  },
  {
   "cell_type": "code",
   "execution_count": 51,
   "id": "af55537a-c5fa-42c5-a374-6802db54260a",
   "metadata": {},
   "outputs": [
    {
     "data": {
      "image/png": "[encoded data removed]",
      "text/plain": [
       "<Figure size 640x480 with 2 Axes>"
      ]
     },
     "metadata": {},
     "output_type": "display_data"
    }
   ],
   "source": [
    "cm = confusion_matrix(true, pred)\n",
    "disp = ConfusionMatrixDisplay(confusion_matrix=cm)\n",
    "disp.plot()\n",
    "plt.tight_layout()"
   ]
  },
  {
   "cell_type": "markdown",
   "id": "271e10a0-f869-4a24-ab94-eb1002b8577d",
   "metadata": {},
   "source": [
    "## Top 4 layers"
   ]
  },
  {
   "cell_type": "code",
   "execution_count": 52,
   "id": "f4fd353e-a7b2-4782-a253-22afd1147959",
   "metadata": {},
   "outputs": [
    {
     "data": {
      "text/html": [
       "<pre style=\"white-space:pre;overflow-x:auto;line-height:normal;font-family:Menlo,'DejaVu Sans Mono',consolas,'Courier New',monospace\"><span style=\"font-weight: bold\">Model: \"functional_1\"</span>\n",
       "</pre>\n"
      ],
      "text/plain": [
       "\u001b[1mModel: \"functional_1\"\u001b[0m\n"
      ]
     },
     "metadata": {},
     "output_type": "display_data"
    },
    {
     "data": {
      "text/html": [
       "<pre style=\"white-space:pre;overflow-x:auto;line-height:normal;font-family:Menlo,'DejaVu Sans Mono',consolas,'Courier New',monospace\">┏━━━━━━━━━━━━━━━━━━━━━━━━━━━━━┳━━━━━━━━━━━━━━━━━━━━━━━┳━━━━━━━━━━━━┳━━━━━━━┓\n",
       "┃<span style=\"font-weight: bold\"> Layer (type)                </span>┃<span style=\"font-weight: bold\"> Output Shape          </span>┃<span style=\"font-weight: bold\">    Param # </span>┃<span style=\"font-weight: bold\"> Trai… </span>┃\n",
       "┡━━━━━━━━━━━━━━━━━━━━━━━━━━━━━╇━━━━━━━━━━━━━━━━━━━━━━━╇━━━━━━━━━━━━╇━━━━━━━┩\n",
       "│ input_layer_2 (<span style=\"color: #0087ff; text-decoration-color: #0087ff\">InputLayer</span>)  │ (<span style=\"color: #00d7ff; text-decoration-color: #00d7ff\">None</span>, <span style=\"color: #00af00; text-decoration-color: #00af00\">256</span>, <span style=\"color: #00af00; text-decoration-color: #00af00\">256</span>, <span style=\"color: #00af00; text-decoration-color: #00af00\">3</span>)   │          <span style=\"color: #00af00; text-decoration-color: #00af00\">0</span> │   <span style=\"font-weight: bold\">-</span>   │\n",
       "├─────────────────────────────┼───────────────────────┼────────────┼───────┤\n",
       "│ xception (<span style=\"color: #0087ff; text-decoration-color: #0087ff\">Functional</span>)       │ (<span style=\"color: #00d7ff; text-decoration-color: #00d7ff\">None</span>, <span style=\"color: #00af00; text-decoration-color: #00af00\">8</span>, <span style=\"color: #00af00; text-decoration-color: #00af00\">8</span>, <span style=\"color: #00af00; text-decoration-color: #00af00\">2048</span>)    │ <span style=\"color: #00af00; text-decoration-color: #00af00\">20,861,480</span> │   <span style=\"color: #ff0000; text-decoration-color: #ff0000; font-weight: bold\">N</span>   │\n",
       "├─────────────────────────────┼───────────────────────┼────────────┼───────┤\n",
       "│ global_average_pooling2d_1  │ (<span style=\"color: #00d7ff; text-decoration-color: #00d7ff\">None</span>, <span style=\"color: #00af00; text-decoration-color: #00af00\">2048</span>)          │          <span style=\"color: #00af00; text-decoration-color: #00af00\">0</span> │   <span style=\"font-weight: bold\">-</span>   │\n",
       "│ (<span style=\"color: #0087ff; text-decoration-color: #0087ff\">GlobalAveragePooling2D</span>)    │                       │            │       │\n",
       "├─────────────────────────────┼───────────────────────┼────────────┼───────┤\n",
       "│ dense_2 (<span style=\"color: #0087ff; text-decoration-color: #0087ff\">Dense</span>)             │ (<span style=\"color: #00d7ff; text-decoration-color: #00d7ff\">None</span>, <span style=\"color: #00af00; text-decoration-color: #00af00\">1024</span>)          │  <span style=\"color: #00af00; text-decoration-color: #00af00\">2,098,176</span> │   <span style=\"color: #00af00; text-decoration-color: #00af00; font-weight: bold\">Y</span>   │\n",
       "├─────────────────────────────┼───────────────────────┼────────────┼───────┤\n",
       "│ dropout_1 (<span style=\"color: #0087ff; text-decoration-color: #0087ff\">Dropout</span>)         │ (<span style=\"color: #00d7ff; text-decoration-color: #00d7ff\">None</span>, <span style=\"color: #00af00; text-decoration-color: #00af00\">1024</span>)          │          <span style=\"color: #00af00; text-decoration-color: #00af00\">0</span> │   <span style=\"font-weight: bold\">-</span>   │\n",
       "├─────────────────────────────┼───────────────────────┼────────────┼───────┤\n",
       "│ dense_3 (<span style=\"color: #0087ff; text-decoration-color: #0087ff\">Dense</span>)             │ (<span style=\"color: #00d7ff; text-decoration-color: #00d7ff\">None</span>, <span style=\"color: #00af00; text-decoration-color: #00af00\">1</span>)             │      <span style=\"color: #00af00; text-decoration-color: #00af00\">1,025</span> │   <span style=\"color: #00af00; text-decoration-color: #00af00; font-weight: bold\">Y</span>   │\n",
       "└─────────────────────────────┴───────────────────────┴────────────┴───────┘\n",
       "</pre>\n"
      ],
      "text/plain": [
       "┏━━━━━━━━━━━━━━━━━━━━━━━━━━━━━┳━━━━━━━━━━━━━━━━━━━━━━━┳━━━━━━━━━━━━┳━━━━━━━┓\n",
       "┃\u001b[1m \u001b[0m\u001b[1mLayer (type)               \u001b[0m\u001b[1m \u001b[0m┃\u001b[1m \u001b[0m\u001b[1mOutput Shape         \u001b[0m\u001b[1m \u001b[0m┃\u001b[1m \u001b[0m\u001b[1m   Param #\u001b[0m\u001b[1m \u001b[0m┃\u001b[1m \u001b[0m\u001b[1mTrai…\u001b[0m\u001b[1m \u001b[0m┃\n",
       "┡━━━━━━━━━━━━━━━━━━━━━━━━━━━━━╇━━━━━━━━━━━━━━━━━━━━━━━╇━━━━━━━━━━━━╇━━━━━━━┩\n",
       "│ input_layer_2 (\u001b[38;5;33mInputLayer\u001b[0m)  │ (\u001b[38;5;45mNone\u001b[0m, \u001b[38;5;34m256\u001b[0m, \u001b[38;5;34m256\u001b[0m, \u001b[38;5;34m3\u001b[0m)   │          \u001b[38;5;34m0\u001b[0m │   \u001b[1m-\u001b[0m   │\n",
       "├─────────────────────────────┼───────────────────────┼────────────┼───────┤\n",
       "│ xception (\u001b[38;5;33mFunctional\u001b[0m)       │ (\u001b[38;5;45mNone\u001b[0m, \u001b[38;5;34m8\u001b[0m, \u001b[38;5;34m8\u001b[0m, \u001b[38;5;34m2048\u001b[0m)    │ \u001b[38;5;34m20,861,480\u001b[0m │   \u001b[1;91mN\u001b[0m   │\n",
       "├─────────────────────────────┼───────────────────────┼────────────┼───────┤\n",
       "│ global_average_pooling2d_1  │ (\u001b[38;5;45mNone\u001b[0m, \u001b[38;5;34m2048\u001b[0m)          │          \u001b[38;5;34m0\u001b[0m │   \u001b[1m-\u001b[0m   │\n",
       "│ (\u001b[38;5;33mGlobalAveragePooling2D\u001b[0m)    │                       │            │       │\n",
       "├─────────────────────────────┼───────────────────────┼────────────┼───────┤\n",
       "│ dense_2 (\u001b[38;5;33mDense\u001b[0m)             │ (\u001b[38;5;45mNone\u001b[0m, \u001b[38;5;34m1024\u001b[0m)          │  \u001b[38;5;34m2,098,176\u001b[0m │   \u001b[1;38;5;34mY\u001b[0m   │\n",
       "├─────────────────────────────┼───────────────────────┼────────────┼───────┤\n",
       "│ dropout_1 (\u001b[38;5;33mDropout\u001b[0m)         │ (\u001b[38;5;45mNone\u001b[0m, \u001b[38;5;34m1024\u001b[0m)          │          \u001b[38;5;34m0\u001b[0m │   \u001b[1m-\u001b[0m   │\n",
       "├─────────────────────────────┼───────────────────────┼────────────┼───────┤\n",
       "│ dense_3 (\u001b[38;5;33mDense\u001b[0m)             │ (\u001b[38;5;45mNone\u001b[0m, \u001b[38;5;34m1\u001b[0m)             │      \u001b[38;5;34m1,025\u001b[0m │   \u001b[1;38;5;34mY\u001b[0m   │\n",
       "└─────────────────────────────┴───────────────────────┴────────────┴───────┘\n"
      ]
     },
     "metadata": {},
     "output_type": "display_data"
    },
    {
     "data": {
      "text/html": [
       "<pre style=\"white-space:pre;overflow-x:auto;line-height:normal;font-family:Menlo,'DejaVu Sans Mono',consolas,'Courier New',monospace\"><span style=\"font-weight: bold\"> Total params: </span><span style=\"color: #00af00; text-decoration-color: #00af00\">27,159,085</span> (103.60 MB)\n",
       "</pre>\n"
      ],
      "text/plain": [
       "\u001b[1m Total params: \u001b[0m\u001b[38;5;34m27,159,085\u001b[0m (103.60 MB)\n"
      ]
     },
     "metadata": {},
     "output_type": "display_data"
    },
    {
     "data": {
      "text/html": [
       "<pre style=\"white-space:pre;overflow-x:auto;line-height:normal;font-family:Menlo,'DejaVu Sans Mono',consolas,'Courier New',monospace\"><span style=\"font-weight: bold\"> Trainable params: </span><span style=\"color: #00af00; text-decoration-color: #00af00\">5,262,849</span> (20.08 MB)\n",
       "</pre>\n"
      ],
      "text/plain": [
       "\u001b[1m Trainable params: \u001b[0m\u001b[38;5;34m5,262,849\u001b[0m (20.08 MB)\n"
      ]
     },
     "metadata": {},
     "output_type": "display_data"
    },
    {
     "data": {
      "text/html": [
       "<pre style=\"white-space:pre;overflow-x:auto;line-height:normal;font-family:Menlo,'DejaVu Sans Mono',consolas,'Courier New',monospace\"><span style=\"font-weight: bold\"> Non-trainable params: </span><span style=\"color: #00af00; text-decoration-color: #00af00\">17,697,832</span> (67.51 MB)\n",
       "</pre>\n"
      ],
      "text/plain": [
       "\u001b[1m Non-trainable params: \u001b[0m\u001b[38;5;34m17,697,832\u001b[0m (67.51 MB)\n"
      ]
     },
     "metadata": {},
     "output_type": "display_data"
    },
    {
     "data": {
      "text/html": [
       "<pre style=\"white-space:pre;overflow-x:auto;line-height:normal;font-family:Menlo,'DejaVu Sans Mono',consolas,'Courier New',monospace\"><span style=\"font-weight: bold\"> Optimizer params: </span><span style=\"color: #00af00; text-decoration-color: #00af00\">4,198,404</span> (16.02 MB)\n",
       "</pre>\n"
      ],
      "text/plain": [
       "\u001b[1m Optimizer params: \u001b[0m\u001b[38;5;34m4,198,404\u001b[0m (16.02 MB)\n"
      ]
     },
     "metadata": {},
     "output_type": "display_data"
    }
   ],
   "source": [
    "# unfreeze top 4 base layers\n",
    "for layer in base_model.layers[-4:]:\n",
    "    layer.trainable = True\n",
    "model.summary(show_trainable=True)"
   ]
  },
  {
   "cell_type": "code",
   "execution_count": 53,
   "id": "4e0c9cbe-0e68-4752-a7fd-2227a0e2497d",
   "metadata": {},
   "outputs": [],
   "source": [
    "callback = EarlyStopping(patience=5, restore_best_weights=True, monitor=\"val_loss\", start_from_epoch=5)"
   ]
  },
  {
   "cell_type": "code",
   "execution_count": 54,
   "id": "6c01c775-c225-4505-a972-75ce3cefd4c7",
   "metadata": {
    "scrolled": true
   },
   "outputs": [
    {
     "name": "stdout",
     "output_type": "stream",
     "text": [
      "Epoch 1/20\n",
      "\u001b[1m68/68\u001b[0m \u001b[32m━━━━━━━━━━━━━━━━━━━━\u001b[0m\u001b[37m\u001b[0m \u001b[1m22s\u001b[0m 206ms/step - accuracy: 0.7506 - loss: 0.6034 - val_accuracy: 0.7741 - val_loss: 0.5551\n",
      "Epoch 2/20\n",
      "\u001b[1m68/68\u001b[0m \u001b[32m━━━━━━━━━━━━━━━━━━━━\u001b[0m\u001b[37m\u001b[0m \u001b[1m10s\u001b[0m 106ms/step - accuracy: 0.7485 - loss: 0.5842 - val_accuracy: 0.7406 - val_loss: 0.5700\n",
      "Epoch 3/20\n",
      "\u001b[1m68/68\u001b[0m \u001b[32m━━━━━━━━━━━━━━━━━━━━\u001b[0m\u001b[37m\u001b[0m \u001b[1m9s\u001b[0m 87ms/step - accuracy: 0.7360 - loss: 0.5771 - val_accuracy: 0.7378 - val_loss: 0.5738\n",
      "Epoch 4/20\n",
      "\u001b[1m68/68\u001b[0m \u001b[32m━━━━━━━━━━━━━━━━━━━━\u001b[0m\u001b[37m\u001b[0m \u001b[1m10s\u001b[0m 89ms/step - accuracy: 0.7592 - loss: 0.5702 - val_accuracy: 0.7406 - val_loss: 0.5741\n",
      "Epoch 5/20\n",
      "\u001b[1m68/68\u001b[0m \u001b[32m━━━━━━━━━━━━━━━━━━━━\u001b[0m\u001b[37m\u001b[0m \u001b[1m7s\u001b[0m 105ms/step - accuracy: 0.7540 - loss: 0.5617 - val_accuracy: 0.7476 - val_loss: 0.5713\n",
      "Epoch 6/20\n",
      "\u001b[1m68/68\u001b[0m \u001b[32m━━━━━━━━━━━━━━━━━━━━\u001b[0m\u001b[37m\u001b[0m \u001b[1m9s\u001b[0m 90ms/step - accuracy: 0.7572 - loss: 0.5516 - val_accuracy: 0.7545 - val_loss: 0.5651\n",
      "Epoch 7/20\n",
      "\u001b[1m68/68\u001b[0m \u001b[32m━━━━━━━━━━━━━━━━━━━━\u001b[0m\u001b[37m\u001b[0m \u001b[1m11s\u001b[0m 105ms/step - accuracy: 0.7654 - loss: 0.5503 - val_accuracy: 0.7573 - val_loss: 0.5624\n",
      "Epoch 8/20\n",
      "\u001b[1m68/68\u001b[0m \u001b[32m━━━━━━━━━━━━━━━━━━━━\u001b[0m\u001b[37m\u001b[0m \u001b[1m7s\u001b[0m 107ms/step - accuracy: 0.7700 - loss: 0.5431 - val_accuracy: 0.7615 - val_loss: 0.5583\n",
      "Epoch 9/20\n",
      "\u001b[1m68/68\u001b[0m \u001b[32m━━━━━━━━━━━━━━━━━━━━\u001b[0m\u001b[37m\u001b[0m \u001b[1m9s\u001b[0m 90ms/step - accuracy: 0.7759 - loss: 0.5384 - val_accuracy: 0.7601 - val_loss: 0.5557\n",
      "Epoch 10/20\n",
      "\u001b[1m68/68\u001b[0m \u001b[32m━━━━━━━━━━━━━━━━━━━━\u001b[0m\u001b[37m\u001b[0m \u001b[1m11s\u001b[0m 107ms/step - accuracy: 0.7746 - loss: 0.5356 - val_accuracy: 0.7615 - val_loss: 0.5523\n",
      "Epoch 11/20\n",
      "\u001b[1m68/68\u001b[0m \u001b[32m━━━━━━━━━━━━━━━━━━━━\u001b[0m\u001b[37m\u001b[0m \u001b[1m10s\u001b[0m 106ms/step - accuracy: 0.7727 - loss: 0.5220 - val_accuracy: 0.7601 - val_loss: 0.5522\n",
      "Epoch 12/20\n",
      "\u001b[1m68/68\u001b[0m \u001b[32m━━━━━━━━━━━━━━━━━━━━\u001b[0m\u001b[37m\u001b[0m \u001b[1m6s\u001b[0m 89ms/step - accuracy: 0.7886 - loss: 0.5217 - val_accuracy: 0.7601 - val_loss: 0.5481\n",
      "Epoch 13/20\n",
      "\u001b[1m68/68\u001b[0m \u001b[32m━━━━━━━━━━━━━━━━━━━━\u001b[0m\u001b[37m\u001b[0m \u001b[1m6s\u001b[0m 89ms/step - accuracy: 0.7853 - loss: 0.5215 - val_accuracy: 0.7573 - val_loss: 0.5469\n",
      "Epoch 14/20\n",
      "\u001b[1m68/68\u001b[0m \u001b[32m━━━━━━━━━━━━━━━━━━━━\u001b[0m\u001b[37m\u001b[0m \u001b[1m11s\u001b[0m 105ms/step - accuracy: 0.7836 - loss: 0.5146 - val_accuracy: 0.7601 - val_loss: 0.5458\n",
      "Epoch 15/20\n",
      "\u001b[1m68/68\u001b[0m \u001b[32m━━━━━━━━━━━━━━━━━━━━\u001b[0m\u001b[37m\u001b[0m \u001b[1m6s\u001b[0m 90ms/step - accuracy: 0.7901 - loss: 0.5119 - val_accuracy: 0.7615 - val_loss: 0.5416\n",
      "Epoch 16/20\n",
      "\u001b[1m68/68\u001b[0m \u001b[32m━━━━━━━━━━━━━━━━━━━━\u001b[0m\u001b[37m\u001b[0m \u001b[1m10s\u001b[0m 89ms/step - accuracy: 0.7946 - loss: 0.5051 - val_accuracy: 0.7643 - val_loss: 0.5399\n",
      "Epoch 17/20\n",
      "\u001b[1m68/68\u001b[0m \u001b[32m━━━━━━━━━━━━━━━━━━━━\u001b[0m\u001b[37m\u001b[0m \u001b[1m7s\u001b[0m 106ms/step - accuracy: 0.7998 - loss: 0.4968 - val_accuracy: 0.7629 - val_loss: 0.5400\n",
      "Epoch 18/20\n",
      "\u001b[1m68/68\u001b[0m \u001b[32m━━━━━━━━━━━━━━━━━━━━\u001b[0m\u001b[37m\u001b[0m \u001b[1m8s\u001b[0m 112ms/step - accuracy: 0.7878 - loss: 0.5019 - val_accuracy: 0.7657 - val_loss: 0.5359\n",
      "Epoch 19/20\n",
      "\u001b[1m68/68\u001b[0m \u001b[32m━━━━━━━━━━━━━━━━━━━━\u001b[0m\u001b[37m\u001b[0m \u001b[1m10s\u001b[0m 104ms/step - accuracy: 0.8024 - loss: 0.4926 - val_accuracy: 0.7615 - val_loss: 0.5363\n",
      "Epoch 20/20\n",
      "\u001b[1m68/68\u001b[0m \u001b[32m━━━━━━━━━━━━━━━━━━━━\u001b[0m\u001b[37m\u001b[0m \u001b[1m7s\u001b[0m 108ms/step - accuracy: 0.8148 - loss: 0.4832 - val_accuracy: 0.7587 - val_loss: 0.5342\n"
     ]
    }
   ],
   "source": [
    "# top 4 layers unfrozen\n",
    "model.compile(optimizer=keras.optimizers.Adam(1e-5),\n",
    "              loss='binary_crossentropy',\n",
    "              metrics=['accuracy'])\n",
    "\n",
    "epochs=20\n",
    "history = model.fit(train_dataset, epochs=epochs, validation_data=val_dataset, callbacks=callback)"
   ]
  },
  {
   "cell_type": "code",
   "execution_count": 55,
   "id": "6941184a-902f-420a-b7d1-cc06994c4730",
   "metadata": {
    "scrolled": true
   },
   "outputs": [
    {
     "data": {
      "image/png": "[encoded data removed]",
      "text/plain": [
       "<Figure size 640x480 with 2 Axes>"
      ]
     },
     "metadata": {},
     "output_type": "display_data"
    }
   ],
   "source": [
    "plot_history(history)"
   ]
  },
  {
   "cell_type": "code",
   "execution_count": 56,
   "id": "ddc0faa5-2f95-42f4-8f25-8fffc8ce7df5",
   "metadata": {
    "jupyter": {
     "source_hidden": true
    },
    "scrolled": true
   },
   "outputs": [
    {
     "name": "stdout",
     "output_type": "stream",
     "text": [
      "\u001b[1m1/1\u001b[0m \u001b[32m━━━━━━━━━━━━━━━━━━━━\u001b[0m\u001b[37m\u001b[0m \u001b[1m2s\u001b[0m 2s/step\n",
      "\u001b[1m1/1\u001b[0m \u001b[32m━━━━━━━━━━━━━━━━━━━━\u001b[0m\u001b[37m\u001b[0m \u001b[1m0s\u001b[0m 45ms/step\n",
      "\u001b[1m1/1\u001b[0m \u001b[32m━━━━━━━━━━━━━━━━━━━━\u001b[0m\u001b[37m\u001b[0m \u001b[1m0s\u001b[0m 42ms/step\n",
      "\u001b[1m1/1\u001b[0m \u001b[32m━━━━━━━━━━━━━━━━━━━━\u001b[0m\u001b[37m\u001b[0m \u001b[1m0s\u001b[0m 36ms/step\n",
      "\u001b[1m1/1\u001b[0m \u001b[32m━━━━━━━━━━━━━━━━━━━━\u001b[0m\u001b[37m\u001b[0m \u001b[1m0s\u001b[0m 40ms/step\n",
      "\u001b[1m1/1\u001b[0m \u001b[32m━━━━━━━━━━━━━━━━━━━━\u001b[0m\u001b[37m\u001b[0m \u001b[1m0s\u001b[0m 38ms/step\n",
      "\u001b[1m1/1\u001b[0m \u001b[32m━━━━━━━━━━━━━━━━━━━━\u001b[0m\u001b[37m\u001b[0m \u001b[1m0s\u001b[0m 43ms/step\n",
      "\u001b[1m1/1\u001b[0m \u001b[32m━━━━━━━━━━━━━━━━━━━━\u001b[0m\u001b[37m\u001b[0m \u001b[1m0s\u001b[0m 37ms/step\n",
      "\u001b[1m1/1\u001b[0m \u001b[32m━━━━━━━━━━━━━━━━━━━━\u001b[0m\u001b[37m\u001b[0m \u001b[1m0s\u001b[0m 46ms/step\n",
      "\u001b[1m1/1\u001b[0m \u001b[32m━━━━━━━━━━━━━━━━━━━━\u001b[0m\u001b[37m\u001b[0m \u001b[1m0s\u001b[0m 37ms/step\n",
      "\u001b[1m1/1\u001b[0m \u001b[32m━━━━━━━━━━━━━━━━━━━━\u001b[0m\u001b[37m\u001b[0m \u001b[1m0s\u001b[0m 41ms/step\n",
      "\u001b[1m1/1\u001b[0m \u001b[32m━━━━━━━━━━━━━━━━━━━━\u001b[0m\u001b[37m\u001b[0m \u001b[1m0s\u001b[0m 37ms/step\n",
      "\u001b[1m1/1\u001b[0m \u001b[32m━━━━━━━━━━━━━━━━━━━━\u001b[0m\u001b[37m\u001b[0m \u001b[1m0s\u001b[0m 42ms/step\n",
      "\u001b[1m1/1\u001b[0m \u001b[32m━━━━━━━━━━━━━━━━━━━━\u001b[0m\u001b[37m\u001b[0m \u001b[1m0s\u001b[0m 39ms/step\n",
      "\u001b[1m1/1\u001b[0m \u001b[32m━━━━━━━━━━━━━━━━━━━━\u001b[0m\u001b[37m\u001b[0m \u001b[1m0s\u001b[0m 34ms/step\n",
      "\u001b[1m1/1\u001b[0m \u001b[32m━━━━━━━━━━━━━━━━━━━━\u001b[0m\u001b[37m\u001b[0m \u001b[1m0s\u001b[0m 37ms/step\n",
      "\u001b[1m1/1\u001b[0m \u001b[32m━━━━━━━━━━━━━━━━━━━━\u001b[0m\u001b[37m\u001b[0m \u001b[1m0s\u001b[0m 37ms/step\n",
      "\u001b[1m1/1\u001b[0m \u001b[32m━━━━━━━━━━━━━━━━━━━━\u001b[0m\u001b[37m\u001b[0m \u001b[1m0s\u001b[0m 43ms/step\n",
      "\u001b[1m1/1\u001b[0m \u001b[32m━━━━━━━━━━━━━━━━━━━━\u001b[0m\u001b[37m\u001b[0m \u001b[1m0s\u001b[0m 43ms/step\n",
      "\u001b[1m1/1\u001b[0m \u001b[32m━━━━━━━━━━━━━━━━━━━━\u001b[0m\u001b[37m\u001b[0m \u001b[1m0s\u001b[0m 34ms/step\n",
      "\u001b[1m1/1\u001b[0m \u001b[32m━━━━━━━━━━━━━━━━━━━━\u001b[0m\u001b[37m\u001b[0m \u001b[1m0s\u001b[0m 44ms/step\n",
      "\u001b[1m1/1\u001b[0m \u001b[32m━━━━━━━━━━━━━━━━━━━━\u001b[0m\u001b[37m\u001b[0m \u001b[1m0s\u001b[0m 47ms/step\n",
      "\u001b[1m1/1\u001b[0m \u001b[32m━━━━━━━━━━━━━━━━━━━━\u001b[0m\u001b[37m\u001b[0m \u001b[1m2s\u001b[0m 2s/step\n"
     ]
    },
    {
     "name": "stderr",
     "output_type": "stream",
     "text": [
      "2024-09-07 18:24:32.878629: I tensorflow/core/framework/local_rendezvous.cc:404] Local rendezvous is aborting with status: OUT_OF_RANGE: End of sequence\n"
     ]
    }
   ],
   "source": [
    "true, pred = predict(test_dataset, model)"
   ]
  },
  {
   "cell_type": "code",
   "execution_count": 57,
   "id": "e8ea46e7-2618-487b-aefa-e790b1f9b496",
   "metadata": {},
   "outputs": [
    {
     "name": "stdout",
     "output_type": "stream",
     "text": [
      "              precision    recall  f1-score   support\n",
      "\n",
      "           0       0.57      0.69      0.62       198\n",
      "           1       0.87      0.80      0.83       520\n",
      "\n",
      "    accuracy                           0.77       718\n",
      "   macro avg       0.72      0.75      0.73       718\n",
      "weighted avg       0.79      0.77      0.78       718\n",
      "\n"
     ]
    }
   ],
   "source": [
    "print(classification_report(true, pred))"
   ]
  },
  {
   "cell_type": "code",
   "execution_count": 58,
   "id": "d04833c7-b251-4c28-84da-d698fef6ce97",
   "metadata": {
    "jupyter": {
     "source_hidden": true
    }
   },
   "outputs": [
    {
     "data": {
      "image/png": "[encoded data removed]",
      "text/plain": [
       "<Figure size 640x480 with 2 Axes>"
      ]
     },
     "metadata": {},
     "output_type": "display_data"
    }
   ],
   "source": [
    "cm = confusion_matrix(true, pred)\n",
    "disp = ConfusionMatrixDisplay(confusion_matrix=cm)\n",
    "disp.plot()\n",
    "plt.tight_layout()"
   ]
  },
  {
   "cell_type": "code",
   "execution_count": 59,
   "id": "f8488dd2-d90c-43bd-8356-031f89685359",
   "metadata": {},
   "outputs": [],
   "source": [
    "model.save(\"4-layers-big-binary.keras\")"
   ]
  },
  {
   "cell_type": "markdown",
   "id": "5502ab40-5fe1-4579-a8aa-f27f1f1a06d2",
   "metadata": {},
   "source": [
    "## Top 8 layers"
   ]
  },
  {
   "cell_type": "code",
   "execution_count": 60,
   "id": "8d85a7f6-5dd6-4991-86da-63d210b721ee",
   "metadata": {
    "collapsed": true,
    "jupyter": {
     "outputs_hidden": true,
     "source_hidden": true
    },
    "scrolled": true
   },
   "outputs": [
    {
     "data": {
      "text/html": [
       "<pre style=\"white-space:pre;overflow-x:auto;line-height:normal;font-family:Menlo,'DejaVu Sans Mono',consolas,'Courier New',monospace\"><span style=\"font-weight: bold\">Model: \"functional_1\"</span>\n",
       "</pre>\n"
      ],
      "text/plain": [
       "\u001b[1mModel: \"functional_1\"\u001b[0m\n"
      ]
     },
     "metadata": {},
     "output_type": "display_data"
    },
    {
     "data": {
      "text/html": [
       "<pre style=\"white-space:pre;overflow-x:auto;line-height:normal;font-family:Menlo,'DejaVu Sans Mono',consolas,'Courier New',monospace\">┏━━━━━━━━━━━━━━━━━━━━━━━━━━━━━┳━━━━━━━━━━━━━━━━━━━━━━━┳━━━━━━━━━━━━┳━━━━━━━┓\n",
       "┃<span style=\"font-weight: bold\"> Layer (type)                </span>┃<span style=\"font-weight: bold\"> Output Shape          </span>┃<span style=\"font-weight: bold\">    Param # </span>┃<span style=\"font-weight: bold\"> Trai… </span>┃\n",
       "┡━━━━━━━━━━━━━━━━━━━━━━━━━━━━━╇━━━━━━━━━━━━━━━━━━━━━━━╇━━━━━━━━━━━━╇━━━━━━━┩\n",
       "│ input_layer_2 (<span style=\"color: #0087ff; text-decoration-color: #0087ff\">InputLayer</span>)  │ (<span style=\"color: #00d7ff; text-decoration-color: #00d7ff\">None</span>, <span style=\"color: #00af00; text-decoration-color: #00af00\">256</span>, <span style=\"color: #00af00; text-decoration-color: #00af00\">256</span>, <span style=\"color: #00af00; text-decoration-color: #00af00\">3</span>)   │          <span style=\"color: #00af00; text-decoration-color: #00af00\">0</span> │   <span style=\"font-weight: bold\">-</span>   │\n",
       "├─────────────────────────────┼───────────────────────┼────────────┼───────┤\n",
       "│ xception (<span style=\"color: #0087ff; text-decoration-color: #0087ff\">Functional</span>)       │ (<span style=\"color: #00d7ff; text-decoration-color: #00d7ff\">None</span>, <span style=\"color: #00af00; text-decoration-color: #00af00\">8</span>, <span style=\"color: #00af00; text-decoration-color: #00af00\">8</span>, <span style=\"color: #00af00; text-decoration-color: #00af00\">2048</span>)    │ <span style=\"color: #00af00; text-decoration-color: #00af00\">20,861,480</span> │   <span style=\"color: #ff0000; text-decoration-color: #ff0000; font-weight: bold\">N</span>   │\n",
       "├─────────────────────────────┼───────────────────────┼────────────┼───────┤\n",
       "│ global_average_pooling2d_1  │ (<span style=\"color: #00d7ff; text-decoration-color: #00d7ff\">None</span>, <span style=\"color: #00af00; text-decoration-color: #00af00\">2048</span>)          │          <span style=\"color: #00af00; text-decoration-color: #00af00\">0</span> │   <span style=\"font-weight: bold\">-</span>   │\n",
       "│ (<span style=\"color: #0087ff; text-decoration-color: #0087ff\">GlobalAveragePooling2D</span>)    │                       │            │       │\n",
       "├─────────────────────────────┼───────────────────────┼────────────┼───────┤\n",
       "│ dense_2 (<span style=\"color: #0087ff; text-decoration-color: #0087ff\">Dense</span>)             │ (<span style=\"color: #00d7ff; text-decoration-color: #00d7ff\">None</span>, <span style=\"color: #00af00; text-decoration-color: #00af00\">1024</span>)          │  <span style=\"color: #00af00; text-decoration-color: #00af00\">2,098,176</span> │   <span style=\"color: #00af00; text-decoration-color: #00af00; font-weight: bold\">Y</span>   │\n",
       "├─────────────────────────────┼───────────────────────┼────────────┼───────┤\n",
       "│ dropout_1 (<span style=\"color: #0087ff; text-decoration-color: #0087ff\">Dropout</span>)         │ (<span style=\"color: #00d7ff; text-decoration-color: #00d7ff\">None</span>, <span style=\"color: #00af00; text-decoration-color: #00af00\">1024</span>)          │          <span style=\"color: #00af00; text-decoration-color: #00af00\">0</span> │   <span style=\"font-weight: bold\">-</span>   │\n",
       "├─────────────────────────────┼───────────────────────┼────────────┼───────┤\n",
       "│ dense_3 (<span style=\"color: #0087ff; text-decoration-color: #0087ff\">Dense</span>)             │ (<span style=\"color: #00d7ff; text-decoration-color: #00d7ff\">None</span>, <span style=\"color: #00af00; text-decoration-color: #00af00\">1</span>)             │      <span style=\"color: #00af00; text-decoration-color: #00af00\">1,025</span> │   <span style=\"color: #00af00; text-decoration-color: #00af00; font-weight: bold\">Y</span>   │\n",
       "└─────────────────────────────┴───────────────────────┴────────────┴───────┘\n",
       "</pre>\n"
      ],
      "text/plain": [
       "┏━━━━━━━━━━━━━━━━━━━━━━━━━━━━━┳━━━━━━━━━━━━━━━━━━━━━━━┳━━━━━━━━━━━━┳━━━━━━━┓\n",
       "┃\u001b[1m \u001b[0m\u001b[1mLayer (type)               \u001b[0m\u001b[1m \u001b[0m┃\u001b[1m \u001b[0m\u001b[1mOutput Shape         \u001b[0m\u001b[1m \u001b[0m┃\u001b[1m \u001b[0m\u001b[1m   Param #\u001b[0m\u001b[1m \u001b[0m┃\u001b[1m \u001b[0m\u001b[1mTrai…\u001b[0m\u001b[1m \u001b[0m┃\n",
       "┡━━━━━━━━━━━━━━━━━━━━━━━━━━━━━╇━━━━━━━━━━━━━━━━━━━━━━━╇━━━━━━━━━━━━╇━━━━━━━┩\n",
       "│ input_layer_2 (\u001b[38;5;33mInputLayer\u001b[0m)  │ (\u001b[38;5;45mNone\u001b[0m, \u001b[38;5;34m256\u001b[0m, \u001b[38;5;34m256\u001b[0m, \u001b[38;5;34m3\u001b[0m)   │          \u001b[38;5;34m0\u001b[0m │   \u001b[1m-\u001b[0m   │\n",
       "├─────────────────────────────┼───────────────────────┼────────────┼───────┤\n",
       "│ xception (\u001b[38;5;33mFunctional\u001b[0m)       │ (\u001b[38;5;45mNone\u001b[0m, \u001b[38;5;34m8\u001b[0m, \u001b[38;5;34m8\u001b[0m, \u001b[38;5;34m2048\u001b[0m)    │ \u001b[38;5;34m20,861,480\u001b[0m │   \u001b[1;91mN\u001b[0m   │\n",
       "├─────────────────────────────┼───────────────────────┼────────────┼───────┤\n",
       "│ global_average_pooling2d_1  │ (\u001b[38;5;45mNone\u001b[0m, \u001b[38;5;34m2048\u001b[0m)          │          \u001b[38;5;34m0\u001b[0m │   \u001b[1m-\u001b[0m   │\n",
       "│ (\u001b[38;5;33mGlobalAveragePooling2D\u001b[0m)    │                       │            │       │\n",
       "├─────────────────────────────┼───────────────────────┼────────────┼───────┤\n",
       "│ dense_2 (\u001b[38;5;33mDense\u001b[0m)             │ (\u001b[38;5;45mNone\u001b[0m, \u001b[38;5;34m1024\u001b[0m)          │  \u001b[38;5;34m2,098,176\u001b[0m │   \u001b[1;38;5;34mY\u001b[0m   │\n",
       "├─────────────────────────────┼───────────────────────┼────────────┼───────┤\n",
       "│ dropout_1 (\u001b[38;5;33mDropout\u001b[0m)         │ (\u001b[38;5;45mNone\u001b[0m, \u001b[38;5;34m1024\u001b[0m)          │          \u001b[38;5;34m0\u001b[0m │   \u001b[1m-\u001b[0m   │\n",
       "├─────────────────────────────┼───────────────────────┼────────────┼───────┤\n",
       "│ dense_3 (\u001b[38;5;33mDense\u001b[0m)             │ (\u001b[38;5;45mNone\u001b[0m, \u001b[38;5;34m1\u001b[0m)             │      \u001b[38;5;34m1,025\u001b[0m │   \u001b[1;38;5;34mY\u001b[0m   │\n",
       "└─────────────────────────────┴───────────────────────┴────────────┴───────┘\n"
      ]
     },
     "metadata": {},
     "output_type": "display_data"
    },
    {
     "data": {
      "text/html": [
       "<pre style=\"white-space:pre;overflow-x:auto;line-height:normal;font-family:Menlo,'DejaVu Sans Mono',consolas,'Courier New',monospace\"><span style=\"font-weight: bold\"> Total params: </span><span style=\"color: #00af00; text-decoration-color: #00af00\">33,486,381</span> (127.74 MB)\n",
       "</pre>\n"
      ],
      "text/plain": [
       "\u001b[1m Total params: \u001b[0m\u001b[38;5;34m33,486,381\u001b[0m (127.74 MB)\n"
      ]
     },
     "metadata": {},
     "output_type": "display_data"
    },
    {
     "data": {
      "text/html": [
       "<pre style=\"white-space:pre;overflow-x:auto;line-height:normal;font-family:Menlo,'DejaVu Sans Mono',consolas,'Courier New',monospace\"><span style=\"font-weight: bold\"> Trainable params: </span><span style=\"color: #00af00; text-decoration-color: #00af00\">6,850,049</span> (26.13 MB)\n",
       "</pre>\n"
      ],
      "text/plain": [
       "\u001b[1m Trainable params: \u001b[0m\u001b[38;5;34m6,850,049\u001b[0m (26.13 MB)\n"
      ]
     },
     "metadata": {},
     "output_type": "display_data"
    },
    {
     "data": {
      "text/html": [
       "<pre style=\"white-space:pre;overflow-x:auto;line-height:normal;font-family:Menlo,'DejaVu Sans Mono',consolas,'Courier New',monospace\"><span style=\"font-weight: bold\"> Non-trainable params: </span><span style=\"color: #00af00; text-decoration-color: #00af00\">16,110,632</span> (61.46 MB)\n",
       "</pre>\n"
      ],
      "text/plain": [
       "\u001b[1m Non-trainable params: \u001b[0m\u001b[38;5;34m16,110,632\u001b[0m (61.46 MB)\n"
      ]
     },
     "metadata": {},
     "output_type": "display_data"
    },
    {
     "data": {
      "text/html": [
       "<pre style=\"white-space:pre;overflow-x:auto;line-height:normal;font-family:Menlo,'DejaVu Sans Mono',consolas,'Courier New',monospace\"><span style=\"font-weight: bold\"> Optimizer params: </span><span style=\"color: #00af00; text-decoration-color: #00af00\">10,525,700</span> (40.15 MB)\n",
       "</pre>\n"
      ],
      "text/plain": [
       "\u001b[1m Optimizer params: \u001b[0m\u001b[38;5;34m10,525,700\u001b[0m (40.15 MB)\n"
      ]
     },
     "metadata": {},
     "output_type": "display_data"
    }
   ],
   "source": [
    "# unfreeze top 8 base layers\n",
    "for layer in base_model.layers[-8:]:\n",
    "    layer.trainable = True\n",
    "model.summary(show_trainable=True)"
   ]
  },
  {
   "cell_type": "code",
   "execution_count": 61,
   "id": "c2bba6c0-84c6-45b7-ae81-edba5f3a90e3",
   "metadata": {},
   "outputs": [],
   "source": [
    "callback = EarlyStopping(patience=5, restore_best_weights=True, monitor=\"val_loss\", start_from_epoch=10)"
   ]
  },
  {
   "cell_type": "code",
   "execution_count": 62,
   "id": "3a455837-1d9d-494b-a9b2-f403be35306a",
   "metadata": {
    "scrolled": true
   },
   "outputs": [
    {
     "name": "stdout",
     "output_type": "stream",
     "text": [
      "Epoch 1/40\n",
      "\u001b[1m68/68\u001b[0m \u001b[32m━━━━━━━━━━━━━━━━━━━━\u001b[0m\u001b[37m\u001b[0m \u001b[1m24s\u001b[0m 215ms/step - accuracy: 0.7812 - loss: 0.5609 - val_accuracy: 0.7978 - val_loss: 0.4930\n",
      "Epoch 2/40\n",
      "\u001b[1m68/68\u001b[0m \u001b[32m━━━━━━━━━━━━━━━━━━━━\u001b[0m\u001b[37m\u001b[0m \u001b[1m8s\u001b[0m 86ms/step - accuracy: 0.7943 - loss: 0.5249 - val_accuracy: 0.8047 - val_loss: 0.4875\n",
      "Epoch 3/40\n",
      "\u001b[1m68/68\u001b[0m \u001b[32m━━━━━━━━━━━━━━━━━━━━\u001b[0m\u001b[37m\u001b[0m \u001b[1m7s\u001b[0m 105ms/step - accuracy: 0.8041 - loss: 0.5039 - val_accuracy: 0.7922 - val_loss: 0.4877\n",
      "Epoch 4/40\n",
      "\u001b[1m68/68\u001b[0m \u001b[32m━━━━━━━━━━━━━━━━━━━━\u001b[0m\u001b[37m\u001b[0m \u001b[1m10s\u001b[0m 105ms/step - accuracy: 0.8157 - loss: 0.4844 - val_accuracy: 0.7824 - val_loss: 0.4932\n",
      "Epoch 5/40\n",
      "\u001b[1m68/68\u001b[0m \u001b[32m━━━━━━━━━━━━━━━━━━━━\u001b[0m\u001b[37m\u001b[0m \u001b[1m6s\u001b[0m 88ms/step - accuracy: 0.8179 - loss: 0.4736 - val_accuracy: 0.7852 - val_loss: 0.4937\n",
      "Epoch 6/40\n",
      "\u001b[1m68/68\u001b[0m \u001b[32m━━━━━━━━━━━━━━━━━━━━\u001b[0m\u001b[37m\u001b[0m \u001b[1m10s\u001b[0m 87ms/step - accuracy: 0.8329 - loss: 0.4552 - val_accuracy: 0.7810 - val_loss: 0.4961\n",
      "Epoch 7/40\n",
      "\u001b[1m68/68\u001b[0m \u001b[32m━━━━━━━━━━━━━━━━━━━━\u001b[0m\u001b[37m\u001b[0m \u001b[1m11s\u001b[0m 106ms/step - accuracy: 0.8419 - loss: 0.4431 - val_accuracy: 0.7866 - val_loss: 0.4938\n",
      "Epoch 8/40\n",
      "\u001b[1m68/68\u001b[0m \u001b[32m━━━━━━━━━━━━━━━━━━━━\u001b[0m\u001b[37m\u001b[0m \u001b[1m9s\u001b[0m 89ms/step - accuracy: 0.8433 - loss: 0.4318 - val_accuracy: 0.7894 - val_loss: 0.4935\n",
      "Epoch 9/40\n",
      "\u001b[1m68/68\u001b[0m \u001b[32m━━━━━━━━━━━━━━━━━━━━\u001b[0m\u001b[37m\u001b[0m \u001b[1m7s\u001b[0m 106ms/step - accuracy: 0.8443 - loss: 0.4195 - val_accuracy: 0.7894 - val_loss: 0.4926\n",
      "Epoch 10/40\n",
      "\u001b[1m68/68\u001b[0m \u001b[32m━━━━━━━━━━━━━━━━━━━━\u001b[0m\u001b[37m\u001b[0m \u001b[1m7s\u001b[0m 105ms/step - accuracy: 0.8549 - loss: 0.4058 - val_accuracy: 0.7922 - val_loss: 0.4904\n",
      "Epoch 11/40\n",
      "\u001b[1m68/68\u001b[0m \u001b[32m━━━━━━━━━━━━━━━━━━━━\u001b[0m\u001b[37m\u001b[0m \u001b[1m9s\u001b[0m 93ms/step - accuracy: 0.8654 - loss: 0.3927 - val_accuracy: 0.7880 - val_loss: 0.4900\n",
      "Epoch 12/40\n",
      "\u001b[1m68/68\u001b[0m \u001b[32m━━━━━━━━━━━━━━━━━━━━\u001b[0m\u001b[37m\u001b[0m \u001b[1m7s\u001b[0m 108ms/step - accuracy: 0.8677 - loss: 0.3852 - val_accuracy: 0.7908 - val_loss: 0.4872\n",
      "Epoch 13/40\n",
      "\u001b[1m68/68\u001b[0m \u001b[32m━━━━━━━━━━━━━━━━━━━━\u001b[0m\u001b[37m\u001b[0m \u001b[1m7s\u001b[0m 109ms/step - accuracy: 0.8756 - loss: 0.3704 - val_accuracy: 0.7894 - val_loss: 0.4869\n",
      "Epoch 14/40\n",
      "\u001b[1m68/68\u001b[0m \u001b[32m━━━━━━━━━━━━━━━━━━━━\u001b[0m\u001b[37m\u001b[0m \u001b[1m10s\u001b[0m 107ms/step - accuracy: 0.8756 - loss: 0.3602 - val_accuracy: 0.7880 - val_loss: 0.4868\n",
      "Epoch 15/40\n",
      "\u001b[1m68/68\u001b[0m \u001b[32m━━━━━━━━━━━━━━━━━━━━\u001b[0m\u001b[37m\u001b[0m \u001b[1m10s\u001b[0m 108ms/step - accuracy: 0.8887 - loss: 0.3454 - val_accuracy: 0.7880 - val_loss: 0.4834\n",
      "Epoch 16/40\n",
      "\u001b[1m68/68\u001b[0m \u001b[32m━━━━━━━━━━━━━━━━━━━━\u001b[0m\u001b[37m\u001b[0m \u001b[1m9s\u001b[0m 90ms/step - accuracy: 0.8892 - loss: 0.3401 - val_accuracy: 0.7894 - val_loss: 0.4825\n",
      "Epoch 17/40\n",
      "\u001b[1m68/68\u001b[0m \u001b[32m━━━━━━━━━━━━━━━━━━━━\u001b[0m\u001b[37m\u001b[0m \u001b[1m7s\u001b[0m 107ms/step - accuracy: 0.8996 - loss: 0.3240 - val_accuracy: 0.7922 - val_loss: 0.4820\n",
      "Epoch 18/40\n",
      "\u001b[1m68/68\u001b[0m \u001b[32m━━━━━━━━━━━━━━━━━━━━\u001b[0m\u001b[37m\u001b[0m \u001b[1m6s\u001b[0m 92ms/step - accuracy: 0.8959 - loss: 0.3229 - val_accuracy: 0.7950 - val_loss: 0.4804\n",
      "Epoch 19/40\n",
      "\u001b[1m68/68\u001b[0m \u001b[32m━━━━━━━━━━━━━━━━━━━━\u001b[0m\u001b[37m\u001b[0m \u001b[1m11s\u001b[0m 108ms/step - accuracy: 0.9097 - loss: 0.3049 - val_accuracy: 0.7950 - val_loss: 0.4776\n",
      "Epoch 20/40\n",
      "\u001b[1m68/68\u001b[0m \u001b[32m━━━━━━━━━━━━━━━━━━━━\u001b[0m\u001b[37m\u001b[0m \u001b[1m6s\u001b[0m 87ms/step - accuracy: 0.9139 - loss: 0.2988 - val_accuracy: 0.7964 - val_loss: 0.4756\n",
      "Epoch 21/40\n",
      "\u001b[1m68/68\u001b[0m \u001b[32m━━━━━━━━━━━━━━━━━━━━\u001b[0m\u001b[37m\u001b[0m \u001b[1m10s\u001b[0m 87ms/step - accuracy: 0.9189 - loss: 0.2892 - val_accuracy: 0.7978 - val_loss: 0.4764\n",
      "Epoch 22/40\n",
      "\u001b[1m68/68\u001b[0m \u001b[32m━━━━━━━━━━━━━━━━━━━━\u001b[0m\u001b[37m\u001b[0m \u001b[1m7s\u001b[0m 105ms/step - accuracy: 0.9299 - loss: 0.2778 - val_accuracy: 0.8006 - val_loss: 0.4758\n",
      "Epoch 23/40\n",
      "\u001b[1m68/68\u001b[0m \u001b[32m━━━━━━━━━━━━━━━━━━━━\u001b[0m\u001b[37m\u001b[0m \u001b[1m6s\u001b[0m 89ms/step - accuracy: 0.9329 - loss: 0.2672 - val_accuracy: 0.7992 - val_loss: 0.4749\n",
      "Epoch 24/40\n",
      "\u001b[1m68/68\u001b[0m \u001b[32m━━━━━━━━━━━━━━━━━━━━\u001b[0m\u001b[37m\u001b[0m \u001b[1m7s\u001b[0m 107ms/step - accuracy: 0.9379 - loss: 0.2612 - val_accuracy: 0.7978 - val_loss: 0.4730\n",
      "Epoch 25/40\n",
      "\u001b[1m68/68\u001b[0m \u001b[32m━━━━━━━━━━━━━━━━━━━━\u001b[0m\u001b[37m\u001b[0m \u001b[1m6s\u001b[0m 88ms/step - accuracy: 0.9439 - loss: 0.2519 - val_accuracy: 0.8006 - val_loss: 0.4722\n",
      "Epoch 26/40\n",
      "\u001b[1m68/68\u001b[0m \u001b[32m━━━━━━━━━━━━━━━━━━━━\u001b[0m\u001b[37m\u001b[0m \u001b[1m6s\u001b[0m 86ms/step - accuracy: 0.9457 - loss: 0.2412 - val_accuracy: 0.8033 - val_loss: 0.4741\n",
      "Epoch 27/40\n",
      "\u001b[1m68/68\u001b[0m \u001b[32m━━━━━━━━━━━━━━━━━━━━\u001b[0m\u001b[37m\u001b[0m \u001b[1m11s\u001b[0m 104ms/step - accuracy: 0.9503 - loss: 0.2316 - val_accuracy: 0.8033 - val_loss: 0.4727\n",
      "Epoch 28/40\n",
      "\u001b[1m68/68\u001b[0m \u001b[32m━━━━━━━━━━━━━━━━━━━━\u001b[0m\u001b[37m\u001b[0m \u001b[1m10s\u001b[0m 102ms/step - accuracy: 0.9548 - loss: 0.2228 - val_accuracy: 0.8061 - val_loss: 0.4739\n",
      "Epoch 29/40\n",
      "\u001b[1m68/68\u001b[0m \u001b[32m━━━━━━━━━━━━━━━━━━━━\u001b[0m\u001b[37m\u001b[0m \u001b[1m6s\u001b[0m 85ms/step - accuracy: 0.9585 - loss: 0.2171 - val_accuracy: 0.8089 - val_loss: 0.4759\n",
      "Epoch 30/40\n",
      "\u001b[1m68/68\u001b[0m \u001b[32m━━━━━━━━━━━━━━━━━━━━\u001b[0m\u001b[37m\u001b[0m \u001b[1m7s\u001b[0m 106ms/step - accuracy: 0.9626 - loss: 0.2090 - val_accuracy: 0.8117 - val_loss: 0.4724\n"
     ]
    }
   ],
   "source": [
    "# top 8 layers unfrozen\n",
    "model.compile(optimizer=keras.optimizers.Adam(1e-5),\n",
    "              loss='binary_crossentropy',\n",
    "              metrics=['accuracy'])\n",
    "\n",
    "epochs=40\n",
    "history = model.fit(train_dataset, epochs=epochs, validation_data=val_dataset, callbacks=callback)"
   ]
  },
  {
   "cell_type": "code",
   "execution_count": 63,
   "id": "1c4cc9d1-e844-4f24-8189-6f0e6e555ab6",
   "metadata": {},
   "outputs": [
    {
     "data": {
      "image/png": "[encoded data removed]",
      "text/plain": [
       "<Figure size 640x480 with 2 Axes>"
      ]
     },
     "metadata": {},
     "output_type": "display_data"
    }
   ],
   "source": [
    "plot_history(history)"
   ]
  },
  {
   "cell_type": "code",
   "execution_count": 64,
   "id": "8d09510b-a345-4db4-bbe0-4cb50a8b3a70",
   "metadata": {
    "collapsed": true,
    "jupyter": {
     "outputs_hidden": true,
     "source_hidden": true
    },
    "scrolled": true
   },
   "outputs": [
    {
     "name": "stdout",
     "output_type": "stream",
     "text": [
      "\u001b[1m1/1\u001b[0m \u001b[32m━━━━━━━━━━━━━━━━━━━━\u001b[0m\u001b[37m\u001b[0m \u001b[1m2s\u001b[0m 2s/step\n",
      "\u001b[1m1/1\u001b[0m \u001b[32m━━━━━━━━━━━━━━━━━━━━\u001b[0m\u001b[37m\u001b[0m \u001b[1m0s\u001b[0m 35ms/step\n",
      "\u001b[1m1/1\u001b[0m \u001b[32m━━━━━━━━━━━━━━━━━━━━\u001b[0m\u001b[37m\u001b[0m \u001b[1m0s\u001b[0m 40ms/step\n",
      "\u001b[1m1/1\u001b[0m \u001b[32m━━━━━━━━━━━━━━━━━━━━\u001b[0m\u001b[37m\u001b[0m \u001b[1m0s\u001b[0m 47ms/step\n",
      "\u001b[1m1/1\u001b[0m \u001b[32m━━━━━━━━━━━━━━━━━━━━\u001b[0m\u001b[37m\u001b[0m \u001b[1m0s\u001b[0m 40ms/step\n",
      "\u001b[1m1/1\u001b[0m \u001b[32m━━━━━━━━━━━━━━━━━━━━\u001b[0m\u001b[37m\u001b[0m \u001b[1m0s\u001b[0m 41ms/step\n",
      "\u001b[1m1/1\u001b[0m \u001b[32m━━━━━━━━━━━━━━━━━━━━\u001b[0m\u001b[37m\u001b[0m \u001b[1m0s\u001b[0m 42ms/step\n",
      "\u001b[1m1/1\u001b[0m \u001b[32m━━━━━━━━━━━━━━━━━━━━\u001b[0m\u001b[37m\u001b[0m \u001b[1m0s\u001b[0m 43ms/step\n",
      "\u001b[1m1/1\u001b[0m \u001b[32m━━━━━━━━━━━━━━━━━━━━\u001b[0m\u001b[37m\u001b[0m \u001b[1m0s\u001b[0m 40ms/step\n",
      "\u001b[1m1/1\u001b[0m \u001b[32m━━━━━━━━━━━━━━━━━━━━\u001b[0m\u001b[37m\u001b[0m \u001b[1m0s\u001b[0m 43ms/step\n",
      "\u001b[1m1/1\u001b[0m \u001b[32m━━━━━━━━━━━━━━━━━━━━\u001b[0m\u001b[37m\u001b[0m \u001b[1m0s\u001b[0m 37ms/step\n",
      "\u001b[1m1/1\u001b[0m \u001b[32m━━━━━━━━━━━━━━━━━━━━\u001b[0m\u001b[37m\u001b[0m \u001b[1m0s\u001b[0m 41ms/step\n",
      "\u001b[1m1/1\u001b[0m \u001b[32m━━━━━━━━━━━━━━━━━━━━\u001b[0m\u001b[37m\u001b[0m \u001b[1m0s\u001b[0m 40ms/step\n",
      "\u001b[1m1/1\u001b[0m \u001b[32m━━━━━━━━━━━━━━━━━━━━\u001b[0m\u001b[37m\u001b[0m \u001b[1m0s\u001b[0m 37ms/step\n",
      "\u001b[1m1/1\u001b[0m \u001b[32m━━━━━━━━━━━━━━━━━━━━\u001b[0m\u001b[37m\u001b[0m \u001b[1m0s\u001b[0m 40ms/step\n",
      "\u001b[1m1/1\u001b[0m \u001b[32m━━━━━━━━━━━━━━━━━━━━\u001b[0m\u001b[37m\u001b[0m \u001b[1m0s\u001b[0m 38ms/step\n",
      "\u001b[1m1/1\u001b[0m \u001b[32m━━━━━━━━━━━━━━━━━━━━\u001b[0m\u001b[37m\u001b[0m \u001b[1m0s\u001b[0m 39ms/step\n",
      "\u001b[1m1/1\u001b[0m \u001b[32m━━━━━━━━━━━━━━━━━━━━\u001b[0m\u001b[37m\u001b[0m \u001b[1m0s\u001b[0m 41ms/step\n",
      "\u001b[1m1/1\u001b[0m \u001b[32m━━━━━━━━━━━━━━━━━━━━\u001b[0m\u001b[37m\u001b[0m \u001b[1m0s\u001b[0m 43ms/step\n",
      "\u001b[1m1/1\u001b[0m \u001b[32m━━━━━━━━━━━━━━━━━━━━\u001b[0m\u001b[37m\u001b[0m \u001b[1m0s\u001b[0m 41ms/step\n",
      "\u001b[1m1/1\u001b[0m \u001b[32m━━━━━━━━━━━━━━━━━━━━\u001b[0m\u001b[37m\u001b[0m \u001b[1m0s\u001b[0m 39ms/step\n",
      "\u001b[1m1/1\u001b[0m \u001b[32m━━━━━━━━━━━━━━━━━━━━\u001b[0m\u001b[37m\u001b[0m \u001b[1m0s\u001b[0m 52ms/step\n",
      "\u001b[1m1/1\u001b[0m \u001b[32m━━━━━━━━━━━━━━━━━━━━\u001b[0m\u001b[37m\u001b[0m \u001b[1m2s\u001b[0m 2s/step\n"
     ]
    }
   ],
   "source": [
    "true, pred = predict(test_dataset, model)"
   ]
  },
  {
   "cell_type": "code",
   "execution_count": 65,
   "id": "c2846287-211f-461d-8d0a-9c2be58b6226",
   "metadata": {},
   "outputs": [
    {
     "name": "stdout",
     "output_type": "stream",
     "text": [
      "              precision    recall  f1-score   support\n",
      "\n",
      "           0       0.66      0.72      0.69       198\n",
      "           1       0.89      0.86      0.87       520\n",
      "\n",
      "    accuracy                           0.82       718\n",
      "   macro avg       0.78      0.79      0.78       718\n",
      "weighted avg       0.83      0.82      0.82       718\n",
      "\n"
     ]
    }
   ],
   "source": [
    "print(classification_report(true, pred))"
   ]
  },
  {
   "cell_type": "code",
   "execution_count": 66,
   "id": "1ee16617-a7a3-468f-b4fb-8baa54f1bc7a",
   "metadata": {},
   "outputs": [
    {
     "data": {
      "image/png": "[encoded data removed]",
      "text/plain": [
       "<Figure size 640x480 with 2 Axes>"
      ]
     },
     "metadata": {},
     "output_type": "display_data"
    }
   ],
   "source": [
    "cm = confusion_matrix(true, pred)\n",
    "disp = ConfusionMatrixDisplay(confusion_matrix=cm)\n",
    "disp.plot()\n",
    "plt.tight_layout()"
   ]
  },
  {
   "cell_type": "code",
   "execution_count": 67,
   "id": "1208a0e6-a49f-4d88-99da-be5870e1c954",
   "metadata": {},
   "outputs": [],
   "source": [
    "model.save(\"8-layers-big-binary.keras\")"
   ]
  },
  {
   "cell_type": "markdown",
   "id": "26a44fce-d0f0-4347-8d6d-dfbfddc6765b",
   "metadata": {},
   "source": [
    "## Top 10 layers"
   ]
  },
  {
   "cell_type": "code",
   "execution_count": 68,
   "id": "8c4149ef-2485-4d93-8774-6cfc295752e2",
   "metadata": {
    "scrolled": true
   },
   "outputs": [
    {
     "data": {
      "text/html": [
       "<pre style=\"white-space:pre;overflow-x:auto;line-height:normal;font-family:Menlo,'DejaVu Sans Mono',consolas,'Courier New',monospace\"><span style=\"font-weight: bold\">Model: \"functional_1\"</span>\n",
       "</pre>\n"
      ],
      "text/plain": [
       "\u001b[1mModel: \"functional_1\"\u001b[0m\n"
      ]
     },
     "metadata": {},
     "output_type": "display_data"
    },
    {
     "data": {
      "text/html": [
       "<pre style=\"white-space:pre;overflow-x:auto;line-height:normal;font-family:Menlo,'DejaVu Sans Mono',consolas,'Courier New',monospace\">┏━━━━━━━━━━━━━━━━━━━━━━━━━━━━━┳━━━━━━━━━━━━━━━━━━━━━━━┳━━━━━━━━━━━━┳━━━━━━━┓\n",
       "┃<span style=\"font-weight: bold\"> Layer (type)                </span>┃<span style=\"font-weight: bold\"> Output Shape          </span>┃<span style=\"font-weight: bold\">    Param # </span>┃<span style=\"font-weight: bold\"> Trai… </span>┃\n",
       "┡━━━━━━━━━━━━━━━━━━━━━━━━━━━━━╇━━━━━━━━━━━━━━━━━━━━━━━╇━━━━━━━━━━━━╇━━━━━━━┩\n",
       "│ input_layer_2 (<span style=\"color: #0087ff; text-decoration-color: #0087ff\">InputLayer</span>)  │ (<span style=\"color: #00d7ff; text-decoration-color: #00d7ff\">None</span>, <span style=\"color: #00af00; text-decoration-color: #00af00\">256</span>, <span style=\"color: #00af00; text-decoration-color: #00af00\">256</span>, <span style=\"color: #00af00; text-decoration-color: #00af00\">3</span>)   │          <span style=\"color: #00af00; text-decoration-color: #00af00\">0</span> │   <span style=\"font-weight: bold\">-</span>   │\n",
       "├─────────────────────────────┼───────────────────────┼────────────┼───────┤\n",
       "│ xception (<span style=\"color: #0087ff; text-decoration-color: #0087ff\">Functional</span>)       │ (<span style=\"color: #00d7ff; text-decoration-color: #00d7ff\">None</span>, <span style=\"color: #00af00; text-decoration-color: #00af00\">8</span>, <span style=\"color: #00af00; text-decoration-color: #00af00\">8</span>, <span style=\"color: #00af00; text-decoration-color: #00af00\">2048</span>)    │ <span style=\"color: #00af00; text-decoration-color: #00af00\">20,861,480</span> │   <span style=\"color: #ff0000; text-decoration-color: #ff0000; font-weight: bold\">N</span>   │\n",
       "├─────────────────────────────┼───────────────────────┼────────────┼───────┤\n",
       "│ global_average_pooling2d_1  │ (<span style=\"color: #00d7ff; text-decoration-color: #00d7ff\">None</span>, <span style=\"color: #00af00; text-decoration-color: #00af00\">2048</span>)          │          <span style=\"color: #00af00; text-decoration-color: #00af00\">0</span> │   <span style=\"font-weight: bold\">-</span>   │\n",
       "│ (<span style=\"color: #0087ff; text-decoration-color: #0087ff\">GlobalAveragePooling2D</span>)    │                       │            │       │\n",
       "├─────────────────────────────┼───────────────────────┼────────────┼───────┤\n",
       "│ dense_2 (<span style=\"color: #0087ff; text-decoration-color: #0087ff\">Dense</span>)             │ (<span style=\"color: #00d7ff; text-decoration-color: #00d7ff\">None</span>, <span style=\"color: #00af00; text-decoration-color: #00af00\">1024</span>)          │  <span style=\"color: #00af00; text-decoration-color: #00af00\">2,098,176</span> │   <span style=\"color: #00af00; text-decoration-color: #00af00; font-weight: bold\">Y</span>   │\n",
       "├─────────────────────────────┼───────────────────────┼────────────┼───────┤\n",
       "│ dropout_1 (<span style=\"color: #0087ff; text-decoration-color: #0087ff\">Dropout</span>)         │ (<span style=\"color: #00d7ff; text-decoration-color: #00d7ff\">None</span>, <span style=\"color: #00af00; text-decoration-color: #00af00\">1024</span>)          │          <span style=\"color: #00af00; text-decoration-color: #00af00\">0</span> │   <span style=\"font-weight: bold\">-</span>   │\n",
       "├─────────────────────────────┼───────────────────────┼────────────┼───────┤\n",
       "│ dense_3 (<span style=\"color: #0087ff; text-decoration-color: #0087ff\">Dense</span>)             │ (<span style=\"color: #00d7ff; text-decoration-color: #00d7ff\">None</span>, <span style=\"color: #00af00; text-decoration-color: #00af00\">1</span>)             │      <span style=\"color: #00af00; text-decoration-color: #00af00\">1,025</span> │   <span style=\"color: #00af00; text-decoration-color: #00af00; font-weight: bold\">Y</span>   │\n",
       "└─────────────────────────────┴───────────────────────┴────────────┴───────┘\n",
       "</pre>\n"
      ],
      "text/plain": [
       "┏━━━━━━━━━━━━━━━━━━━━━━━━━━━━━┳━━━━━━━━━━━━━━━━━━━━━━━┳━━━━━━━━━━━━┳━━━━━━━┓\n",
       "┃\u001b[1m \u001b[0m\u001b[1mLayer (type)               \u001b[0m\u001b[1m \u001b[0m┃\u001b[1m \u001b[0m\u001b[1mOutput Shape         \u001b[0m\u001b[1m \u001b[0m┃\u001b[1m \u001b[0m\u001b[1m   Param #\u001b[0m\u001b[1m \u001b[0m┃\u001b[1m \u001b[0m\u001b[1mTrai…\u001b[0m\u001b[1m \u001b[0m┃\n",
       "┡━━━━━━━━━━━━━━━━━━━━━━━━━━━━━╇━━━━━━━━━━━━━━━━━━━━━━━╇━━━━━━━━━━━━╇━━━━━━━┩\n",
       "│ input_layer_2 (\u001b[38;5;33mInputLayer\u001b[0m)  │ (\u001b[38;5;45mNone\u001b[0m, \u001b[38;5;34m256\u001b[0m, \u001b[38;5;34m256\u001b[0m, \u001b[38;5;34m3\u001b[0m)   │          \u001b[38;5;34m0\u001b[0m │   \u001b[1m-\u001b[0m   │\n",
       "├─────────────────────────────┼───────────────────────┼────────────┼───────┤\n",
       "│ xception (\u001b[38;5;33mFunctional\u001b[0m)       │ (\u001b[38;5;45mNone\u001b[0m, \u001b[38;5;34m8\u001b[0m, \u001b[38;5;34m8\u001b[0m, \u001b[38;5;34m2048\u001b[0m)    │ \u001b[38;5;34m20,861,480\u001b[0m │   \u001b[1;91mN\u001b[0m   │\n",
       "├─────────────────────────────┼───────────────────────┼────────────┼───────┤\n",
       "│ global_average_pooling2d_1  │ (\u001b[38;5;45mNone\u001b[0m, \u001b[38;5;34m2048\u001b[0m)          │          \u001b[38;5;34m0\u001b[0m │   \u001b[1m-\u001b[0m   │\n",
       "│ (\u001b[38;5;33mGlobalAveragePooling2D\u001b[0m)    │                       │            │       │\n",
       "├─────────────────────────────┼───────────────────────┼────────────┼───────┤\n",
       "│ dense_2 (\u001b[38;5;33mDense\u001b[0m)             │ (\u001b[38;5;45mNone\u001b[0m, \u001b[38;5;34m1024\u001b[0m)          │  \u001b[38;5;34m2,098,176\u001b[0m │   \u001b[1;38;5;34mY\u001b[0m   │\n",
       "├─────────────────────────────┼───────────────────────┼────────────┼───────┤\n",
       "│ dropout_1 (\u001b[38;5;33mDropout\u001b[0m)         │ (\u001b[38;5;45mNone\u001b[0m, \u001b[38;5;34m1024\u001b[0m)          │          \u001b[38;5;34m0\u001b[0m │   \u001b[1m-\u001b[0m   │\n",
       "├─────────────────────────────┼───────────────────────┼────────────┼───────┤\n",
       "│ dense_3 (\u001b[38;5;33mDense\u001b[0m)             │ (\u001b[38;5;45mNone\u001b[0m, \u001b[38;5;34m1\u001b[0m)             │      \u001b[38;5;34m1,025\u001b[0m │   \u001b[1;38;5;34mY\u001b[0m   │\n",
       "└─────────────────────────────┴───────────────────────┴────────────┴───────┘\n"
      ]
     },
     "metadata": {},
     "output_type": "display_data"
    },
    {
     "data": {
      "text/html": [
       "<pre style=\"white-space:pre;overflow-x:auto;line-height:normal;font-family:Menlo,'DejaVu Sans Mono',consolas,'Courier New',monospace\"><span style=\"font-weight: bold\"> Total params: </span><span style=\"color: #00af00; text-decoration-color: #00af00\">36,660,781</span> (139.85 MB)\n",
       "</pre>\n"
      ],
      "text/plain": [
       "\u001b[1m Total params: \u001b[0m\u001b[38;5;34m36,660,781\u001b[0m (139.85 MB)\n"
      ]
     },
     "metadata": {},
     "output_type": "display_data"
    },
    {
     "data": {
      "text/html": [
       "<pre style=\"white-space:pre;overflow-x:auto;line-height:normal;font-family:Menlo,'DejaVu Sans Mono',consolas,'Courier New',monospace\"><span style=\"font-weight: bold\"> Trainable params: </span><span style=\"color: #00af00; text-decoration-color: #00af00\">7,595,521</span> (28.97 MB)\n",
       "</pre>\n"
      ],
      "text/plain": [
       "\u001b[1m Trainable params: \u001b[0m\u001b[38;5;34m7,595,521\u001b[0m (28.97 MB)\n"
      ]
     },
     "metadata": {},
     "output_type": "display_data"
    },
    {
     "data": {
      "text/html": [
       "<pre style=\"white-space:pre;overflow-x:auto;line-height:normal;font-family:Menlo,'DejaVu Sans Mono',consolas,'Courier New',monospace\"><span style=\"font-weight: bold\"> Non-trainable params: </span><span style=\"color: #00af00; text-decoration-color: #00af00\">15,365,160</span> (58.61 MB)\n",
       "</pre>\n"
      ],
      "text/plain": [
       "\u001b[1m Non-trainable params: \u001b[0m\u001b[38;5;34m15,365,160\u001b[0m (58.61 MB)\n"
      ]
     },
     "metadata": {},
     "output_type": "display_data"
    },
    {
     "data": {
      "text/html": [
       "<pre style=\"white-space:pre;overflow-x:auto;line-height:normal;font-family:Menlo,'DejaVu Sans Mono',consolas,'Courier New',monospace\"><span style=\"font-weight: bold\"> Optimizer params: </span><span style=\"color: #00af00; text-decoration-color: #00af00\">13,700,100</span> (52.26 MB)\n",
       "</pre>\n"
      ],
      "text/plain": [
       "\u001b[1m Optimizer params: \u001b[0m\u001b[38;5;34m13,700,100\u001b[0m (52.26 MB)\n"
      ]
     },
     "metadata": {},
     "output_type": "display_data"
    }
   ],
   "source": [
    "for layer in base_model.layers[-10:]:\n",
    "    layer.trainable = True\n",
    "model.summary(show_trainable=True)"
   ]
  },
  {
   "cell_type": "code",
   "execution_count": 69,
   "id": "44eb19c4-003d-4b3e-9aad-eb8c96de19bc",
   "metadata": {},
   "outputs": [],
   "source": [
    "callback = EarlyStopping(patience=5, restore_best_weights=True, monitor=\"val_loss\", start_from_epoch=15)"
   ]
  },
  {
   "cell_type": "code",
   "execution_count": 70,
   "id": "6708952a-81dd-4409-bba8-ee2fbd9ec9de",
   "metadata": {
    "scrolled": true
   },
   "outputs": [
    {
     "name": "stdout",
     "output_type": "stream",
     "text": [
      "Epoch 1/60\n",
      "\u001b[1m68/68\u001b[0m \u001b[32m━━━━━━━━━━━━━━━━━━━━\u001b[0m\u001b[37m\u001b[0m \u001b[1m22s\u001b[0m 195ms/step - accuracy: 0.9465 - loss: 0.2457 - val_accuracy: 0.7964 - val_loss: 0.4978\n",
      "Epoch 2/60\n",
      "\u001b[1m68/68\u001b[0m \u001b[32m━━━━━━━━━━━━━━━━━━━━\u001b[0m\u001b[37m\u001b[0m \u001b[1m9s\u001b[0m 89ms/step - accuracy: 0.9525 - loss: 0.2323 - val_accuracy: 0.8006 - val_loss: 0.4885\n",
      "Epoch 3/60\n",
      "\u001b[1m68/68\u001b[0m \u001b[32m━━━━━━━━━━━━━━━━━━━━\u001b[0m\u001b[37m\u001b[0m \u001b[1m7s\u001b[0m 106ms/step - accuracy: 0.9567 - loss: 0.2275 - val_accuracy: 0.8006 - val_loss: 0.4941\n",
      "Epoch 4/60\n",
      "\u001b[1m68/68\u001b[0m \u001b[32m━━━━━━━━━━━━━━━━━━━━\u001b[0m\u001b[37m\u001b[0m \u001b[1m10s\u001b[0m 107ms/step - accuracy: 0.9567 - loss: 0.2196 - val_accuracy: 0.8006 - val_loss: 0.4822\n",
      "Epoch 5/60\n",
      "\u001b[1m68/68\u001b[0m \u001b[32m━━━━━━━━━━━━━━━━━━━━\u001b[0m\u001b[37m\u001b[0m \u001b[1m9s\u001b[0m 90ms/step - accuracy: 0.9648 - loss: 0.2128 - val_accuracy: 0.8020 - val_loss: 0.4854\n",
      "Epoch 6/60\n",
      "\u001b[1m68/68\u001b[0m \u001b[32m━━━━━━━━━━━━━━━━━━━━\u001b[0m\u001b[37m\u001b[0m \u001b[1m7s\u001b[0m 107ms/step - accuracy: 0.9640 - loss: 0.2048 - val_accuracy: 0.8020 - val_loss: 0.4836\n",
      "Epoch 7/60\n",
      "\u001b[1m68/68\u001b[0m \u001b[32m━━━━━━━━━━━━━━━━━━━━\u001b[0m\u001b[37m\u001b[0m \u001b[1m9s\u001b[0m 90ms/step - accuracy: 0.9680 - loss: 0.2036 - val_accuracy: 0.8006 - val_loss: 0.4825\n",
      "Epoch 8/60\n",
      "\u001b[1m68/68\u001b[0m \u001b[32m━━━━━━━━━━━━━━━━━━━━\u001b[0m\u001b[37m\u001b[0m \u001b[1m10s\u001b[0m 89ms/step - accuracy: 0.9689 - loss: 0.2000 - val_accuracy: 0.8033 - val_loss: 0.4834\n",
      "Epoch 9/60\n",
      "\u001b[1m68/68\u001b[0m \u001b[32m━━━━━━━━━━━━━━━━━━━━\u001b[0m\u001b[37m\u001b[0m \u001b[1m7s\u001b[0m 107ms/step - accuracy: 0.9678 - loss: 0.1950 - val_accuracy: 0.8075 - val_loss: 0.4774\n",
      "Epoch 10/60\n",
      "\u001b[1m68/68\u001b[0m \u001b[32m━━━━━━━━━━━━━━━━━━━━\u001b[0m\u001b[37m\u001b[0m \u001b[1m6s\u001b[0m 88ms/step - accuracy: 0.9766 - loss: 0.1865 - val_accuracy: 0.8061 - val_loss: 0.4842\n",
      "Epoch 11/60\n",
      "\u001b[1m68/68\u001b[0m \u001b[32m━━━━━━━━━━━━━━━━━━━━\u001b[0m\u001b[37m\u001b[0m \u001b[1m10s\u001b[0m 90ms/step - accuracy: 0.9786 - loss: 0.1857 - val_accuracy: 0.8033 - val_loss: 0.4830\n",
      "Epoch 12/60\n",
      "\u001b[1m68/68\u001b[0m \u001b[32m━━━━━━━━━━━━━━━━━━━━\u001b[0m\u001b[37m\u001b[0m \u001b[1m10s\u001b[0m 90ms/step - accuracy: 0.9775 - loss: 0.1788 - val_accuracy: 0.8061 - val_loss: 0.4815\n",
      "Epoch 13/60\n",
      "\u001b[1m68/68\u001b[0m \u001b[32m━━━━━━━━━━━━━━━━━━━━\u001b[0m\u001b[37m\u001b[0m \u001b[1m7s\u001b[0m 108ms/step - accuracy: 0.9782 - loss: 0.1730 - val_accuracy: 0.8187 - val_loss: 0.4783\n",
      "Epoch 14/60\n",
      "\u001b[1m68/68\u001b[0m \u001b[32m━━━━━━━━━━━━━━━━━━━━\u001b[0m\u001b[37m\u001b[0m \u001b[1m9s\u001b[0m 90ms/step - accuracy: 0.9819 - loss: 0.1675 - val_accuracy: 0.8187 - val_loss: 0.4799\n",
      "Epoch 15/60\n",
      "\u001b[1m68/68\u001b[0m \u001b[32m━━━━━━━━━━━━━━━━━━━━\u001b[0m\u001b[37m\u001b[0m \u001b[1m7s\u001b[0m 106ms/step - accuracy: 0.9846 - loss: 0.1634 - val_accuracy: 0.8187 - val_loss: 0.4823\n",
      "Epoch 16/60\n",
      "\u001b[1m68/68\u001b[0m \u001b[32m━━━━━━━━━━━━━━━━━━━━\u001b[0m\u001b[37m\u001b[0m \u001b[1m10s\u001b[0m 110ms/step - accuracy: 0.9818 - loss: 0.1619 - val_accuracy: 0.8201 - val_loss: 0.4807\n",
      "Epoch 17/60\n",
      "\u001b[1m68/68\u001b[0m \u001b[32m━━━━━━━━━━━━━━━━━━━━\u001b[0m\u001b[37m\u001b[0m \u001b[1m7s\u001b[0m 108ms/step - accuracy: 0.9866 - loss: 0.1573 - val_accuracy: 0.8187 - val_loss: 0.4827\n",
      "Epoch 18/60\n",
      "\u001b[1m68/68\u001b[0m \u001b[32m━━━━━━━━━━━━━━━━━━━━\u001b[0m\u001b[37m\u001b[0m \u001b[1m10s\u001b[0m 106ms/step - accuracy: 0.9853 - loss: 0.1547 - val_accuracy: 0.8201 - val_loss: 0.4863\n",
      "Epoch 19/60\n",
      "\u001b[1m68/68\u001b[0m \u001b[32m━━━━━━━━━━━━━━━━━━━━\u001b[0m\u001b[37m\u001b[0m \u001b[1m6s\u001b[0m 90ms/step - accuracy: 0.9885 - loss: 0.1481 - val_accuracy: 0.8173 - val_loss: 0.4859\n",
      "Epoch 20/60\n",
      "\u001b[1m68/68\u001b[0m \u001b[32m━━━━━━━━━━━━━━━━━━━━\u001b[0m\u001b[37m\u001b[0m \u001b[1m11s\u001b[0m 106ms/step - accuracy: 0.9866 - loss: 0.1455 - val_accuracy: 0.8145 - val_loss: 0.4886\n",
      "Epoch 21/60\n",
      "\u001b[1m68/68\u001b[0m \u001b[32m━━━━━━━━━━━━━━━━━━━━\u001b[0m\u001b[37m\u001b[0m \u001b[1m7s\u001b[0m 108ms/step - accuracy: 0.9895 - loss: 0.1423 - val_accuracy: 0.8131 - val_loss: 0.4951\n"
     ]
    }
   ],
   "source": [
    "# top 10 layers unfrozen\n",
    "model.compile(optimizer=keras.optimizers.Adam(5e-6),\n",
    "              loss='binary_crossentropy',\n",
    "              metrics=['accuracy'])\n",
    "\n",
    "epochs=60\n",
    "history = model.fit(train_dataset, epochs=epochs, validation_data=val_dataset, callbacks=callback)"
   ]
  },
  {
   "cell_type": "code",
   "execution_count": 71,
   "id": "18c805e0-3588-4b46-bcec-8af62f2426ba",
   "metadata": {
    "collapsed": true,
    "jupyter": {
     "outputs_hidden": true,
     "source_hidden": true
    },
    "scrolled": true
   },
   "outputs": [
    {
     "data": {
      "image/png": "[encoded data removed]",
      "text/plain": [
       "<Figure size 640x480 with 2 Axes>"
      ]
     },
     "metadata": {},
     "output_type": "display_data"
    }
   ],
   "source": [
    "plot_history(history)"
   ]
  },
  {
   "cell_type": "code",
   "execution_count": 72,
   "id": "df19c2a0-e15b-43f3-9e63-975a2c555b64",
   "metadata": {
    "collapsed": true,
    "jupyter": {
     "outputs_hidden": true,
     "source_hidden": true
    },
    "scrolled": true
   },
   "outputs": [
    {
     "name": "stdout",
     "output_type": "stream",
     "text": [
      "\u001b[1m1/1\u001b[0m \u001b[32m━━━━━━━━━━━━━━━━━━━━\u001b[0m\u001b[37m\u001b[0m \u001b[1m2s\u001b[0m 2s/step\n",
      "\u001b[1m1/1\u001b[0m \u001b[32m━━━━━━━━━━━━━━━━━━━━\u001b[0m\u001b[37m\u001b[0m \u001b[1m0s\u001b[0m 43ms/step\n",
      "\u001b[1m1/1\u001b[0m \u001b[32m━━━━━━━━━━━━━━━━━━━━\u001b[0m\u001b[37m\u001b[0m \u001b[1m0s\u001b[0m 38ms/step\n",
      "\u001b[1m1/1\u001b[0m \u001b[32m━━━━━━━━━━━━━━━━━━━━\u001b[0m\u001b[37m\u001b[0m \u001b[1m0s\u001b[0m 45ms/step\n",
      "\u001b[1m1/1\u001b[0m \u001b[32m━━━━━━━━━━━━━━━━━━━━\u001b[0m\u001b[37m\u001b[0m \u001b[1m0s\u001b[0m 44ms/step\n",
      "\u001b[1m1/1\u001b[0m \u001b[32m━━━━━━━━━━━━━━━━━━━━\u001b[0m\u001b[37m\u001b[0m \u001b[1m0s\u001b[0m 39ms/step\n",
      "\u001b[1m1/1\u001b[0m \u001b[32m━━━━━━━━━━━━━━━━━━━━\u001b[0m\u001b[37m\u001b[0m \u001b[1m0s\u001b[0m 45ms/step\n",
      "\u001b[1m1/1\u001b[0m \u001b[32m━━━━━━━━━━━━━━━━━━━━\u001b[0m\u001b[37m\u001b[0m \u001b[1m0s\u001b[0m 42ms/step\n",
      "\u001b[1m1/1\u001b[0m \u001b[32m━━━━━━━━━━━━━━━━━━━━\u001b[0m\u001b[37m\u001b[0m \u001b[1m0s\u001b[0m 44ms/step\n",
      "\u001b[1m1/1\u001b[0m \u001b[32m━━━━━━━━━━━━━━━━━━━━\u001b[0m\u001b[37m\u001b[0m \u001b[1m0s\u001b[0m 37ms/step\n",
      "\u001b[1m1/1\u001b[0m \u001b[32m━━━━━━━━━━━━━━━━━━━━\u001b[0m\u001b[37m\u001b[0m \u001b[1m0s\u001b[0m 44ms/step\n",
      "\u001b[1m1/1\u001b[0m \u001b[32m━━━━━━━━━━━━━━━━━━━━\u001b[0m\u001b[37m\u001b[0m \u001b[1m0s\u001b[0m 39ms/step\n",
      "\u001b[1m1/1\u001b[0m \u001b[32m━━━━━━━━━━━━━━━━━━━━\u001b[0m\u001b[37m\u001b[0m \u001b[1m0s\u001b[0m 44ms/step\n",
      "\u001b[1m1/1\u001b[0m \u001b[32m━━━━━━━━━━━━━━━━━━━━\u001b[0m\u001b[37m\u001b[0m \u001b[1m0s\u001b[0m 43ms/step\n",
      "\u001b[1m1/1\u001b[0m \u001b[32m━━━━━━━━━━━━━━━━━━━━\u001b[0m\u001b[37m\u001b[0m \u001b[1m0s\u001b[0m 37ms/step\n",
      "\u001b[1m1/1\u001b[0m \u001b[32m━━━━━━━━━━━━━━━━━━━━\u001b[0m\u001b[37m\u001b[0m \u001b[1m0s\u001b[0m 44ms/step\n",
      "\u001b[1m1/1\u001b[0m \u001b[32m━━━━━━━━━━━━━━━━━━━━\u001b[0m\u001b[37m\u001b[0m \u001b[1m0s\u001b[0m 44ms/step\n",
      "\u001b[1m1/1\u001b[0m \u001b[32m━━━━━━━━━━━━━━━━━━━━\u001b[0m\u001b[37m\u001b[0m \u001b[1m0s\u001b[0m 40ms/step\n",
      "\u001b[1m1/1\u001b[0m \u001b[32m━━━━━━━━━━━━━━━━━━━━\u001b[0m\u001b[37m\u001b[0m \u001b[1m0s\u001b[0m 39ms/step\n",
      "\u001b[1m1/1\u001b[0m \u001b[32m━━━━━━━━━━━━━━━━━━━━\u001b[0m\u001b[37m\u001b[0m \u001b[1m0s\u001b[0m 39ms/step\n",
      "\u001b[1m1/1\u001b[0m \u001b[32m━━━━━━━━━━━━━━━━━━━━\u001b[0m\u001b[37m\u001b[0m \u001b[1m0s\u001b[0m 41ms/step\n",
      "\u001b[1m1/1\u001b[0m \u001b[32m━━━━━━━━━━━━━━━━━━━━\u001b[0m\u001b[37m\u001b[0m \u001b[1m0s\u001b[0m 43ms/step\n",
      "\u001b[1m1/1\u001b[0m \u001b[32m━━━━━━━━━━━━━━━━━━━━\u001b[0m\u001b[37m\u001b[0m \u001b[1m2s\u001b[0m 2s/step\n"
     ]
    }
   ],
   "source": [
    "true, pred = predict(test_dataset, model)"
   ]
  },
  {
   "cell_type": "code",
   "execution_count": 73,
   "id": "29fdc492-6b7e-428b-a792-34778b96b0b5",
   "metadata": {},
   "outputs": [
    {
     "name": "stdout",
     "output_type": "stream",
     "text": [
      "              precision    recall  f1-score   support\n",
      "\n",
      "           0       0.67      0.70      0.69       198\n",
      "           1       0.88      0.87      0.88       520\n",
      "\n",
      "    accuracy                           0.82       718\n",
      "   macro avg       0.78      0.79      0.78       718\n",
      "weighted avg       0.83      0.82      0.82       718\n",
      "\n"
     ]
    }
   ],
   "source": [
    "print(classification_report(true, pred))"
   ]
  },
  {
   "cell_type": "code",
   "execution_count": 74,
   "id": "87a2700b-167d-487e-af8e-1f220e20faa7",
   "metadata": {},
   "outputs": [
    {
     "data": {
      "image/png": "[encoded data removed]",
      "text/plain": [
       "<Figure size 640x480 with 2 Axes>"
      ]
     },
     "metadata": {},
     "output_type": "display_data"
    }
   ],
   "source": [
    "cm = confusion_matrix(true, pred)\n",
    "disp = ConfusionMatrixDisplay(confusion_matrix=cm)\n",
    "disp.plot()\n",
    "plt.tight_layout()"
   ]
  },
  {
   "cell_type": "code",
   "execution_count": 75,
   "id": "52eff552-b765-4038-a830-ae5312911fa6",
   "metadata": {},
   "outputs": [],
   "source": [
    "model.save(\"10-layers-big-binary.keras\")"
   ]
  },
  {
   "cell_type": "markdown",
   "id": "21843d49-30a0-4003-a497-dbedeff23164",
   "metadata": {},
   "source": [
    "Both models perform similarly in a binary context (i.e., combining the 0s and 1s into a single class)"
   ]
  },
  {
   "cell_type": "markdown",
   "id": "6df9d668-5f64-4080-ba55-558e46cb6c50",
   "metadata": {
    "jp-MarkdownHeadingCollapsed": true
   },
   "source": [
    "## ROC and Precision-Recall curves"
   ]
  },
  {
   "cell_type": "code",
   "execution_count": 93,
   "id": "5016ec14-e48e-4a79-afab-215b98ffb587",
   "metadata": {},
   "outputs": [
    {
     "data": {
      "image/png": "[encoded data removed]",
      "text/plain": [
       "<Figure size 640x480 with 1 Axes>"
      ]
     },
     "metadata": {},
     "output_type": "display_data"
    }
   ],
   "source": [
    "disp = RocCurveDisplay.from_predictions(true, pred, name=\"binary\", plot_chance_level=True)\n",
    "# plt.plot([0, 1], [0, 1], color='k', linestyle='--')"
   ]
  },
  {
   "cell_type": "code",
   "execution_count": 91,
   "id": "ba3d9cc3-176e-4e72-8d5c-19a74307ffd2",
   "metadata": {},
   "outputs": [
    {
     "data": {
      "image/png": "[encoded data removed]",
      "text/plain": [
       "<Figure size 640x480 with 1 Axes>"
      ]
     },
     "metadata": {},
     "output_type": "display_data"
    }
   ],
   "source": [
    "disp = PrecisionRecallDisplay.from_predictions(true, pred, name=\"binary\", plot_chance_level=True)"
   ]
  },
  {
   "cell_type": "code",
   "execution_count": null,
   "id": "3237e40c-2214-4ba5-bbd6-3fc516969e41",
   "metadata": {},
   "outputs": [],
   "source": []
  }
 ],
 "metadata": {
  "kernelspec": {
   "display_name": "Python 3 (ipykernel)",
   "language": "python",
   "name": "python3"
  },
  "language_info": {
   "codemirror_mode": {
    "name": "ipython",
    "version": 3
   },
   "file_extension": ".py",
   "mimetype": "text/x-python",
   "name": "python",
   "nbconvert_exporter": "python",
   "pygments_lexer": "ipython3",
   "version": "3.11.8"
  }
 },
 "nbformat": 4,
 "nbformat_minor": 5
}
